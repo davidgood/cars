{
 "cells": [
  {
   "cell_type": "code",
   "execution_count": 23,
   "metadata": {},
   "outputs": [
    {
     "data": {
      "text/plain": "                 vin back_legroom  bed bed_height bed_length        body_type  \\\n0  ZACNJABB5KPJ92081      35.1 in  NaN        NaN        NaN  SUV / Crossover   \n1  SALCJ2FX1LH858117      38.1 in  NaN        NaN        NaN  SUV / Crossover   \n2  JF1VA2M67G9829723      35.4 in  NaN        NaN        NaN            Sedan   \n3  SALRR2RV0L2433391      37.6 in  NaN        NaN        NaN  SUV / Crossover   \n4  SALCJ2FXXLH862327      38.1 in  NaN        NaN        NaN  SUV / Crossover   \n\n  cabin      city  city_fuel_economy  combine_fuel_economy  ...  transmission  \\\n0   NaN   Bayamon                NaN                   NaN  ...             A   \n1   NaN  San Juan                NaN                   NaN  ...             A   \n2   NaN  Guaynabo               17.0                   NaN  ...             M   \n3   NaN  San Juan                NaN                   NaN  ...             A   \n4   NaN  San Juan                NaN                   NaN  ...             A   \n\n          transmission_display  trimId     trim_name  vehicle_damage_category  \\\n0  9-Speed Automatic Overdrive  t83804  Latitude FWD                      NaN   \n1  9-Speed Automatic Overdrive  t86759         S AWD                      NaN   \n2               6-Speed Manual  t58994          Base                      NaN   \n3  8-Speed Automatic Overdrive  t86074    V6 HSE AWD                      NaN   \n4  9-Speed Automatic Overdrive  t86759         S AWD                      NaN   \n\n  wheel_system wheel_system_display wheelbase    width  year  \n0          FWD    Front-Wheel Drive  101.2 in  79.6 in  2019  \n1          AWD      All-Wheel Drive  107.9 in  85.6 in  2020  \n2          AWD      All-Wheel Drive  104.3 in  78.9 in  2016  \n3          AWD      All-Wheel Drive    115 in  87.4 in  2020  \n4          AWD      All-Wheel Drive  107.9 in  85.6 in  2020  \n\n[5 rows x 66 columns]",
      "text/html": "<div>\n<style scoped>\n    .dataframe tbody tr th:only-of-type {\n        vertical-align: middle;\n    }\n\n    .dataframe tbody tr th {\n        vertical-align: top;\n    }\n\n    .dataframe thead th {\n        text-align: right;\n    }\n</style>\n<table border=\"1\" class=\"dataframe\">\n  <thead>\n    <tr style=\"text-align: right;\">\n      <th></th>\n      <th>vin</th>\n      <th>back_legroom</th>\n      <th>bed</th>\n      <th>bed_height</th>\n      <th>bed_length</th>\n      <th>body_type</th>\n      <th>cabin</th>\n      <th>city</th>\n      <th>city_fuel_economy</th>\n      <th>combine_fuel_economy</th>\n      <th>...</th>\n      <th>transmission</th>\n      <th>transmission_display</th>\n      <th>trimId</th>\n      <th>trim_name</th>\n      <th>vehicle_damage_category</th>\n      <th>wheel_system</th>\n      <th>wheel_system_display</th>\n      <th>wheelbase</th>\n      <th>width</th>\n      <th>year</th>\n    </tr>\n  </thead>\n  <tbody>\n    <tr>\n      <th>0</th>\n      <td>ZACNJABB5KPJ92081</td>\n      <td>35.1 in</td>\n      <td>NaN</td>\n      <td>NaN</td>\n      <td>NaN</td>\n      <td>SUV / Crossover</td>\n      <td>NaN</td>\n      <td>Bayamon</td>\n      <td>NaN</td>\n      <td>NaN</td>\n      <td>...</td>\n      <td>A</td>\n      <td>9-Speed Automatic Overdrive</td>\n      <td>t83804</td>\n      <td>Latitude FWD</td>\n      <td>NaN</td>\n      <td>FWD</td>\n      <td>Front-Wheel Drive</td>\n      <td>101.2 in</td>\n      <td>79.6 in</td>\n      <td>2019</td>\n    </tr>\n    <tr>\n      <th>1</th>\n      <td>SALCJ2FX1LH858117</td>\n      <td>38.1 in</td>\n      <td>NaN</td>\n      <td>NaN</td>\n      <td>NaN</td>\n      <td>SUV / Crossover</td>\n      <td>NaN</td>\n      <td>San Juan</td>\n      <td>NaN</td>\n      <td>NaN</td>\n      <td>...</td>\n      <td>A</td>\n      <td>9-Speed Automatic Overdrive</td>\n      <td>t86759</td>\n      <td>S AWD</td>\n      <td>NaN</td>\n      <td>AWD</td>\n      <td>All-Wheel Drive</td>\n      <td>107.9 in</td>\n      <td>85.6 in</td>\n      <td>2020</td>\n    </tr>\n    <tr>\n      <th>2</th>\n      <td>JF1VA2M67G9829723</td>\n      <td>35.4 in</td>\n      <td>NaN</td>\n      <td>NaN</td>\n      <td>NaN</td>\n      <td>Sedan</td>\n      <td>NaN</td>\n      <td>Guaynabo</td>\n      <td>17.0</td>\n      <td>NaN</td>\n      <td>...</td>\n      <td>M</td>\n      <td>6-Speed Manual</td>\n      <td>t58994</td>\n      <td>Base</td>\n      <td>NaN</td>\n      <td>AWD</td>\n      <td>All-Wheel Drive</td>\n      <td>104.3 in</td>\n      <td>78.9 in</td>\n      <td>2016</td>\n    </tr>\n    <tr>\n      <th>3</th>\n      <td>SALRR2RV0L2433391</td>\n      <td>37.6 in</td>\n      <td>NaN</td>\n      <td>NaN</td>\n      <td>NaN</td>\n      <td>SUV / Crossover</td>\n      <td>NaN</td>\n      <td>San Juan</td>\n      <td>NaN</td>\n      <td>NaN</td>\n      <td>...</td>\n      <td>A</td>\n      <td>8-Speed Automatic Overdrive</td>\n      <td>t86074</td>\n      <td>V6 HSE AWD</td>\n      <td>NaN</td>\n      <td>AWD</td>\n      <td>All-Wheel Drive</td>\n      <td>115 in</td>\n      <td>87.4 in</td>\n      <td>2020</td>\n    </tr>\n    <tr>\n      <th>4</th>\n      <td>SALCJ2FXXLH862327</td>\n      <td>38.1 in</td>\n      <td>NaN</td>\n      <td>NaN</td>\n      <td>NaN</td>\n      <td>SUV / Crossover</td>\n      <td>NaN</td>\n      <td>San Juan</td>\n      <td>NaN</td>\n      <td>NaN</td>\n      <td>...</td>\n      <td>A</td>\n      <td>9-Speed Automatic Overdrive</td>\n      <td>t86759</td>\n      <td>S AWD</td>\n      <td>NaN</td>\n      <td>AWD</td>\n      <td>All-Wheel Drive</td>\n      <td>107.9 in</td>\n      <td>85.6 in</td>\n      <td>2020</td>\n    </tr>\n  </tbody>\n</table>\n<p>5 rows × 66 columns</p>\n</div>"
     },
     "execution_count": 23,
     "metadata": {},
     "output_type": "execute_result"
    }
   ],
   "source": [
    "import pandas as pd\n",
    "import numpy as np\n",
    "\n",
    "df = pd.read_csv(\"../data/raw/used_cars_data.csv.zip\",\n",
    "                 dtype={\n",
    "                        'vin': object,\n",
    "                        'back_legroom': object ,\n",
    "                        'bed': object ,\n",
    "                        'bed_height': object ,\n",
    "                        'body_type' : object ,\n",
    "                        'cabin' : object,\n",
    "                        'city' :object,\n",
    "                        'city_fuel_economy' : float,\n",
    "                        'combine_fuel_economy' : float,\n",
    "                        'daysonmarket' : int ,\n",
    "                        'dealer_zip' : object,\n",
    "                        'description' :object ,\n",
    "                        'engine_cylinders' :object ,\n",
    "                        'engine_displacement' : float,\n",
    "                        'engine_type' : object ,\n",
    "                        'exterior_color' : object ,\n",
    "                        'fleet' :object ,\n",
    "                        'frame_damaged' : object ,\n",
    "                        'franchise_dealer' : 'bool',\n",
    "                        'franchise_make' : object ,\n",
    "                        'front_legroom' :object ,\n",
    "                        'fuel_tank_volume' : object ,\n",
    "                        'fuel_type' :object ,\n",
    "                        'has_accidents' : object ,\n",
    "                        'height' :object ,\n",
    "                        'highway_fuel_economy' : float,\n",
    "                        'horsepower' : float,\n",
    "                        'interior_color' : object ,\n",
    "                        'isCab' :object ,\n",
    "                        'is_certified' : float,\n",
    "                        'is_cpo' : object ,\n",
    "                        'is_new' :'bool' ,\n",
    "                        'is_oemcpo' :object ,\n",
    "                        'latitude' : float,\n",
    "                        'length' :object ,\n",
    "                        'listed_date' :object ,\n",
    "                        'listing_color' :object ,\n",
    "                        'listing_id' : int ,\n",
    "                        'longitude' : float,\n",
    "                        'main_picture_url' :object ,\n",
    "                        'major_options' :object ,\n",
    "                        'make_name' : object ,\n",
    "                        'maximum_seating' :object ,\n",
    "                        'model_name' : object,\n",
    "                        'owner_count' : float,\n",
    "                        'power' : object ,\n",
    "                        'price' : float,\n",
    "                        'salvage' :object,\n",
    "                        'savings_amount' : int ,\n",
    "                        'seller_rating' : float,\n",
    "                        'sp_id' : float,\n",
    "                        'sp_name' : object ,\n",
    "                        'theft_title' : object ,\n",
    "                        'torque' :object ,\n",
    "                        'transmission' : object ,\n",
    "                        'transmission_display' : object ,\n",
    "                        'trimId' :object ,\n",
    "                        'trim_name' : object ,\n",
    "                        'vehicle_damage_category' : float,\n",
    "                        'wheel_system' : object,\n",
    "                        'wheel_system_display' : object,\n",
    "                        'wheelbase' : object,\n",
    "                        'width' : object,\n",
    "                        'year' : int\n",
    "         })\n",
    "\n",
    "df.head()"
   ]
  },
  {
   "cell_type": "code",
   "execution_count": 24,
   "metadata": {
    "pycharm": {
     "name": "#%%\n"
    }
   },
   "outputs": [
    {
     "name": "stdout",
     "output_type": "stream",
     "text": [
      "<class 'pandas.core.frame.DataFrame'>\n",
      "RangeIndex: 3000040 entries, 0 to 3000039\n",
      "Data columns (total 66 columns):\n",
      " #   Column                   Dtype  \n",
      "---  ------                   -----  \n",
      " 0   vin                      object \n",
      " 1   back_legroom             object \n",
      " 2   bed                      object \n",
      " 3   bed_height               object \n",
      " 4   bed_length               object \n",
      " 5   body_type                object \n",
      " 6   cabin                    object \n",
      " 7   city                     object \n",
      " 8   city_fuel_economy        float64\n",
      " 9   combine_fuel_economy     float64\n",
      " 10  daysonmarket             int64  \n",
      " 11  dealer_zip               object \n",
      " 12  description              object \n",
      " 13  engine_cylinders         object \n",
      " 14  engine_displacement      float64\n",
      " 15  engine_type              object \n",
      " 16  exterior_color           object \n",
      " 17  fleet                    object \n",
      " 18  frame_damaged            object \n",
      " 19  franchise_dealer         bool   \n",
      " 20  franchise_make           object \n",
      " 21  front_legroom            object \n",
      " 22  fuel_tank_volume         object \n",
      " 23  fuel_type                object \n",
      " 24  has_accidents            object \n",
      " 25  height                   object \n",
      " 26  highway_fuel_economy     float64\n",
      " 27  horsepower               float64\n",
      " 28  interior_color           object \n",
      " 29  isCab                    object \n",
      " 30  is_certified             float64\n",
      " 31  is_cpo                   object \n",
      " 32  is_new                   bool   \n",
      " 33  is_oemcpo                object \n",
      " 34  latitude                 float64\n",
      " 35  length                   object \n",
      " 36  listed_date              object \n",
      " 37  listing_color            object \n",
      " 38  listing_id               int64  \n",
      " 39  longitude                float64\n",
      " 40  main_picture_url         object \n",
      " 41  major_options            object \n",
      " 42  make_name                object \n",
      " 43  maximum_seating          object \n",
      " 44  mileage                  float64\n",
      " 45  model_name               object \n",
      " 46  owner_count              float64\n",
      " 47  power                    object \n",
      " 48  price                    float64\n",
      " 49  salvage                  object \n",
      " 50  savings_amount           int64  \n",
      " 51  seller_rating            float64\n",
      " 52  sp_id                    float64\n",
      " 53  sp_name                  object \n",
      " 54  theft_title              object \n",
      " 55  torque                   object \n",
      " 56  transmission             object \n",
      " 57  transmission_display     object \n",
      " 58  trimId                   object \n",
      " 59  trim_name                object \n",
      " 60  vehicle_damage_category  float64\n",
      " 61  wheel_system             object \n",
      " 62  wheel_system_display     object \n",
      " 63  wheelbase                object \n",
      " 64  width                    object \n",
      " 65  year                     int64  \n",
      "dtypes: bool(2), float64(14), int64(4), object(46)\n",
      "memory usage: 1.4+ GB\n"
     ]
    }
   ],
   "source": [
    "df.info()"
   ]
  },
  {
   "cell_type": "code",
   "execution_count": 30,
   "metadata": {
    "pycharm": {
     "name": "#%%\n"
    }
   },
   "outputs": [
    {
     "data": {
      "application/vnd.plotly.v1+json": {
       "data": [
        {
         "colorscale": [
          [
           0.0,
           "#000000"
          ],
          [
           0.0625,
           "#001f4d"
          ],
          [
           0.125,
           "#003786"
          ],
          [
           0.1875,
           "#0e58a8"
          ],
          [
           0.25,
           "#217eb8"
          ],
          [
           0.3125,
           "#30a4ca"
          ],
          [
           0.375,
           "#54c8df"
          ],
          [
           0.4375,
           "#9be4ef"
          ],
          [
           0.5,
           "#e1e9d1"
          ],
          [
           0.5625,
           "#f3d573"
          ],
          [
           0.625,
           "#e7b000"
          ],
          [
           0.6875,
           "#da8200"
          ],
          [
           0.75,
           "#c65400"
          ],
          [
           0.8125,
           "#ac2301"
          ],
          [
           0.875,
           "#820000"
          ],
          [
           0.9375,
           "#4c0000"
          ],
          [
           1.0,
           "#000000"
          ]
         ],
         "reversescale": false,
         "showscale": false,
         "x": [
          "city_fuel_economy",
          "combine_fuel_economy",
          "daysonmarket",
          "engine_displacement",
          "franchise_dealer",
          "highway_fuel_economy",
          "horsepower",
          "is_certified",
          "is_new",
          "latitude",
          "listing_id",
          "longitude",
          "mileage",
          "owner_count",
          "price",
          "savings_amount",
          "seller_rating",
          "sp_id",
          "vehicle_damage_category",
          "year"
         ],
         "xgap": 3,
         "y": [
          "city_fuel_economy",
          "combine_fuel_economy",
          "daysonmarket",
          "engine_displacement",
          "franchise_dealer",
          "highway_fuel_economy",
          "horsepower",
          "is_certified",
          "is_new",
          "latitude",
          "listing_id",
          "longitude",
          "mileage",
          "owner_count",
          "price",
          "savings_amount",
          "seller_rating",
          "sp_id",
          "vehicle_damage_category",
          "year"
         ],
         "ygap": 3,
         "z": [
          [
           null,
           null,
           null,
           null,
           null,
           null,
           null,
           null,
           null,
           null,
           null,
           null,
           null,
           null,
           null,
           null,
           null,
           null,
           null,
           null
          ],
          [
           null,
           null,
           null,
           null,
           null,
           null,
           null,
           null,
           null,
           null,
           null,
           null,
           null,
           null,
           null,
           null,
           null,
           null,
           null,
           null
          ],
          [
           0.01,
           null,
           null,
           null,
           null,
           null,
           null,
           null,
           null,
           null,
           null,
           null,
           null,
           null,
           null,
           null,
           null,
           null,
           null,
           null
          ],
          [
           -0.67,
           null,
           -0.04,
           null,
           null,
           null,
           null,
           null,
           null,
           null,
           null,
           null,
           null,
           null,
           null,
           null,
           null,
           null,
           null,
           null
          ],
          [
           0.06,
           null,
           0.0,
           -0.06,
           null,
           null,
           null,
           null,
           null,
           null,
           null,
           null,
           null,
           null,
           null,
           null,
           null,
           null,
           null,
           null
          ],
          [
           0.94,
           null,
           0.0,
           -0.69,
           0.04,
           null,
           null,
           null,
           null,
           null,
           null,
           null,
           null,
           null,
           null,
           null,
           null,
           null,
           null,
           null
          ],
          [
           -0.67,
           null,
           -0.02,
           0.83,
           0.03,
           -0.7,
           null,
           null,
           null,
           null,
           null,
           null,
           null,
           null,
           null,
           null,
           null,
           null,
           null,
           null
          ],
          [
           null,
           null,
           null,
           null,
           null,
           null,
           null,
           null,
           null,
           null,
           null,
           null,
           null,
           null,
           null,
           null,
           null,
           null,
           null,
           null
          ],
          [
           0.1,
           null,
           0.17,
           -0.07,
           0.47,
           0.06,
           0.01,
           null,
           null,
           null,
           null,
           null,
           null,
           null,
           null,
           null,
           null,
           null,
           null,
           null
          ],
          [
           -0.04,
           null,
           0.02,
           -0.0,
           0.01,
           -0.06,
           -0.01,
           null,
           -0.05,
           null,
           null,
           null,
           null,
           null,
           null,
           null,
           null,
           null,
           null,
           null
          ],
          [
           -0.01,
           null,
           -1.0,
           0.04,
           0.0,
           0.0,
           0.02,
           null,
           -0.16,
           -0.02,
           null,
           null,
           null,
           null,
           null,
           null,
           null,
           null,
           null,
           null
          ],
          [
           -0.09,
           null,
           0.01,
           -0.01,
           0.02,
           -0.08,
           -0.01,
           null,
           -0.01,
           0.17,
           -0.02,
           null,
           null,
           null,
           null,
           null,
           null,
           null,
           null,
           null
          ],
          [
           -0.15,
           null,
           -0.05,
           0.15,
           -0.32,
           -0.14,
           -0.02,
           null,
           -0.39,
           0.03,
           0.04,
           0.01,
           null,
           null,
           null,
           null,
           null,
           null,
           null,
           null
          ],
          [
           -0.13,
           null,
           0.1,
           0.12,
           -0.27,
           -0.13,
           0.0,
           null,
           -0.01,
           0.0,
           -0.1,
           -0.01,
           0.52,
           null,
           null,
           null,
           null,
           null,
           null,
           null
          ],
          [
           -0.18,
           null,
           0.06,
           0.38,
           0.28,
           -0.26,
           0.61,
           null,
           0.38,
           -0.02,
           -0.06,
           -0.03,
           -0.27,
           -0.23,
           null,
           null,
           null,
           null,
           null,
           null
          ],
          [
           -0.1,
           null,
           -0.08,
           0.14,
           -0.21,
           -0.1,
           0.16,
           null,
           -0.5,
           -0.01,
           0.07,
           -0.01,
           0.15,
           -0.06,
           -0.0,
           null,
           null,
           null,
           null,
           null
          ],
          [
           -0.04,
           null,
           -0.0,
           0.03,
           -0.04,
           -0.05,
           0.06,
           null,
           -0.04,
           0.09,
           0.0,
           0.0,
           0.02,
           0.01,
           0.07,
           0.01,
           null,
           null,
           null,
           null
          ],
          [
           -0.04,
           null,
           0.01,
           0.03,
           -0.41,
           -0.03,
           -0.02,
           null,
           -0.2,
           -0.04,
           -0.01,
           0.02,
           0.14,
           0.16,
           -0.12,
           0.09,
           -0.03,
           null,
           null,
           null
          ],
          [
           null,
           null,
           null,
           null,
           null,
           null,
           null,
           null,
           null,
           null,
           null,
           null,
           null,
           null,
           null,
           null,
           null,
           null,
           null,
           null
          ],
          [
           0.16,
           null,
           -0.0,
           -0.14,
           0.49,
           0.15,
           0.03,
           null,
           0.55,
           -0.07,
           0.01,
           -0.01,
           -0.47,
           -0.59,
           0.36,
           -0.19,
           -0.05,
           -0.21,
           null,
           null
          ]
         ],
         "zmax": 1,
         "zmin": -1,
         "type": "heatmap",
         "colorbar": {
          "thickness": 30,
          "ticklen": 3
         }
        }
       ],
       "layout": {
        "annotations": [
         {
          "font": {
           "color": "#FFFFFF"
          },
          "showarrow": false,
          "text": "",
          "x": "city_fuel_economy",
          "xref": "x",
          "y": "city_fuel_economy",
          "yref": "y"
         },
         {
          "font": {
           "color": "#FFFFFF"
          },
          "showarrow": false,
          "text": "",
          "x": "combine_fuel_economy",
          "xref": "x",
          "y": "city_fuel_economy",
          "yref": "y"
         },
         {
          "font": {
           "color": "#FFFFFF"
          },
          "showarrow": false,
          "text": "",
          "x": "daysonmarket",
          "xref": "x",
          "y": "city_fuel_economy",
          "yref": "y"
         },
         {
          "font": {
           "color": "#FFFFFF"
          },
          "showarrow": false,
          "text": "",
          "x": "engine_displacement",
          "xref": "x",
          "y": "city_fuel_economy",
          "yref": "y"
         },
         {
          "font": {
           "color": "#FFFFFF"
          },
          "showarrow": false,
          "text": "",
          "x": "franchise_dealer",
          "xref": "x",
          "y": "city_fuel_economy",
          "yref": "y"
         },
         {
          "font": {
           "color": "#FFFFFF"
          },
          "showarrow": false,
          "text": "",
          "x": "highway_fuel_economy",
          "xref": "x",
          "y": "city_fuel_economy",
          "yref": "y"
         },
         {
          "font": {
           "color": "#FFFFFF"
          },
          "showarrow": false,
          "text": "",
          "x": "horsepower",
          "xref": "x",
          "y": "city_fuel_economy",
          "yref": "y"
         },
         {
          "font": {
           "color": "#FFFFFF"
          },
          "showarrow": false,
          "text": "",
          "x": "is_certified",
          "xref": "x",
          "y": "city_fuel_economy",
          "yref": "y"
         },
         {
          "font": {
           "color": "#FFFFFF"
          },
          "showarrow": false,
          "text": "",
          "x": "is_new",
          "xref": "x",
          "y": "city_fuel_economy",
          "yref": "y"
         },
         {
          "font": {
           "color": "#FFFFFF"
          },
          "showarrow": false,
          "text": "",
          "x": "latitude",
          "xref": "x",
          "y": "city_fuel_economy",
          "yref": "y"
         },
         {
          "font": {
           "color": "#FFFFFF"
          },
          "showarrow": false,
          "text": "",
          "x": "listing_id",
          "xref": "x",
          "y": "city_fuel_economy",
          "yref": "y"
         },
         {
          "font": {
           "color": "#FFFFFF"
          },
          "showarrow": false,
          "text": "",
          "x": "longitude",
          "xref": "x",
          "y": "city_fuel_economy",
          "yref": "y"
         },
         {
          "font": {
           "color": "#FFFFFF"
          },
          "showarrow": false,
          "text": "",
          "x": "mileage",
          "xref": "x",
          "y": "city_fuel_economy",
          "yref": "y"
         },
         {
          "font": {
           "color": "#FFFFFF"
          },
          "showarrow": false,
          "text": "",
          "x": "owner_count",
          "xref": "x",
          "y": "city_fuel_economy",
          "yref": "y"
         },
         {
          "font": {
           "color": "#FFFFFF"
          },
          "showarrow": false,
          "text": "",
          "x": "price",
          "xref": "x",
          "y": "city_fuel_economy",
          "yref": "y"
         },
         {
          "font": {
           "color": "#FFFFFF"
          },
          "showarrow": false,
          "text": "",
          "x": "savings_amount",
          "xref": "x",
          "y": "city_fuel_economy",
          "yref": "y"
         },
         {
          "font": {
           "color": "#FFFFFF"
          },
          "showarrow": false,
          "text": "",
          "x": "seller_rating",
          "xref": "x",
          "y": "city_fuel_economy",
          "yref": "y"
         },
         {
          "font": {
           "color": "#FFFFFF"
          },
          "showarrow": false,
          "text": "",
          "x": "sp_id",
          "xref": "x",
          "y": "city_fuel_economy",
          "yref": "y"
         },
         {
          "font": {
           "color": "#FFFFFF"
          },
          "showarrow": false,
          "text": "",
          "x": "vehicle_damage_category",
          "xref": "x",
          "y": "city_fuel_economy",
          "yref": "y"
         },
         {
          "font": {
           "color": "#FFFFFF"
          },
          "showarrow": false,
          "text": "",
          "x": "year",
          "xref": "x",
          "y": "city_fuel_economy",
          "yref": "y"
         },
         {
          "font": {
           "color": "#FFFFFF"
          },
          "showarrow": false,
          "text": "",
          "x": "city_fuel_economy",
          "xref": "x",
          "y": "combine_fuel_economy",
          "yref": "y"
         },
         {
          "font": {
           "color": "#FFFFFF"
          },
          "showarrow": false,
          "text": "",
          "x": "combine_fuel_economy",
          "xref": "x",
          "y": "combine_fuel_economy",
          "yref": "y"
         },
         {
          "font": {
           "color": "#FFFFFF"
          },
          "showarrow": false,
          "text": "",
          "x": "daysonmarket",
          "xref": "x",
          "y": "combine_fuel_economy",
          "yref": "y"
         },
         {
          "font": {
           "color": "#FFFFFF"
          },
          "showarrow": false,
          "text": "",
          "x": "engine_displacement",
          "xref": "x",
          "y": "combine_fuel_economy",
          "yref": "y"
         },
         {
          "font": {
           "color": "#FFFFFF"
          },
          "showarrow": false,
          "text": "",
          "x": "franchise_dealer",
          "xref": "x",
          "y": "combine_fuel_economy",
          "yref": "y"
         },
         {
          "font": {
           "color": "#FFFFFF"
          },
          "showarrow": false,
          "text": "",
          "x": "highway_fuel_economy",
          "xref": "x",
          "y": "combine_fuel_economy",
          "yref": "y"
         },
         {
          "font": {
           "color": "#FFFFFF"
          },
          "showarrow": false,
          "text": "",
          "x": "horsepower",
          "xref": "x",
          "y": "combine_fuel_economy",
          "yref": "y"
         },
         {
          "font": {
           "color": "#FFFFFF"
          },
          "showarrow": false,
          "text": "",
          "x": "is_certified",
          "xref": "x",
          "y": "combine_fuel_economy",
          "yref": "y"
         },
         {
          "font": {
           "color": "#FFFFFF"
          },
          "showarrow": false,
          "text": "",
          "x": "is_new",
          "xref": "x",
          "y": "combine_fuel_economy",
          "yref": "y"
         },
         {
          "font": {
           "color": "#FFFFFF"
          },
          "showarrow": false,
          "text": "",
          "x": "latitude",
          "xref": "x",
          "y": "combine_fuel_economy",
          "yref": "y"
         },
         {
          "font": {
           "color": "#FFFFFF"
          },
          "showarrow": false,
          "text": "",
          "x": "listing_id",
          "xref": "x",
          "y": "combine_fuel_economy",
          "yref": "y"
         },
         {
          "font": {
           "color": "#FFFFFF"
          },
          "showarrow": false,
          "text": "",
          "x": "longitude",
          "xref": "x",
          "y": "combine_fuel_economy",
          "yref": "y"
         },
         {
          "font": {
           "color": "#FFFFFF"
          },
          "showarrow": false,
          "text": "",
          "x": "mileage",
          "xref": "x",
          "y": "combine_fuel_economy",
          "yref": "y"
         },
         {
          "font": {
           "color": "#FFFFFF"
          },
          "showarrow": false,
          "text": "",
          "x": "owner_count",
          "xref": "x",
          "y": "combine_fuel_economy",
          "yref": "y"
         },
         {
          "font": {
           "color": "#FFFFFF"
          },
          "showarrow": false,
          "text": "",
          "x": "price",
          "xref": "x",
          "y": "combine_fuel_economy",
          "yref": "y"
         },
         {
          "font": {
           "color": "#FFFFFF"
          },
          "showarrow": false,
          "text": "",
          "x": "savings_amount",
          "xref": "x",
          "y": "combine_fuel_economy",
          "yref": "y"
         },
         {
          "font": {
           "color": "#FFFFFF"
          },
          "showarrow": false,
          "text": "",
          "x": "seller_rating",
          "xref": "x",
          "y": "combine_fuel_economy",
          "yref": "y"
         },
         {
          "font": {
           "color": "#FFFFFF"
          },
          "showarrow": false,
          "text": "",
          "x": "sp_id",
          "xref": "x",
          "y": "combine_fuel_economy",
          "yref": "y"
         },
         {
          "font": {
           "color": "#FFFFFF"
          },
          "showarrow": false,
          "text": "",
          "x": "vehicle_damage_category",
          "xref": "x",
          "y": "combine_fuel_economy",
          "yref": "y"
         },
         {
          "font": {
           "color": "#FFFFFF"
          },
          "showarrow": false,
          "text": "",
          "x": "year",
          "xref": "x",
          "y": "combine_fuel_economy",
          "yref": "y"
         },
         {
          "font": {
           "color": "#FFFFFF"
          },
          "showarrow": false,
          "text": "0.01",
          "x": "city_fuel_economy",
          "xref": "x",
          "y": "daysonmarket",
          "yref": "y"
         },
         {
          "font": {
           "color": "#FFFFFF"
          },
          "showarrow": false,
          "text": "",
          "x": "combine_fuel_economy",
          "xref": "x",
          "y": "daysonmarket",
          "yref": "y"
         },
         {
          "font": {
           "color": "#FFFFFF"
          },
          "showarrow": false,
          "text": "",
          "x": "daysonmarket",
          "xref": "x",
          "y": "daysonmarket",
          "yref": "y"
         },
         {
          "font": {
           "color": "#FFFFFF"
          },
          "showarrow": false,
          "text": "",
          "x": "engine_displacement",
          "xref": "x",
          "y": "daysonmarket",
          "yref": "y"
         },
         {
          "font": {
           "color": "#FFFFFF"
          },
          "showarrow": false,
          "text": "",
          "x": "franchise_dealer",
          "xref": "x",
          "y": "daysonmarket",
          "yref": "y"
         },
         {
          "font": {
           "color": "#FFFFFF"
          },
          "showarrow": false,
          "text": "",
          "x": "highway_fuel_economy",
          "xref": "x",
          "y": "daysonmarket",
          "yref": "y"
         },
         {
          "font": {
           "color": "#FFFFFF"
          },
          "showarrow": false,
          "text": "",
          "x": "horsepower",
          "xref": "x",
          "y": "daysonmarket",
          "yref": "y"
         },
         {
          "font": {
           "color": "#FFFFFF"
          },
          "showarrow": false,
          "text": "",
          "x": "is_certified",
          "xref": "x",
          "y": "daysonmarket",
          "yref": "y"
         },
         {
          "font": {
           "color": "#FFFFFF"
          },
          "showarrow": false,
          "text": "",
          "x": "is_new",
          "xref": "x",
          "y": "daysonmarket",
          "yref": "y"
         },
         {
          "font": {
           "color": "#FFFFFF"
          },
          "showarrow": false,
          "text": "",
          "x": "latitude",
          "xref": "x",
          "y": "daysonmarket",
          "yref": "y"
         },
         {
          "font": {
           "color": "#FFFFFF"
          },
          "showarrow": false,
          "text": "",
          "x": "listing_id",
          "xref": "x",
          "y": "daysonmarket",
          "yref": "y"
         },
         {
          "font": {
           "color": "#FFFFFF"
          },
          "showarrow": false,
          "text": "",
          "x": "longitude",
          "xref": "x",
          "y": "daysonmarket",
          "yref": "y"
         },
         {
          "font": {
           "color": "#FFFFFF"
          },
          "showarrow": false,
          "text": "",
          "x": "mileage",
          "xref": "x",
          "y": "daysonmarket",
          "yref": "y"
         },
         {
          "font": {
           "color": "#FFFFFF"
          },
          "showarrow": false,
          "text": "",
          "x": "owner_count",
          "xref": "x",
          "y": "daysonmarket",
          "yref": "y"
         },
         {
          "font": {
           "color": "#FFFFFF"
          },
          "showarrow": false,
          "text": "",
          "x": "price",
          "xref": "x",
          "y": "daysonmarket",
          "yref": "y"
         },
         {
          "font": {
           "color": "#FFFFFF"
          },
          "showarrow": false,
          "text": "",
          "x": "savings_amount",
          "xref": "x",
          "y": "daysonmarket",
          "yref": "y"
         },
         {
          "font": {
           "color": "#FFFFFF"
          },
          "showarrow": false,
          "text": "",
          "x": "seller_rating",
          "xref": "x",
          "y": "daysonmarket",
          "yref": "y"
         },
         {
          "font": {
           "color": "#FFFFFF"
          },
          "showarrow": false,
          "text": "",
          "x": "sp_id",
          "xref": "x",
          "y": "daysonmarket",
          "yref": "y"
         },
         {
          "font": {
           "color": "#FFFFFF"
          },
          "showarrow": false,
          "text": "",
          "x": "vehicle_damage_category",
          "xref": "x",
          "y": "daysonmarket",
          "yref": "y"
         },
         {
          "font": {
           "color": "#FFFFFF"
          },
          "showarrow": false,
          "text": "",
          "x": "year",
          "xref": "x",
          "y": "daysonmarket",
          "yref": "y"
         },
         {
          "font": {
           "color": "#FFFFFF"
          },
          "showarrow": false,
          "text": "-0.67",
          "x": "city_fuel_economy",
          "xref": "x",
          "y": "engine_displacement",
          "yref": "y"
         },
         {
          "font": {
           "color": "#FFFFFF"
          },
          "showarrow": false,
          "text": "",
          "x": "combine_fuel_economy",
          "xref": "x",
          "y": "engine_displacement",
          "yref": "y"
         },
         {
          "font": {
           "color": "#FFFFFF"
          },
          "showarrow": false,
          "text": "-0.04",
          "x": "daysonmarket",
          "xref": "x",
          "y": "engine_displacement",
          "yref": "y"
         },
         {
          "font": {
           "color": "#FFFFFF"
          },
          "showarrow": false,
          "text": "",
          "x": "engine_displacement",
          "xref": "x",
          "y": "engine_displacement",
          "yref": "y"
         },
         {
          "font": {
           "color": "#FFFFFF"
          },
          "showarrow": false,
          "text": "",
          "x": "franchise_dealer",
          "xref": "x",
          "y": "engine_displacement",
          "yref": "y"
         },
         {
          "font": {
           "color": "#FFFFFF"
          },
          "showarrow": false,
          "text": "",
          "x": "highway_fuel_economy",
          "xref": "x",
          "y": "engine_displacement",
          "yref": "y"
         },
         {
          "font": {
           "color": "#FFFFFF"
          },
          "showarrow": false,
          "text": "",
          "x": "horsepower",
          "xref": "x",
          "y": "engine_displacement",
          "yref": "y"
         },
         {
          "font": {
           "color": "#FFFFFF"
          },
          "showarrow": false,
          "text": "",
          "x": "is_certified",
          "xref": "x",
          "y": "engine_displacement",
          "yref": "y"
         },
         {
          "font": {
           "color": "#FFFFFF"
          },
          "showarrow": false,
          "text": "",
          "x": "is_new",
          "xref": "x",
          "y": "engine_displacement",
          "yref": "y"
         },
         {
          "font": {
           "color": "#FFFFFF"
          },
          "showarrow": false,
          "text": "",
          "x": "latitude",
          "xref": "x",
          "y": "engine_displacement",
          "yref": "y"
         },
         {
          "font": {
           "color": "#FFFFFF"
          },
          "showarrow": false,
          "text": "",
          "x": "listing_id",
          "xref": "x",
          "y": "engine_displacement",
          "yref": "y"
         },
         {
          "font": {
           "color": "#FFFFFF"
          },
          "showarrow": false,
          "text": "",
          "x": "longitude",
          "xref": "x",
          "y": "engine_displacement",
          "yref": "y"
         },
         {
          "font": {
           "color": "#FFFFFF"
          },
          "showarrow": false,
          "text": "",
          "x": "mileage",
          "xref": "x",
          "y": "engine_displacement",
          "yref": "y"
         },
         {
          "font": {
           "color": "#FFFFFF"
          },
          "showarrow": false,
          "text": "",
          "x": "owner_count",
          "xref": "x",
          "y": "engine_displacement",
          "yref": "y"
         },
         {
          "font": {
           "color": "#FFFFFF"
          },
          "showarrow": false,
          "text": "",
          "x": "price",
          "xref": "x",
          "y": "engine_displacement",
          "yref": "y"
         },
         {
          "font": {
           "color": "#FFFFFF"
          },
          "showarrow": false,
          "text": "",
          "x": "savings_amount",
          "xref": "x",
          "y": "engine_displacement",
          "yref": "y"
         },
         {
          "font": {
           "color": "#FFFFFF"
          },
          "showarrow": false,
          "text": "",
          "x": "seller_rating",
          "xref": "x",
          "y": "engine_displacement",
          "yref": "y"
         },
         {
          "font": {
           "color": "#FFFFFF"
          },
          "showarrow": false,
          "text": "",
          "x": "sp_id",
          "xref": "x",
          "y": "engine_displacement",
          "yref": "y"
         },
         {
          "font": {
           "color": "#FFFFFF"
          },
          "showarrow": false,
          "text": "",
          "x": "vehicle_damage_category",
          "xref": "x",
          "y": "engine_displacement",
          "yref": "y"
         },
         {
          "font": {
           "color": "#FFFFFF"
          },
          "showarrow": false,
          "text": "",
          "x": "year",
          "xref": "x",
          "y": "engine_displacement",
          "yref": "y"
         },
         {
          "font": {
           "color": "#FFFFFF"
          },
          "showarrow": false,
          "text": "0.06",
          "x": "city_fuel_economy",
          "xref": "x",
          "y": "franchise_dealer",
          "yref": "y"
         },
         {
          "font": {
           "color": "#FFFFFF"
          },
          "showarrow": false,
          "text": "",
          "x": "combine_fuel_economy",
          "xref": "x",
          "y": "franchise_dealer",
          "yref": "y"
         },
         {
          "font": {
           "color": "#FFFFFF"
          },
          "showarrow": false,
          "text": "0.0",
          "x": "daysonmarket",
          "xref": "x",
          "y": "franchise_dealer",
          "yref": "y"
         },
         {
          "font": {
           "color": "#FFFFFF"
          },
          "showarrow": false,
          "text": "-0.06",
          "x": "engine_displacement",
          "xref": "x",
          "y": "franchise_dealer",
          "yref": "y"
         },
         {
          "font": {
           "color": "#FFFFFF"
          },
          "showarrow": false,
          "text": "",
          "x": "franchise_dealer",
          "xref": "x",
          "y": "franchise_dealer",
          "yref": "y"
         },
         {
          "font": {
           "color": "#FFFFFF"
          },
          "showarrow": false,
          "text": "",
          "x": "highway_fuel_economy",
          "xref": "x",
          "y": "franchise_dealer",
          "yref": "y"
         },
         {
          "font": {
           "color": "#FFFFFF"
          },
          "showarrow": false,
          "text": "",
          "x": "horsepower",
          "xref": "x",
          "y": "franchise_dealer",
          "yref": "y"
         },
         {
          "font": {
           "color": "#FFFFFF"
          },
          "showarrow": false,
          "text": "",
          "x": "is_certified",
          "xref": "x",
          "y": "franchise_dealer",
          "yref": "y"
         },
         {
          "font": {
           "color": "#FFFFFF"
          },
          "showarrow": false,
          "text": "",
          "x": "is_new",
          "xref": "x",
          "y": "franchise_dealer",
          "yref": "y"
         },
         {
          "font": {
           "color": "#FFFFFF"
          },
          "showarrow": false,
          "text": "",
          "x": "latitude",
          "xref": "x",
          "y": "franchise_dealer",
          "yref": "y"
         },
         {
          "font": {
           "color": "#FFFFFF"
          },
          "showarrow": false,
          "text": "",
          "x": "listing_id",
          "xref": "x",
          "y": "franchise_dealer",
          "yref": "y"
         },
         {
          "font": {
           "color": "#FFFFFF"
          },
          "showarrow": false,
          "text": "",
          "x": "longitude",
          "xref": "x",
          "y": "franchise_dealer",
          "yref": "y"
         },
         {
          "font": {
           "color": "#FFFFFF"
          },
          "showarrow": false,
          "text": "",
          "x": "mileage",
          "xref": "x",
          "y": "franchise_dealer",
          "yref": "y"
         },
         {
          "font": {
           "color": "#FFFFFF"
          },
          "showarrow": false,
          "text": "",
          "x": "owner_count",
          "xref": "x",
          "y": "franchise_dealer",
          "yref": "y"
         },
         {
          "font": {
           "color": "#FFFFFF"
          },
          "showarrow": false,
          "text": "",
          "x": "price",
          "xref": "x",
          "y": "franchise_dealer",
          "yref": "y"
         },
         {
          "font": {
           "color": "#FFFFFF"
          },
          "showarrow": false,
          "text": "",
          "x": "savings_amount",
          "xref": "x",
          "y": "franchise_dealer",
          "yref": "y"
         },
         {
          "font": {
           "color": "#FFFFFF"
          },
          "showarrow": false,
          "text": "",
          "x": "seller_rating",
          "xref": "x",
          "y": "franchise_dealer",
          "yref": "y"
         },
         {
          "font": {
           "color": "#FFFFFF"
          },
          "showarrow": false,
          "text": "",
          "x": "sp_id",
          "xref": "x",
          "y": "franchise_dealer",
          "yref": "y"
         },
         {
          "font": {
           "color": "#FFFFFF"
          },
          "showarrow": false,
          "text": "",
          "x": "vehicle_damage_category",
          "xref": "x",
          "y": "franchise_dealer",
          "yref": "y"
         },
         {
          "font": {
           "color": "#FFFFFF"
          },
          "showarrow": false,
          "text": "",
          "x": "year",
          "xref": "x",
          "y": "franchise_dealer",
          "yref": "y"
         },
         {
          "font": {
           "color": "#FFFFFF"
          },
          "showarrow": false,
          "text": "0.94",
          "x": "city_fuel_economy",
          "xref": "x",
          "y": "highway_fuel_economy",
          "yref": "y"
         },
         {
          "font": {
           "color": "#FFFFFF"
          },
          "showarrow": false,
          "text": "",
          "x": "combine_fuel_economy",
          "xref": "x",
          "y": "highway_fuel_economy",
          "yref": "y"
         },
         {
          "font": {
           "color": "#FFFFFF"
          },
          "showarrow": false,
          "text": "0.0",
          "x": "daysonmarket",
          "xref": "x",
          "y": "highway_fuel_economy",
          "yref": "y"
         },
         {
          "font": {
           "color": "#FFFFFF"
          },
          "showarrow": false,
          "text": "-0.69",
          "x": "engine_displacement",
          "xref": "x",
          "y": "highway_fuel_economy",
          "yref": "y"
         },
         {
          "font": {
           "color": "#FFFFFF"
          },
          "showarrow": false,
          "text": "0.04",
          "x": "franchise_dealer",
          "xref": "x",
          "y": "highway_fuel_economy",
          "yref": "y"
         },
         {
          "font": {
           "color": "#FFFFFF"
          },
          "showarrow": false,
          "text": "",
          "x": "highway_fuel_economy",
          "xref": "x",
          "y": "highway_fuel_economy",
          "yref": "y"
         },
         {
          "font": {
           "color": "#FFFFFF"
          },
          "showarrow": false,
          "text": "",
          "x": "horsepower",
          "xref": "x",
          "y": "highway_fuel_economy",
          "yref": "y"
         },
         {
          "font": {
           "color": "#FFFFFF"
          },
          "showarrow": false,
          "text": "",
          "x": "is_certified",
          "xref": "x",
          "y": "highway_fuel_economy",
          "yref": "y"
         },
         {
          "font": {
           "color": "#FFFFFF"
          },
          "showarrow": false,
          "text": "",
          "x": "is_new",
          "xref": "x",
          "y": "highway_fuel_economy",
          "yref": "y"
         },
         {
          "font": {
           "color": "#FFFFFF"
          },
          "showarrow": false,
          "text": "",
          "x": "latitude",
          "xref": "x",
          "y": "highway_fuel_economy",
          "yref": "y"
         },
         {
          "font": {
           "color": "#FFFFFF"
          },
          "showarrow": false,
          "text": "",
          "x": "listing_id",
          "xref": "x",
          "y": "highway_fuel_economy",
          "yref": "y"
         },
         {
          "font": {
           "color": "#FFFFFF"
          },
          "showarrow": false,
          "text": "",
          "x": "longitude",
          "xref": "x",
          "y": "highway_fuel_economy",
          "yref": "y"
         },
         {
          "font": {
           "color": "#FFFFFF"
          },
          "showarrow": false,
          "text": "",
          "x": "mileage",
          "xref": "x",
          "y": "highway_fuel_economy",
          "yref": "y"
         },
         {
          "font": {
           "color": "#FFFFFF"
          },
          "showarrow": false,
          "text": "",
          "x": "owner_count",
          "xref": "x",
          "y": "highway_fuel_economy",
          "yref": "y"
         },
         {
          "font": {
           "color": "#FFFFFF"
          },
          "showarrow": false,
          "text": "",
          "x": "price",
          "xref": "x",
          "y": "highway_fuel_economy",
          "yref": "y"
         },
         {
          "font": {
           "color": "#FFFFFF"
          },
          "showarrow": false,
          "text": "",
          "x": "savings_amount",
          "xref": "x",
          "y": "highway_fuel_economy",
          "yref": "y"
         },
         {
          "font": {
           "color": "#FFFFFF"
          },
          "showarrow": false,
          "text": "",
          "x": "seller_rating",
          "xref": "x",
          "y": "highway_fuel_economy",
          "yref": "y"
         },
         {
          "font": {
           "color": "#FFFFFF"
          },
          "showarrow": false,
          "text": "",
          "x": "sp_id",
          "xref": "x",
          "y": "highway_fuel_economy",
          "yref": "y"
         },
         {
          "font": {
           "color": "#FFFFFF"
          },
          "showarrow": false,
          "text": "",
          "x": "vehicle_damage_category",
          "xref": "x",
          "y": "highway_fuel_economy",
          "yref": "y"
         },
         {
          "font": {
           "color": "#FFFFFF"
          },
          "showarrow": false,
          "text": "",
          "x": "year",
          "xref": "x",
          "y": "highway_fuel_economy",
          "yref": "y"
         },
         {
          "font": {
           "color": "#FFFFFF"
          },
          "showarrow": false,
          "text": "-0.67",
          "x": "city_fuel_economy",
          "xref": "x",
          "y": "horsepower",
          "yref": "y"
         },
         {
          "font": {
           "color": "#FFFFFF"
          },
          "showarrow": false,
          "text": "",
          "x": "combine_fuel_economy",
          "xref": "x",
          "y": "horsepower",
          "yref": "y"
         },
         {
          "font": {
           "color": "#FFFFFF"
          },
          "showarrow": false,
          "text": "-0.02",
          "x": "daysonmarket",
          "xref": "x",
          "y": "horsepower",
          "yref": "y"
         },
         {
          "font": {
           "color": "#FFFFFF"
          },
          "showarrow": false,
          "text": "0.83",
          "x": "engine_displacement",
          "xref": "x",
          "y": "horsepower",
          "yref": "y"
         },
         {
          "font": {
           "color": "#FFFFFF"
          },
          "showarrow": false,
          "text": "0.03",
          "x": "franchise_dealer",
          "xref": "x",
          "y": "horsepower",
          "yref": "y"
         },
         {
          "font": {
           "color": "#FFFFFF"
          },
          "showarrow": false,
          "text": "-0.7",
          "x": "highway_fuel_economy",
          "xref": "x",
          "y": "horsepower",
          "yref": "y"
         },
         {
          "font": {
           "color": "#FFFFFF"
          },
          "showarrow": false,
          "text": "",
          "x": "horsepower",
          "xref": "x",
          "y": "horsepower",
          "yref": "y"
         },
         {
          "font": {
           "color": "#FFFFFF"
          },
          "showarrow": false,
          "text": "",
          "x": "is_certified",
          "xref": "x",
          "y": "horsepower",
          "yref": "y"
         },
         {
          "font": {
           "color": "#FFFFFF"
          },
          "showarrow": false,
          "text": "",
          "x": "is_new",
          "xref": "x",
          "y": "horsepower",
          "yref": "y"
         },
         {
          "font": {
           "color": "#FFFFFF"
          },
          "showarrow": false,
          "text": "",
          "x": "latitude",
          "xref": "x",
          "y": "horsepower",
          "yref": "y"
         },
         {
          "font": {
           "color": "#FFFFFF"
          },
          "showarrow": false,
          "text": "",
          "x": "listing_id",
          "xref": "x",
          "y": "horsepower",
          "yref": "y"
         },
         {
          "font": {
           "color": "#FFFFFF"
          },
          "showarrow": false,
          "text": "",
          "x": "longitude",
          "xref": "x",
          "y": "horsepower",
          "yref": "y"
         },
         {
          "font": {
           "color": "#FFFFFF"
          },
          "showarrow": false,
          "text": "",
          "x": "mileage",
          "xref": "x",
          "y": "horsepower",
          "yref": "y"
         },
         {
          "font": {
           "color": "#FFFFFF"
          },
          "showarrow": false,
          "text": "",
          "x": "owner_count",
          "xref": "x",
          "y": "horsepower",
          "yref": "y"
         },
         {
          "font": {
           "color": "#FFFFFF"
          },
          "showarrow": false,
          "text": "",
          "x": "price",
          "xref": "x",
          "y": "horsepower",
          "yref": "y"
         },
         {
          "font": {
           "color": "#FFFFFF"
          },
          "showarrow": false,
          "text": "",
          "x": "savings_amount",
          "xref": "x",
          "y": "horsepower",
          "yref": "y"
         },
         {
          "font": {
           "color": "#FFFFFF"
          },
          "showarrow": false,
          "text": "",
          "x": "seller_rating",
          "xref": "x",
          "y": "horsepower",
          "yref": "y"
         },
         {
          "font": {
           "color": "#FFFFFF"
          },
          "showarrow": false,
          "text": "",
          "x": "sp_id",
          "xref": "x",
          "y": "horsepower",
          "yref": "y"
         },
         {
          "font": {
           "color": "#FFFFFF"
          },
          "showarrow": false,
          "text": "",
          "x": "vehicle_damage_category",
          "xref": "x",
          "y": "horsepower",
          "yref": "y"
         },
         {
          "font": {
           "color": "#FFFFFF"
          },
          "showarrow": false,
          "text": "",
          "x": "year",
          "xref": "x",
          "y": "horsepower",
          "yref": "y"
         },
         {
          "font": {
           "color": "#FFFFFF"
          },
          "showarrow": false,
          "text": "",
          "x": "city_fuel_economy",
          "xref": "x",
          "y": "is_certified",
          "yref": "y"
         },
         {
          "font": {
           "color": "#FFFFFF"
          },
          "showarrow": false,
          "text": "",
          "x": "combine_fuel_economy",
          "xref": "x",
          "y": "is_certified",
          "yref": "y"
         },
         {
          "font": {
           "color": "#FFFFFF"
          },
          "showarrow": false,
          "text": "",
          "x": "daysonmarket",
          "xref": "x",
          "y": "is_certified",
          "yref": "y"
         },
         {
          "font": {
           "color": "#FFFFFF"
          },
          "showarrow": false,
          "text": "",
          "x": "engine_displacement",
          "xref": "x",
          "y": "is_certified",
          "yref": "y"
         },
         {
          "font": {
           "color": "#FFFFFF"
          },
          "showarrow": false,
          "text": "",
          "x": "franchise_dealer",
          "xref": "x",
          "y": "is_certified",
          "yref": "y"
         },
         {
          "font": {
           "color": "#FFFFFF"
          },
          "showarrow": false,
          "text": "",
          "x": "highway_fuel_economy",
          "xref": "x",
          "y": "is_certified",
          "yref": "y"
         },
         {
          "font": {
           "color": "#FFFFFF"
          },
          "showarrow": false,
          "text": "",
          "x": "horsepower",
          "xref": "x",
          "y": "is_certified",
          "yref": "y"
         },
         {
          "font": {
           "color": "#FFFFFF"
          },
          "showarrow": false,
          "text": "",
          "x": "is_certified",
          "xref": "x",
          "y": "is_certified",
          "yref": "y"
         },
         {
          "font": {
           "color": "#FFFFFF"
          },
          "showarrow": false,
          "text": "",
          "x": "is_new",
          "xref": "x",
          "y": "is_certified",
          "yref": "y"
         },
         {
          "font": {
           "color": "#FFFFFF"
          },
          "showarrow": false,
          "text": "",
          "x": "latitude",
          "xref": "x",
          "y": "is_certified",
          "yref": "y"
         },
         {
          "font": {
           "color": "#FFFFFF"
          },
          "showarrow": false,
          "text": "",
          "x": "listing_id",
          "xref": "x",
          "y": "is_certified",
          "yref": "y"
         },
         {
          "font": {
           "color": "#FFFFFF"
          },
          "showarrow": false,
          "text": "",
          "x": "longitude",
          "xref": "x",
          "y": "is_certified",
          "yref": "y"
         },
         {
          "font": {
           "color": "#FFFFFF"
          },
          "showarrow": false,
          "text": "",
          "x": "mileage",
          "xref": "x",
          "y": "is_certified",
          "yref": "y"
         },
         {
          "font": {
           "color": "#FFFFFF"
          },
          "showarrow": false,
          "text": "",
          "x": "owner_count",
          "xref": "x",
          "y": "is_certified",
          "yref": "y"
         },
         {
          "font": {
           "color": "#FFFFFF"
          },
          "showarrow": false,
          "text": "",
          "x": "price",
          "xref": "x",
          "y": "is_certified",
          "yref": "y"
         },
         {
          "font": {
           "color": "#FFFFFF"
          },
          "showarrow": false,
          "text": "",
          "x": "savings_amount",
          "xref": "x",
          "y": "is_certified",
          "yref": "y"
         },
         {
          "font": {
           "color": "#FFFFFF"
          },
          "showarrow": false,
          "text": "",
          "x": "seller_rating",
          "xref": "x",
          "y": "is_certified",
          "yref": "y"
         },
         {
          "font": {
           "color": "#FFFFFF"
          },
          "showarrow": false,
          "text": "",
          "x": "sp_id",
          "xref": "x",
          "y": "is_certified",
          "yref": "y"
         },
         {
          "font": {
           "color": "#FFFFFF"
          },
          "showarrow": false,
          "text": "",
          "x": "vehicle_damage_category",
          "xref": "x",
          "y": "is_certified",
          "yref": "y"
         },
         {
          "font": {
           "color": "#FFFFFF"
          },
          "showarrow": false,
          "text": "",
          "x": "year",
          "xref": "x",
          "y": "is_certified",
          "yref": "y"
         },
         {
          "font": {
           "color": "#FFFFFF"
          },
          "showarrow": false,
          "text": "0.1",
          "x": "city_fuel_economy",
          "xref": "x",
          "y": "is_new",
          "yref": "y"
         },
         {
          "font": {
           "color": "#FFFFFF"
          },
          "showarrow": false,
          "text": "",
          "x": "combine_fuel_economy",
          "xref": "x",
          "y": "is_new",
          "yref": "y"
         },
         {
          "font": {
           "color": "#FFFFFF"
          },
          "showarrow": false,
          "text": "0.17",
          "x": "daysonmarket",
          "xref": "x",
          "y": "is_new",
          "yref": "y"
         },
         {
          "font": {
           "color": "#FFFFFF"
          },
          "showarrow": false,
          "text": "-0.07",
          "x": "engine_displacement",
          "xref": "x",
          "y": "is_new",
          "yref": "y"
         },
         {
          "font": {
           "color": "#FFFFFF"
          },
          "showarrow": false,
          "text": "0.47",
          "x": "franchise_dealer",
          "xref": "x",
          "y": "is_new",
          "yref": "y"
         },
         {
          "font": {
           "color": "#FFFFFF"
          },
          "showarrow": false,
          "text": "0.06",
          "x": "highway_fuel_economy",
          "xref": "x",
          "y": "is_new",
          "yref": "y"
         },
         {
          "font": {
           "color": "#FFFFFF"
          },
          "showarrow": false,
          "text": "0.01",
          "x": "horsepower",
          "xref": "x",
          "y": "is_new",
          "yref": "y"
         },
         {
          "font": {
           "color": "#FFFFFF"
          },
          "showarrow": false,
          "text": "",
          "x": "is_certified",
          "xref": "x",
          "y": "is_new",
          "yref": "y"
         },
         {
          "font": {
           "color": "#FFFFFF"
          },
          "showarrow": false,
          "text": "",
          "x": "is_new",
          "xref": "x",
          "y": "is_new",
          "yref": "y"
         },
         {
          "font": {
           "color": "#FFFFFF"
          },
          "showarrow": false,
          "text": "",
          "x": "latitude",
          "xref": "x",
          "y": "is_new",
          "yref": "y"
         },
         {
          "font": {
           "color": "#FFFFFF"
          },
          "showarrow": false,
          "text": "",
          "x": "listing_id",
          "xref": "x",
          "y": "is_new",
          "yref": "y"
         },
         {
          "font": {
           "color": "#FFFFFF"
          },
          "showarrow": false,
          "text": "",
          "x": "longitude",
          "xref": "x",
          "y": "is_new",
          "yref": "y"
         },
         {
          "font": {
           "color": "#FFFFFF"
          },
          "showarrow": false,
          "text": "",
          "x": "mileage",
          "xref": "x",
          "y": "is_new",
          "yref": "y"
         },
         {
          "font": {
           "color": "#FFFFFF"
          },
          "showarrow": false,
          "text": "",
          "x": "owner_count",
          "xref": "x",
          "y": "is_new",
          "yref": "y"
         },
         {
          "font": {
           "color": "#FFFFFF"
          },
          "showarrow": false,
          "text": "",
          "x": "price",
          "xref": "x",
          "y": "is_new",
          "yref": "y"
         },
         {
          "font": {
           "color": "#FFFFFF"
          },
          "showarrow": false,
          "text": "",
          "x": "savings_amount",
          "xref": "x",
          "y": "is_new",
          "yref": "y"
         },
         {
          "font": {
           "color": "#FFFFFF"
          },
          "showarrow": false,
          "text": "",
          "x": "seller_rating",
          "xref": "x",
          "y": "is_new",
          "yref": "y"
         },
         {
          "font": {
           "color": "#FFFFFF"
          },
          "showarrow": false,
          "text": "",
          "x": "sp_id",
          "xref": "x",
          "y": "is_new",
          "yref": "y"
         },
         {
          "font": {
           "color": "#FFFFFF"
          },
          "showarrow": false,
          "text": "",
          "x": "vehicle_damage_category",
          "xref": "x",
          "y": "is_new",
          "yref": "y"
         },
         {
          "font": {
           "color": "#FFFFFF"
          },
          "showarrow": false,
          "text": "",
          "x": "year",
          "xref": "x",
          "y": "is_new",
          "yref": "y"
         },
         {
          "font": {
           "color": "#FFFFFF"
          },
          "showarrow": false,
          "text": "-0.04",
          "x": "city_fuel_economy",
          "xref": "x",
          "y": "latitude",
          "yref": "y"
         },
         {
          "font": {
           "color": "#FFFFFF"
          },
          "showarrow": false,
          "text": "",
          "x": "combine_fuel_economy",
          "xref": "x",
          "y": "latitude",
          "yref": "y"
         },
         {
          "font": {
           "color": "#FFFFFF"
          },
          "showarrow": false,
          "text": "0.02",
          "x": "daysonmarket",
          "xref": "x",
          "y": "latitude",
          "yref": "y"
         },
         {
          "font": {
           "color": "#FFFFFF"
          },
          "showarrow": false,
          "text": "-0.0",
          "x": "engine_displacement",
          "xref": "x",
          "y": "latitude",
          "yref": "y"
         },
         {
          "font": {
           "color": "#FFFFFF"
          },
          "showarrow": false,
          "text": "0.01",
          "x": "franchise_dealer",
          "xref": "x",
          "y": "latitude",
          "yref": "y"
         },
         {
          "font": {
           "color": "#FFFFFF"
          },
          "showarrow": false,
          "text": "-0.06",
          "x": "highway_fuel_economy",
          "xref": "x",
          "y": "latitude",
          "yref": "y"
         },
         {
          "font": {
           "color": "#FFFFFF"
          },
          "showarrow": false,
          "text": "-0.01",
          "x": "horsepower",
          "xref": "x",
          "y": "latitude",
          "yref": "y"
         },
         {
          "font": {
           "color": "#FFFFFF"
          },
          "showarrow": false,
          "text": "",
          "x": "is_certified",
          "xref": "x",
          "y": "latitude",
          "yref": "y"
         },
         {
          "font": {
           "color": "#FFFFFF"
          },
          "showarrow": false,
          "text": "-0.05",
          "x": "is_new",
          "xref": "x",
          "y": "latitude",
          "yref": "y"
         },
         {
          "font": {
           "color": "#FFFFFF"
          },
          "showarrow": false,
          "text": "",
          "x": "latitude",
          "xref": "x",
          "y": "latitude",
          "yref": "y"
         },
         {
          "font": {
           "color": "#FFFFFF"
          },
          "showarrow": false,
          "text": "",
          "x": "listing_id",
          "xref": "x",
          "y": "latitude",
          "yref": "y"
         },
         {
          "font": {
           "color": "#FFFFFF"
          },
          "showarrow": false,
          "text": "",
          "x": "longitude",
          "xref": "x",
          "y": "latitude",
          "yref": "y"
         },
         {
          "font": {
           "color": "#FFFFFF"
          },
          "showarrow": false,
          "text": "",
          "x": "mileage",
          "xref": "x",
          "y": "latitude",
          "yref": "y"
         },
         {
          "font": {
           "color": "#FFFFFF"
          },
          "showarrow": false,
          "text": "",
          "x": "owner_count",
          "xref": "x",
          "y": "latitude",
          "yref": "y"
         },
         {
          "font": {
           "color": "#FFFFFF"
          },
          "showarrow": false,
          "text": "",
          "x": "price",
          "xref": "x",
          "y": "latitude",
          "yref": "y"
         },
         {
          "font": {
           "color": "#FFFFFF"
          },
          "showarrow": false,
          "text": "",
          "x": "savings_amount",
          "xref": "x",
          "y": "latitude",
          "yref": "y"
         },
         {
          "font": {
           "color": "#FFFFFF"
          },
          "showarrow": false,
          "text": "",
          "x": "seller_rating",
          "xref": "x",
          "y": "latitude",
          "yref": "y"
         },
         {
          "font": {
           "color": "#FFFFFF"
          },
          "showarrow": false,
          "text": "",
          "x": "sp_id",
          "xref": "x",
          "y": "latitude",
          "yref": "y"
         },
         {
          "font": {
           "color": "#FFFFFF"
          },
          "showarrow": false,
          "text": "",
          "x": "vehicle_damage_category",
          "xref": "x",
          "y": "latitude",
          "yref": "y"
         },
         {
          "font": {
           "color": "#FFFFFF"
          },
          "showarrow": false,
          "text": "",
          "x": "year",
          "xref": "x",
          "y": "latitude",
          "yref": "y"
         },
         {
          "font": {
           "color": "#FFFFFF"
          },
          "showarrow": false,
          "text": "-0.01",
          "x": "city_fuel_economy",
          "xref": "x",
          "y": "listing_id",
          "yref": "y"
         },
         {
          "font": {
           "color": "#FFFFFF"
          },
          "showarrow": false,
          "text": "",
          "x": "combine_fuel_economy",
          "xref": "x",
          "y": "listing_id",
          "yref": "y"
         },
         {
          "font": {
           "color": "#FFFFFF"
          },
          "showarrow": false,
          "text": "-1.0",
          "x": "daysonmarket",
          "xref": "x",
          "y": "listing_id",
          "yref": "y"
         },
         {
          "font": {
           "color": "#FFFFFF"
          },
          "showarrow": false,
          "text": "0.04",
          "x": "engine_displacement",
          "xref": "x",
          "y": "listing_id",
          "yref": "y"
         },
         {
          "font": {
           "color": "#FFFFFF"
          },
          "showarrow": false,
          "text": "0.0",
          "x": "franchise_dealer",
          "xref": "x",
          "y": "listing_id",
          "yref": "y"
         },
         {
          "font": {
           "color": "#FFFFFF"
          },
          "showarrow": false,
          "text": "0.0",
          "x": "highway_fuel_economy",
          "xref": "x",
          "y": "listing_id",
          "yref": "y"
         },
         {
          "font": {
           "color": "#FFFFFF"
          },
          "showarrow": false,
          "text": "0.02",
          "x": "horsepower",
          "xref": "x",
          "y": "listing_id",
          "yref": "y"
         },
         {
          "font": {
           "color": "#FFFFFF"
          },
          "showarrow": false,
          "text": "",
          "x": "is_certified",
          "xref": "x",
          "y": "listing_id",
          "yref": "y"
         },
         {
          "font": {
           "color": "#FFFFFF"
          },
          "showarrow": false,
          "text": "-0.16",
          "x": "is_new",
          "xref": "x",
          "y": "listing_id",
          "yref": "y"
         },
         {
          "font": {
           "color": "#FFFFFF"
          },
          "showarrow": false,
          "text": "-0.02",
          "x": "latitude",
          "xref": "x",
          "y": "listing_id",
          "yref": "y"
         },
         {
          "font": {
           "color": "#FFFFFF"
          },
          "showarrow": false,
          "text": "",
          "x": "listing_id",
          "xref": "x",
          "y": "listing_id",
          "yref": "y"
         },
         {
          "font": {
           "color": "#FFFFFF"
          },
          "showarrow": false,
          "text": "",
          "x": "longitude",
          "xref": "x",
          "y": "listing_id",
          "yref": "y"
         },
         {
          "font": {
           "color": "#FFFFFF"
          },
          "showarrow": false,
          "text": "",
          "x": "mileage",
          "xref": "x",
          "y": "listing_id",
          "yref": "y"
         },
         {
          "font": {
           "color": "#FFFFFF"
          },
          "showarrow": false,
          "text": "",
          "x": "owner_count",
          "xref": "x",
          "y": "listing_id",
          "yref": "y"
         },
         {
          "font": {
           "color": "#FFFFFF"
          },
          "showarrow": false,
          "text": "",
          "x": "price",
          "xref": "x",
          "y": "listing_id",
          "yref": "y"
         },
         {
          "font": {
           "color": "#FFFFFF"
          },
          "showarrow": false,
          "text": "",
          "x": "savings_amount",
          "xref": "x",
          "y": "listing_id",
          "yref": "y"
         },
         {
          "font": {
           "color": "#FFFFFF"
          },
          "showarrow": false,
          "text": "",
          "x": "seller_rating",
          "xref": "x",
          "y": "listing_id",
          "yref": "y"
         },
         {
          "font": {
           "color": "#FFFFFF"
          },
          "showarrow": false,
          "text": "",
          "x": "sp_id",
          "xref": "x",
          "y": "listing_id",
          "yref": "y"
         },
         {
          "font": {
           "color": "#FFFFFF"
          },
          "showarrow": false,
          "text": "",
          "x": "vehicle_damage_category",
          "xref": "x",
          "y": "listing_id",
          "yref": "y"
         },
         {
          "font": {
           "color": "#FFFFFF"
          },
          "showarrow": false,
          "text": "",
          "x": "year",
          "xref": "x",
          "y": "listing_id",
          "yref": "y"
         },
         {
          "font": {
           "color": "#FFFFFF"
          },
          "showarrow": false,
          "text": "-0.09",
          "x": "city_fuel_economy",
          "xref": "x",
          "y": "longitude",
          "yref": "y"
         },
         {
          "font": {
           "color": "#FFFFFF"
          },
          "showarrow": false,
          "text": "",
          "x": "combine_fuel_economy",
          "xref": "x",
          "y": "longitude",
          "yref": "y"
         },
         {
          "font": {
           "color": "#FFFFFF"
          },
          "showarrow": false,
          "text": "0.01",
          "x": "daysonmarket",
          "xref": "x",
          "y": "longitude",
          "yref": "y"
         },
         {
          "font": {
           "color": "#FFFFFF"
          },
          "showarrow": false,
          "text": "-0.01",
          "x": "engine_displacement",
          "xref": "x",
          "y": "longitude",
          "yref": "y"
         },
         {
          "font": {
           "color": "#FFFFFF"
          },
          "showarrow": false,
          "text": "0.02",
          "x": "franchise_dealer",
          "xref": "x",
          "y": "longitude",
          "yref": "y"
         },
         {
          "font": {
           "color": "#FFFFFF"
          },
          "showarrow": false,
          "text": "-0.08",
          "x": "highway_fuel_economy",
          "xref": "x",
          "y": "longitude",
          "yref": "y"
         },
         {
          "font": {
           "color": "#FFFFFF"
          },
          "showarrow": false,
          "text": "-0.01",
          "x": "horsepower",
          "xref": "x",
          "y": "longitude",
          "yref": "y"
         },
         {
          "font": {
           "color": "#FFFFFF"
          },
          "showarrow": false,
          "text": "",
          "x": "is_certified",
          "xref": "x",
          "y": "longitude",
          "yref": "y"
         },
         {
          "font": {
           "color": "#FFFFFF"
          },
          "showarrow": false,
          "text": "-0.01",
          "x": "is_new",
          "xref": "x",
          "y": "longitude",
          "yref": "y"
         },
         {
          "font": {
           "color": "#FFFFFF"
          },
          "showarrow": false,
          "text": "0.17",
          "x": "latitude",
          "xref": "x",
          "y": "longitude",
          "yref": "y"
         },
         {
          "font": {
           "color": "#FFFFFF"
          },
          "showarrow": false,
          "text": "-0.02",
          "x": "listing_id",
          "xref": "x",
          "y": "longitude",
          "yref": "y"
         },
         {
          "font": {
           "color": "#FFFFFF"
          },
          "showarrow": false,
          "text": "",
          "x": "longitude",
          "xref": "x",
          "y": "longitude",
          "yref": "y"
         },
         {
          "font": {
           "color": "#FFFFFF"
          },
          "showarrow": false,
          "text": "",
          "x": "mileage",
          "xref": "x",
          "y": "longitude",
          "yref": "y"
         },
         {
          "font": {
           "color": "#FFFFFF"
          },
          "showarrow": false,
          "text": "",
          "x": "owner_count",
          "xref": "x",
          "y": "longitude",
          "yref": "y"
         },
         {
          "font": {
           "color": "#FFFFFF"
          },
          "showarrow": false,
          "text": "",
          "x": "price",
          "xref": "x",
          "y": "longitude",
          "yref": "y"
         },
         {
          "font": {
           "color": "#FFFFFF"
          },
          "showarrow": false,
          "text": "",
          "x": "savings_amount",
          "xref": "x",
          "y": "longitude",
          "yref": "y"
         },
         {
          "font": {
           "color": "#FFFFFF"
          },
          "showarrow": false,
          "text": "",
          "x": "seller_rating",
          "xref": "x",
          "y": "longitude",
          "yref": "y"
         },
         {
          "font": {
           "color": "#FFFFFF"
          },
          "showarrow": false,
          "text": "",
          "x": "sp_id",
          "xref": "x",
          "y": "longitude",
          "yref": "y"
         },
         {
          "font": {
           "color": "#FFFFFF"
          },
          "showarrow": false,
          "text": "",
          "x": "vehicle_damage_category",
          "xref": "x",
          "y": "longitude",
          "yref": "y"
         },
         {
          "font": {
           "color": "#FFFFFF"
          },
          "showarrow": false,
          "text": "",
          "x": "year",
          "xref": "x",
          "y": "longitude",
          "yref": "y"
         },
         {
          "font": {
           "color": "#FFFFFF"
          },
          "showarrow": false,
          "text": "-0.15",
          "x": "city_fuel_economy",
          "xref": "x",
          "y": "mileage",
          "yref": "y"
         },
         {
          "font": {
           "color": "#FFFFFF"
          },
          "showarrow": false,
          "text": "",
          "x": "combine_fuel_economy",
          "xref": "x",
          "y": "mileage",
          "yref": "y"
         },
         {
          "font": {
           "color": "#FFFFFF"
          },
          "showarrow": false,
          "text": "-0.05",
          "x": "daysonmarket",
          "xref": "x",
          "y": "mileage",
          "yref": "y"
         },
         {
          "font": {
           "color": "#FFFFFF"
          },
          "showarrow": false,
          "text": "0.15",
          "x": "engine_displacement",
          "xref": "x",
          "y": "mileage",
          "yref": "y"
         },
         {
          "font": {
           "color": "#FFFFFF"
          },
          "showarrow": false,
          "text": "-0.32",
          "x": "franchise_dealer",
          "xref": "x",
          "y": "mileage",
          "yref": "y"
         },
         {
          "font": {
           "color": "#FFFFFF"
          },
          "showarrow": false,
          "text": "-0.14",
          "x": "highway_fuel_economy",
          "xref": "x",
          "y": "mileage",
          "yref": "y"
         },
         {
          "font": {
           "color": "#FFFFFF"
          },
          "showarrow": false,
          "text": "-0.02",
          "x": "horsepower",
          "xref": "x",
          "y": "mileage",
          "yref": "y"
         },
         {
          "font": {
           "color": "#FFFFFF"
          },
          "showarrow": false,
          "text": "",
          "x": "is_certified",
          "xref": "x",
          "y": "mileage",
          "yref": "y"
         },
         {
          "font": {
           "color": "#FFFFFF"
          },
          "showarrow": false,
          "text": "-0.39",
          "x": "is_new",
          "xref": "x",
          "y": "mileage",
          "yref": "y"
         },
         {
          "font": {
           "color": "#FFFFFF"
          },
          "showarrow": false,
          "text": "0.03",
          "x": "latitude",
          "xref": "x",
          "y": "mileage",
          "yref": "y"
         },
         {
          "font": {
           "color": "#FFFFFF"
          },
          "showarrow": false,
          "text": "0.04",
          "x": "listing_id",
          "xref": "x",
          "y": "mileage",
          "yref": "y"
         },
         {
          "font": {
           "color": "#FFFFFF"
          },
          "showarrow": false,
          "text": "0.01",
          "x": "longitude",
          "xref": "x",
          "y": "mileage",
          "yref": "y"
         },
         {
          "font": {
           "color": "#FFFFFF"
          },
          "showarrow": false,
          "text": "",
          "x": "mileage",
          "xref": "x",
          "y": "mileage",
          "yref": "y"
         },
         {
          "font": {
           "color": "#FFFFFF"
          },
          "showarrow": false,
          "text": "",
          "x": "owner_count",
          "xref": "x",
          "y": "mileage",
          "yref": "y"
         },
         {
          "font": {
           "color": "#FFFFFF"
          },
          "showarrow": false,
          "text": "",
          "x": "price",
          "xref": "x",
          "y": "mileage",
          "yref": "y"
         },
         {
          "font": {
           "color": "#FFFFFF"
          },
          "showarrow": false,
          "text": "",
          "x": "savings_amount",
          "xref": "x",
          "y": "mileage",
          "yref": "y"
         },
         {
          "font": {
           "color": "#FFFFFF"
          },
          "showarrow": false,
          "text": "",
          "x": "seller_rating",
          "xref": "x",
          "y": "mileage",
          "yref": "y"
         },
         {
          "font": {
           "color": "#FFFFFF"
          },
          "showarrow": false,
          "text": "",
          "x": "sp_id",
          "xref": "x",
          "y": "mileage",
          "yref": "y"
         },
         {
          "font": {
           "color": "#FFFFFF"
          },
          "showarrow": false,
          "text": "",
          "x": "vehicle_damage_category",
          "xref": "x",
          "y": "mileage",
          "yref": "y"
         },
         {
          "font": {
           "color": "#FFFFFF"
          },
          "showarrow": false,
          "text": "",
          "x": "year",
          "xref": "x",
          "y": "mileage",
          "yref": "y"
         },
         {
          "font": {
           "color": "#FFFFFF"
          },
          "showarrow": false,
          "text": "-0.13",
          "x": "city_fuel_economy",
          "xref": "x",
          "y": "owner_count",
          "yref": "y"
         },
         {
          "font": {
           "color": "#FFFFFF"
          },
          "showarrow": false,
          "text": "",
          "x": "combine_fuel_economy",
          "xref": "x",
          "y": "owner_count",
          "yref": "y"
         },
         {
          "font": {
           "color": "#FFFFFF"
          },
          "showarrow": false,
          "text": "0.1",
          "x": "daysonmarket",
          "xref": "x",
          "y": "owner_count",
          "yref": "y"
         },
         {
          "font": {
           "color": "#FFFFFF"
          },
          "showarrow": false,
          "text": "0.12",
          "x": "engine_displacement",
          "xref": "x",
          "y": "owner_count",
          "yref": "y"
         },
         {
          "font": {
           "color": "#FFFFFF"
          },
          "showarrow": false,
          "text": "-0.27",
          "x": "franchise_dealer",
          "xref": "x",
          "y": "owner_count",
          "yref": "y"
         },
         {
          "font": {
           "color": "#FFFFFF"
          },
          "showarrow": false,
          "text": "-0.13",
          "x": "highway_fuel_economy",
          "xref": "x",
          "y": "owner_count",
          "yref": "y"
         },
         {
          "font": {
           "color": "#FFFFFF"
          },
          "showarrow": false,
          "text": "0.0",
          "x": "horsepower",
          "xref": "x",
          "y": "owner_count",
          "yref": "y"
         },
         {
          "font": {
           "color": "#FFFFFF"
          },
          "showarrow": false,
          "text": "",
          "x": "is_certified",
          "xref": "x",
          "y": "owner_count",
          "yref": "y"
         },
         {
          "font": {
           "color": "#FFFFFF"
          },
          "showarrow": false,
          "text": "-0.01",
          "x": "is_new",
          "xref": "x",
          "y": "owner_count",
          "yref": "y"
         },
         {
          "font": {
           "color": "#FFFFFF"
          },
          "showarrow": false,
          "text": "0.0",
          "x": "latitude",
          "xref": "x",
          "y": "owner_count",
          "yref": "y"
         },
         {
          "font": {
           "color": "#FFFFFF"
          },
          "showarrow": false,
          "text": "-0.1",
          "x": "listing_id",
          "xref": "x",
          "y": "owner_count",
          "yref": "y"
         },
         {
          "font": {
           "color": "#FFFFFF"
          },
          "showarrow": false,
          "text": "-0.01",
          "x": "longitude",
          "xref": "x",
          "y": "owner_count",
          "yref": "y"
         },
         {
          "font": {
           "color": "#FFFFFF"
          },
          "showarrow": false,
          "text": "0.52",
          "x": "mileage",
          "xref": "x",
          "y": "owner_count",
          "yref": "y"
         },
         {
          "font": {
           "color": "#FFFFFF"
          },
          "showarrow": false,
          "text": "",
          "x": "owner_count",
          "xref": "x",
          "y": "owner_count",
          "yref": "y"
         },
         {
          "font": {
           "color": "#FFFFFF"
          },
          "showarrow": false,
          "text": "",
          "x": "price",
          "xref": "x",
          "y": "owner_count",
          "yref": "y"
         },
         {
          "font": {
           "color": "#FFFFFF"
          },
          "showarrow": false,
          "text": "",
          "x": "savings_amount",
          "xref": "x",
          "y": "owner_count",
          "yref": "y"
         },
         {
          "font": {
           "color": "#FFFFFF"
          },
          "showarrow": false,
          "text": "",
          "x": "seller_rating",
          "xref": "x",
          "y": "owner_count",
          "yref": "y"
         },
         {
          "font": {
           "color": "#FFFFFF"
          },
          "showarrow": false,
          "text": "",
          "x": "sp_id",
          "xref": "x",
          "y": "owner_count",
          "yref": "y"
         },
         {
          "font": {
           "color": "#FFFFFF"
          },
          "showarrow": false,
          "text": "",
          "x": "vehicle_damage_category",
          "xref": "x",
          "y": "owner_count",
          "yref": "y"
         },
         {
          "font": {
           "color": "#FFFFFF"
          },
          "showarrow": false,
          "text": "",
          "x": "year",
          "xref": "x",
          "y": "owner_count",
          "yref": "y"
         },
         {
          "font": {
           "color": "#FFFFFF"
          },
          "showarrow": false,
          "text": "-0.18",
          "x": "city_fuel_economy",
          "xref": "x",
          "y": "price",
          "yref": "y"
         },
         {
          "font": {
           "color": "#FFFFFF"
          },
          "showarrow": false,
          "text": "",
          "x": "combine_fuel_economy",
          "xref": "x",
          "y": "price",
          "yref": "y"
         },
         {
          "font": {
           "color": "#FFFFFF"
          },
          "showarrow": false,
          "text": "0.06",
          "x": "daysonmarket",
          "xref": "x",
          "y": "price",
          "yref": "y"
         },
         {
          "font": {
           "color": "#FFFFFF"
          },
          "showarrow": false,
          "text": "0.38",
          "x": "engine_displacement",
          "xref": "x",
          "y": "price",
          "yref": "y"
         },
         {
          "font": {
           "color": "#FFFFFF"
          },
          "showarrow": false,
          "text": "0.28",
          "x": "franchise_dealer",
          "xref": "x",
          "y": "price",
          "yref": "y"
         },
         {
          "font": {
           "color": "#FFFFFF"
          },
          "showarrow": false,
          "text": "-0.26",
          "x": "highway_fuel_economy",
          "xref": "x",
          "y": "price",
          "yref": "y"
         },
         {
          "font": {
           "color": "#FFFFFF"
          },
          "showarrow": false,
          "text": "0.61",
          "x": "horsepower",
          "xref": "x",
          "y": "price",
          "yref": "y"
         },
         {
          "font": {
           "color": "#FFFFFF"
          },
          "showarrow": false,
          "text": "",
          "x": "is_certified",
          "xref": "x",
          "y": "price",
          "yref": "y"
         },
         {
          "font": {
           "color": "#FFFFFF"
          },
          "showarrow": false,
          "text": "0.38",
          "x": "is_new",
          "xref": "x",
          "y": "price",
          "yref": "y"
         },
         {
          "font": {
           "color": "#FFFFFF"
          },
          "showarrow": false,
          "text": "-0.02",
          "x": "latitude",
          "xref": "x",
          "y": "price",
          "yref": "y"
         },
         {
          "font": {
           "color": "#FFFFFF"
          },
          "showarrow": false,
          "text": "-0.06",
          "x": "listing_id",
          "xref": "x",
          "y": "price",
          "yref": "y"
         },
         {
          "font": {
           "color": "#FFFFFF"
          },
          "showarrow": false,
          "text": "-0.03",
          "x": "longitude",
          "xref": "x",
          "y": "price",
          "yref": "y"
         },
         {
          "font": {
           "color": "#FFFFFF"
          },
          "showarrow": false,
          "text": "-0.27",
          "x": "mileage",
          "xref": "x",
          "y": "price",
          "yref": "y"
         },
         {
          "font": {
           "color": "#FFFFFF"
          },
          "showarrow": false,
          "text": "-0.23",
          "x": "owner_count",
          "xref": "x",
          "y": "price",
          "yref": "y"
         },
         {
          "font": {
           "color": "#FFFFFF"
          },
          "showarrow": false,
          "text": "",
          "x": "price",
          "xref": "x",
          "y": "price",
          "yref": "y"
         },
         {
          "font": {
           "color": "#FFFFFF"
          },
          "showarrow": false,
          "text": "",
          "x": "savings_amount",
          "xref": "x",
          "y": "price",
          "yref": "y"
         },
         {
          "font": {
           "color": "#FFFFFF"
          },
          "showarrow": false,
          "text": "",
          "x": "seller_rating",
          "xref": "x",
          "y": "price",
          "yref": "y"
         },
         {
          "font": {
           "color": "#FFFFFF"
          },
          "showarrow": false,
          "text": "",
          "x": "sp_id",
          "xref": "x",
          "y": "price",
          "yref": "y"
         },
         {
          "font": {
           "color": "#FFFFFF"
          },
          "showarrow": false,
          "text": "",
          "x": "vehicle_damage_category",
          "xref": "x",
          "y": "price",
          "yref": "y"
         },
         {
          "font": {
           "color": "#FFFFFF"
          },
          "showarrow": false,
          "text": "",
          "x": "year",
          "xref": "x",
          "y": "price",
          "yref": "y"
         },
         {
          "font": {
           "color": "#FFFFFF"
          },
          "showarrow": false,
          "text": "-0.1",
          "x": "city_fuel_economy",
          "xref": "x",
          "y": "savings_amount",
          "yref": "y"
         },
         {
          "font": {
           "color": "#FFFFFF"
          },
          "showarrow": false,
          "text": "",
          "x": "combine_fuel_economy",
          "xref": "x",
          "y": "savings_amount",
          "yref": "y"
         },
         {
          "font": {
           "color": "#FFFFFF"
          },
          "showarrow": false,
          "text": "-0.08",
          "x": "daysonmarket",
          "xref": "x",
          "y": "savings_amount",
          "yref": "y"
         },
         {
          "font": {
           "color": "#FFFFFF"
          },
          "showarrow": false,
          "text": "0.14",
          "x": "engine_displacement",
          "xref": "x",
          "y": "savings_amount",
          "yref": "y"
         },
         {
          "font": {
           "color": "#FFFFFF"
          },
          "showarrow": false,
          "text": "-0.21",
          "x": "franchise_dealer",
          "xref": "x",
          "y": "savings_amount",
          "yref": "y"
         },
         {
          "font": {
           "color": "#FFFFFF"
          },
          "showarrow": false,
          "text": "-0.1",
          "x": "highway_fuel_economy",
          "xref": "x",
          "y": "savings_amount",
          "yref": "y"
         },
         {
          "font": {
           "color": "#FFFFFF"
          },
          "showarrow": false,
          "text": "0.16",
          "x": "horsepower",
          "xref": "x",
          "y": "savings_amount",
          "yref": "y"
         },
         {
          "font": {
           "color": "#FFFFFF"
          },
          "showarrow": false,
          "text": "",
          "x": "is_certified",
          "xref": "x",
          "y": "savings_amount",
          "yref": "y"
         },
         {
          "font": {
           "color": "#FFFFFF"
          },
          "showarrow": false,
          "text": "-0.5",
          "x": "is_new",
          "xref": "x",
          "y": "savings_amount",
          "yref": "y"
         },
         {
          "font": {
           "color": "#FFFFFF"
          },
          "showarrow": false,
          "text": "-0.01",
          "x": "latitude",
          "xref": "x",
          "y": "savings_amount",
          "yref": "y"
         },
         {
          "font": {
           "color": "#FFFFFF"
          },
          "showarrow": false,
          "text": "0.07",
          "x": "listing_id",
          "xref": "x",
          "y": "savings_amount",
          "yref": "y"
         },
         {
          "font": {
           "color": "#FFFFFF"
          },
          "showarrow": false,
          "text": "-0.01",
          "x": "longitude",
          "xref": "x",
          "y": "savings_amount",
          "yref": "y"
         },
         {
          "font": {
           "color": "#FFFFFF"
          },
          "showarrow": false,
          "text": "0.15",
          "x": "mileage",
          "xref": "x",
          "y": "savings_amount",
          "yref": "y"
         },
         {
          "font": {
           "color": "#FFFFFF"
          },
          "showarrow": false,
          "text": "-0.06",
          "x": "owner_count",
          "xref": "x",
          "y": "savings_amount",
          "yref": "y"
         },
         {
          "font": {
           "color": "#FFFFFF"
          },
          "showarrow": false,
          "text": "-0.0",
          "x": "price",
          "xref": "x",
          "y": "savings_amount",
          "yref": "y"
         },
         {
          "font": {
           "color": "#FFFFFF"
          },
          "showarrow": false,
          "text": "",
          "x": "savings_amount",
          "xref": "x",
          "y": "savings_amount",
          "yref": "y"
         },
         {
          "font": {
           "color": "#FFFFFF"
          },
          "showarrow": false,
          "text": "",
          "x": "seller_rating",
          "xref": "x",
          "y": "savings_amount",
          "yref": "y"
         },
         {
          "font": {
           "color": "#FFFFFF"
          },
          "showarrow": false,
          "text": "",
          "x": "sp_id",
          "xref": "x",
          "y": "savings_amount",
          "yref": "y"
         },
         {
          "font": {
           "color": "#FFFFFF"
          },
          "showarrow": false,
          "text": "",
          "x": "vehicle_damage_category",
          "xref": "x",
          "y": "savings_amount",
          "yref": "y"
         },
         {
          "font": {
           "color": "#FFFFFF"
          },
          "showarrow": false,
          "text": "",
          "x": "year",
          "xref": "x",
          "y": "savings_amount",
          "yref": "y"
         },
         {
          "font": {
           "color": "#FFFFFF"
          },
          "showarrow": false,
          "text": "-0.04",
          "x": "city_fuel_economy",
          "xref": "x",
          "y": "seller_rating",
          "yref": "y"
         },
         {
          "font": {
           "color": "#FFFFFF"
          },
          "showarrow": false,
          "text": "",
          "x": "combine_fuel_economy",
          "xref": "x",
          "y": "seller_rating",
          "yref": "y"
         },
         {
          "font": {
           "color": "#FFFFFF"
          },
          "showarrow": false,
          "text": "-0.0",
          "x": "daysonmarket",
          "xref": "x",
          "y": "seller_rating",
          "yref": "y"
         },
         {
          "font": {
           "color": "#FFFFFF"
          },
          "showarrow": false,
          "text": "0.03",
          "x": "engine_displacement",
          "xref": "x",
          "y": "seller_rating",
          "yref": "y"
         },
         {
          "font": {
           "color": "#FFFFFF"
          },
          "showarrow": false,
          "text": "-0.04",
          "x": "franchise_dealer",
          "xref": "x",
          "y": "seller_rating",
          "yref": "y"
         },
         {
          "font": {
           "color": "#FFFFFF"
          },
          "showarrow": false,
          "text": "-0.05",
          "x": "highway_fuel_economy",
          "xref": "x",
          "y": "seller_rating",
          "yref": "y"
         },
         {
          "font": {
           "color": "#FFFFFF"
          },
          "showarrow": false,
          "text": "0.06",
          "x": "horsepower",
          "xref": "x",
          "y": "seller_rating",
          "yref": "y"
         },
         {
          "font": {
           "color": "#FFFFFF"
          },
          "showarrow": false,
          "text": "",
          "x": "is_certified",
          "xref": "x",
          "y": "seller_rating",
          "yref": "y"
         },
         {
          "font": {
           "color": "#FFFFFF"
          },
          "showarrow": false,
          "text": "-0.04",
          "x": "is_new",
          "xref": "x",
          "y": "seller_rating",
          "yref": "y"
         },
         {
          "font": {
           "color": "#FFFFFF"
          },
          "showarrow": false,
          "text": "0.09",
          "x": "latitude",
          "xref": "x",
          "y": "seller_rating",
          "yref": "y"
         },
         {
          "font": {
           "color": "#FFFFFF"
          },
          "showarrow": false,
          "text": "0.0",
          "x": "listing_id",
          "xref": "x",
          "y": "seller_rating",
          "yref": "y"
         },
         {
          "font": {
           "color": "#FFFFFF"
          },
          "showarrow": false,
          "text": "0.0",
          "x": "longitude",
          "xref": "x",
          "y": "seller_rating",
          "yref": "y"
         },
         {
          "font": {
           "color": "#FFFFFF"
          },
          "showarrow": false,
          "text": "0.02",
          "x": "mileage",
          "xref": "x",
          "y": "seller_rating",
          "yref": "y"
         },
         {
          "font": {
           "color": "#FFFFFF"
          },
          "showarrow": false,
          "text": "0.01",
          "x": "owner_count",
          "xref": "x",
          "y": "seller_rating",
          "yref": "y"
         },
         {
          "font": {
           "color": "#FFFFFF"
          },
          "showarrow": false,
          "text": "0.07",
          "x": "price",
          "xref": "x",
          "y": "seller_rating",
          "yref": "y"
         },
         {
          "font": {
           "color": "#FFFFFF"
          },
          "showarrow": false,
          "text": "0.01",
          "x": "savings_amount",
          "xref": "x",
          "y": "seller_rating",
          "yref": "y"
         },
         {
          "font": {
           "color": "#FFFFFF"
          },
          "showarrow": false,
          "text": "",
          "x": "seller_rating",
          "xref": "x",
          "y": "seller_rating",
          "yref": "y"
         },
         {
          "font": {
           "color": "#FFFFFF"
          },
          "showarrow": false,
          "text": "",
          "x": "sp_id",
          "xref": "x",
          "y": "seller_rating",
          "yref": "y"
         },
         {
          "font": {
           "color": "#FFFFFF"
          },
          "showarrow": false,
          "text": "",
          "x": "vehicle_damage_category",
          "xref": "x",
          "y": "seller_rating",
          "yref": "y"
         },
         {
          "font": {
           "color": "#FFFFFF"
          },
          "showarrow": false,
          "text": "",
          "x": "year",
          "xref": "x",
          "y": "seller_rating",
          "yref": "y"
         },
         {
          "font": {
           "color": "#FFFFFF"
          },
          "showarrow": false,
          "text": "-0.04",
          "x": "city_fuel_economy",
          "xref": "x",
          "y": "sp_id",
          "yref": "y"
         },
         {
          "font": {
           "color": "#FFFFFF"
          },
          "showarrow": false,
          "text": "",
          "x": "combine_fuel_economy",
          "xref": "x",
          "y": "sp_id",
          "yref": "y"
         },
         {
          "font": {
           "color": "#FFFFFF"
          },
          "showarrow": false,
          "text": "0.01",
          "x": "daysonmarket",
          "xref": "x",
          "y": "sp_id",
          "yref": "y"
         },
         {
          "font": {
           "color": "#FFFFFF"
          },
          "showarrow": false,
          "text": "0.03",
          "x": "engine_displacement",
          "xref": "x",
          "y": "sp_id",
          "yref": "y"
         },
         {
          "font": {
           "color": "#FFFFFF"
          },
          "showarrow": false,
          "text": "-0.41",
          "x": "franchise_dealer",
          "xref": "x",
          "y": "sp_id",
          "yref": "y"
         },
         {
          "font": {
           "color": "#FFFFFF"
          },
          "showarrow": false,
          "text": "-0.03",
          "x": "highway_fuel_economy",
          "xref": "x",
          "y": "sp_id",
          "yref": "y"
         },
         {
          "font": {
           "color": "#FFFFFF"
          },
          "showarrow": false,
          "text": "-0.02",
          "x": "horsepower",
          "xref": "x",
          "y": "sp_id",
          "yref": "y"
         },
         {
          "font": {
           "color": "#FFFFFF"
          },
          "showarrow": false,
          "text": "",
          "x": "is_certified",
          "xref": "x",
          "y": "sp_id",
          "yref": "y"
         },
         {
          "font": {
           "color": "#FFFFFF"
          },
          "showarrow": false,
          "text": "-0.2",
          "x": "is_new",
          "xref": "x",
          "y": "sp_id",
          "yref": "y"
         },
         {
          "font": {
           "color": "#FFFFFF"
          },
          "showarrow": false,
          "text": "-0.04",
          "x": "latitude",
          "xref": "x",
          "y": "sp_id",
          "yref": "y"
         },
         {
          "font": {
           "color": "#FFFFFF"
          },
          "showarrow": false,
          "text": "-0.01",
          "x": "listing_id",
          "xref": "x",
          "y": "sp_id",
          "yref": "y"
         },
         {
          "font": {
           "color": "#FFFFFF"
          },
          "showarrow": false,
          "text": "0.02",
          "x": "longitude",
          "xref": "x",
          "y": "sp_id",
          "yref": "y"
         },
         {
          "font": {
           "color": "#FFFFFF"
          },
          "showarrow": false,
          "text": "0.14",
          "x": "mileage",
          "xref": "x",
          "y": "sp_id",
          "yref": "y"
         },
         {
          "font": {
           "color": "#FFFFFF"
          },
          "showarrow": false,
          "text": "0.16",
          "x": "owner_count",
          "xref": "x",
          "y": "sp_id",
          "yref": "y"
         },
         {
          "font": {
           "color": "#FFFFFF"
          },
          "showarrow": false,
          "text": "-0.12",
          "x": "price",
          "xref": "x",
          "y": "sp_id",
          "yref": "y"
         },
         {
          "font": {
           "color": "#FFFFFF"
          },
          "showarrow": false,
          "text": "0.09",
          "x": "savings_amount",
          "xref": "x",
          "y": "sp_id",
          "yref": "y"
         },
         {
          "font": {
           "color": "#FFFFFF"
          },
          "showarrow": false,
          "text": "-0.03",
          "x": "seller_rating",
          "xref": "x",
          "y": "sp_id",
          "yref": "y"
         },
         {
          "font": {
           "color": "#FFFFFF"
          },
          "showarrow": false,
          "text": "",
          "x": "sp_id",
          "xref": "x",
          "y": "sp_id",
          "yref": "y"
         },
         {
          "font": {
           "color": "#FFFFFF"
          },
          "showarrow": false,
          "text": "",
          "x": "vehicle_damage_category",
          "xref": "x",
          "y": "sp_id",
          "yref": "y"
         },
         {
          "font": {
           "color": "#FFFFFF"
          },
          "showarrow": false,
          "text": "",
          "x": "year",
          "xref": "x",
          "y": "sp_id",
          "yref": "y"
         },
         {
          "font": {
           "color": "#FFFFFF"
          },
          "showarrow": false,
          "text": "",
          "x": "city_fuel_economy",
          "xref": "x",
          "y": "vehicle_damage_category",
          "yref": "y"
         },
         {
          "font": {
           "color": "#FFFFFF"
          },
          "showarrow": false,
          "text": "",
          "x": "combine_fuel_economy",
          "xref": "x",
          "y": "vehicle_damage_category",
          "yref": "y"
         },
         {
          "font": {
           "color": "#FFFFFF"
          },
          "showarrow": false,
          "text": "",
          "x": "daysonmarket",
          "xref": "x",
          "y": "vehicle_damage_category",
          "yref": "y"
         },
         {
          "font": {
           "color": "#FFFFFF"
          },
          "showarrow": false,
          "text": "",
          "x": "engine_displacement",
          "xref": "x",
          "y": "vehicle_damage_category",
          "yref": "y"
         },
         {
          "font": {
           "color": "#FFFFFF"
          },
          "showarrow": false,
          "text": "",
          "x": "franchise_dealer",
          "xref": "x",
          "y": "vehicle_damage_category",
          "yref": "y"
         },
         {
          "font": {
           "color": "#FFFFFF"
          },
          "showarrow": false,
          "text": "",
          "x": "highway_fuel_economy",
          "xref": "x",
          "y": "vehicle_damage_category",
          "yref": "y"
         },
         {
          "font": {
           "color": "#FFFFFF"
          },
          "showarrow": false,
          "text": "",
          "x": "horsepower",
          "xref": "x",
          "y": "vehicle_damage_category",
          "yref": "y"
         },
         {
          "font": {
           "color": "#FFFFFF"
          },
          "showarrow": false,
          "text": "",
          "x": "is_certified",
          "xref": "x",
          "y": "vehicle_damage_category",
          "yref": "y"
         },
         {
          "font": {
           "color": "#FFFFFF"
          },
          "showarrow": false,
          "text": "",
          "x": "is_new",
          "xref": "x",
          "y": "vehicle_damage_category",
          "yref": "y"
         },
         {
          "font": {
           "color": "#FFFFFF"
          },
          "showarrow": false,
          "text": "",
          "x": "latitude",
          "xref": "x",
          "y": "vehicle_damage_category",
          "yref": "y"
         },
         {
          "font": {
           "color": "#FFFFFF"
          },
          "showarrow": false,
          "text": "",
          "x": "listing_id",
          "xref": "x",
          "y": "vehicle_damage_category",
          "yref": "y"
         },
         {
          "font": {
           "color": "#FFFFFF"
          },
          "showarrow": false,
          "text": "",
          "x": "longitude",
          "xref": "x",
          "y": "vehicle_damage_category",
          "yref": "y"
         },
         {
          "font": {
           "color": "#FFFFFF"
          },
          "showarrow": false,
          "text": "",
          "x": "mileage",
          "xref": "x",
          "y": "vehicle_damage_category",
          "yref": "y"
         },
         {
          "font": {
           "color": "#FFFFFF"
          },
          "showarrow": false,
          "text": "",
          "x": "owner_count",
          "xref": "x",
          "y": "vehicle_damage_category",
          "yref": "y"
         },
         {
          "font": {
           "color": "#FFFFFF"
          },
          "showarrow": false,
          "text": "",
          "x": "price",
          "xref": "x",
          "y": "vehicle_damage_category",
          "yref": "y"
         },
         {
          "font": {
           "color": "#FFFFFF"
          },
          "showarrow": false,
          "text": "",
          "x": "savings_amount",
          "xref": "x",
          "y": "vehicle_damage_category",
          "yref": "y"
         },
         {
          "font": {
           "color": "#FFFFFF"
          },
          "showarrow": false,
          "text": "",
          "x": "seller_rating",
          "xref": "x",
          "y": "vehicle_damage_category",
          "yref": "y"
         },
         {
          "font": {
           "color": "#FFFFFF"
          },
          "showarrow": false,
          "text": "",
          "x": "sp_id",
          "xref": "x",
          "y": "vehicle_damage_category",
          "yref": "y"
         },
         {
          "font": {
           "color": "#FFFFFF"
          },
          "showarrow": false,
          "text": "",
          "x": "vehicle_damage_category",
          "xref": "x",
          "y": "vehicle_damage_category",
          "yref": "y"
         },
         {
          "font": {
           "color": "#FFFFFF"
          },
          "showarrow": false,
          "text": "",
          "x": "year",
          "xref": "x",
          "y": "vehicle_damage_category",
          "yref": "y"
         },
         {
          "font": {
           "color": "#FFFFFF"
          },
          "showarrow": false,
          "text": "0.16",
          "x": "city_fuel_economy",
          "xref": "x",
          "y": "year",
          "yref": "y"
         },
         {
          "font": {
           "color": "#FFFFFF"
          },
          "showarrow": false,
          "text": "",
          "x": "combine_fuel_economy",
          "xref": "x",
          "y": "year",
          "yref": "y"
         },
         {
          "font": {
           "color": "#FFFFFF"
          },
          "showarrow": false,
          "text": "-0.0",
          "x": "daysonmarket",
          "xref": "x",
          "y": "year",
          "yref": "y"
         },
         {
          "font": {
           "color": "#FFFFFF"
          },
          "showarrow": false,
          "text": "-0.14",
          "x": "engine_displacement",
          "xref": "x",
          "y": "year",
          "yref": "y"
         },
         {
          "font": {
           "color": "#FFFFFF"
          },
          "showarrow": false,
          "text": "0.49",
          "x": "franchise_dealer",
          "xref": "x",
          "y": "year",
          "yref": "y"
         },
         {
          "font": {
           "color": "#FFFFFF"
          },
          "showarrow": false,
          "text": "0.15",
          "x": "highway_fuel_economy",
          "xref": "x",
          "y": "year",
          "yref": "y"
         },
         {
          "font": {
           "color": "#FFFFFF"
          },
          "showarrow": false,
          "text": "0.03",
          "x": "horsepower",
          "xref": "x",
          "y": "year",
          "yref": "y"
         },
         {
          "font": {
           "color": "#FFFFFF"
          },
          "showarrow": false,
          "text": "",
          "x": "is_certified",
          "xref": "x",
          "y": "year",
          "yref": "y"
         },
         {
          "font": {
           "color": "#FFFFFF"
          },
          "showarrow": false,
          "text": "0.55",
          "x": "is_new",
          "xref": "x",
          "y": "year",
          "yref": "y"
         },
         {
          "font": {
           "color": "#FFFFFF"
          },
          "showarrow": false,
          "text": "-0.07",
          "x": "latitude",
          "xref": "x",
          "y": "year",
          "yref": "y"
         },
         {
          "font": {
           "color": "#FFFFFF"
          },
          "showarrow": false,
          "text": "0.01",
          "x": "listing_id",
          "xref": "x",
          "y": "year",
          "yref": "y"
         },
         {
          "font": {
           "color": "#FFFFFF"
          },
          "showarrow": false,
          "text": "-0.01",
          "x": "longitude",
          "xref": "x",
          "y": "year",
          "yref": "y"
         },
         {
          "font": {
           "color": "#FFFFFF"
          },
          "showarrow": false,
          "text": "-0.47",
          "x": "mileage",
          "xref": "x",
          "y": "year",
          "yref": "y"
         },
         {
          "font": {
           "color": "#FFFFFF"
          },
          "showarrow": false,
          "text": "-0.59",
          "x": "owner_count",
          "xref": "x",
          "y": "year",
          "yref": "y"
         },
         {
          "font": {
           "color": "#FFFFFF"
          },
          "showarrow": false,
          "text": "0.36",
          "x": "price",
          "xref": "x",
          "y": "year",
          "yref": "y"
         },
         {
          "font": {
           "color": "#FFFFFF"
          },
          "showarrow": false,
          "text": "-0.19",
          "x": "savings_amount",
          "xref": "x",
          "y": "year",
          "yref": "y"
         },
         {
          "font": {
           "color": "#FFFFFF"
          },
          "showarrow": false,
          "text": "-0.05",
          "x": "seller_rating",
          "xref": "x",
          "y": "year",
          "yref": "y"
         },
         {
          "font": {
           "color": "#FFFFFF"
          },
          "showarrow": false,
          "text": "-0.21",
          "x": "sp_id",
          "xref": "x",
          "y": "year",
          "yref": "y"
         },
         {
          "font": {
           "color": "#FFFFFF"
          },
          "showarrow": false,
          "text": "",
          "x": "vehicle_damage_category",
          "xref": "x",
          "y": "year",
          "yref": "y"
         },
         {
          "font": {
           "color": "#FFFFFF"
          },
          "showarrow": false,
          "text": "",
          "x": "year",
          "xref": "x",
          "y": "year",
          "yref": "y"
         }
        ],
        "xaxis": {
         "dtick": 1,
         "gridcolor": "rgb(0, 0, 0)",
         "side": "bottom",
         "ticks": "",
         "showgrid": false
        },
        "yaxis": {
         "dtick": 1,
         "ticks": "",
         "ticksuffix": "  ",
         "showgrid": false,
         "autorange": "reversed"
        },
        "template": {
         "data": {
          "barpolar": [
           {
            "marker": {
             "line": {
              "color": "white",
              "width": 0.5
             },
             "pattern": {
              "fillmode": "overlay",
              "size": 10,
              "solidity": 0.2
             }
            },
            "type": "barpolar"
           }
          ],
          "bar": [
           {
            "error_x": {
             "color": "rgb(36,36,36)"
            },
            "error_y": {
             "color": "rgb(36,36,36)"
            },
            "marker": {
             "line": {
              "color": "white",
              "width": 0.5
             },
             "pattern": {
              "fillmode": "overlay",
              "size": 10,
              "solidity": 0.2
             }
            },
            "type": "bar"
           }
          ],
          "carpet": [
           {
            "aaxis": {
             "endlinecolor": "rgb(36,36,36)",
             "gridcolor": "white",
             "linecolor": "white",
             "minorgridcolor": "white",
             "startlinecolor": "rgb(36,36,36)"
            },
            "baxis": {
             "endlinecolor": "rgb(36,36,36)",
             "gridcolor": "white",
             "linecolor": "white",
             "minorgridcolor": "white",
             "startlinecolor": "rgb(36,36,36)"
            },
            "type": "carpet"
           }
          ],
          "choropleth": [
           {
            "colorbar": {
             "outlinewidth": 1,
             "tickcolor": "rgb(36,36,36)",
             "ticks": "outside"
            },
            "type": "choropleth"
           }
          ],
          "contourcarpet": [
           {
            "colorbar": {
             "outlinewidth": 1,
             "tickcolor": "rgb(36,36,36)",
             "ticks": "outside"
            },
            "type": "contourcarpet"
           }
          ],
          "contour": [
           {
            "colorbar": {
             "outlinewidth": 1,
             "tickcolor": "rgb(36,36,36)",
             "ticks": "outside"
            },
            "colorscale": [
             [
              0.0,
              "#440154"
             ],
             [
              0.1111111111111111,
              "#482878"
             ],
             [
              0.2222222222222222,
              "#3e4989"
             ],
             [
              0.3333333333333333,
              "#31688e"
             ],
             [
              0.4444444444444444,
              "#26828e"
             ],
             [
              0.5555555555555556,
              "#1f9e89"
             ],
             [
              0.6666666666666666,
              "#35b779"
             ],
             [
              0.7777777777777778,
              "#6ece58"
             ],
             [
              0.8888888888888888,
              "#b5de2b"
             ],
             [
              1.0,
              "#fde725"
             ]
            ],
            "type": "contour"
           }
          ],
          "heatmapgl": [
           {
            "colorbar": {
             "outlinewidth": 1,
             "tickcolor": "rgb(36,36,36)",
             "ticks": "outside"
            },
            "colorscale": [
             [
              0.0,
              "#440154"
             ],
             [
              0.1111111111111111,
              "#482878"
             ],
             [
              0.2222222222222222,
              "#3e4989"
             ],
             [
              0.3333333333333333,
              "#31688e"
             ],
             [
              0.4444444444444444,
              "#26828e"
             ],
             [
              0.5555555555555556,
              "#1f9e89"
             ],
             [
              0.6666666666666666,
              "#35b779"
             ],
             [
              0.7777777777777778,
              "#6ece58"
             ],
             [
              0.8888888888888888,
              "#b5de2b"
             ],
             [
              1.0,
              "#fde725"
             ]
            ],
            "type": "heatmapgl"
           }
          ],
          "heatmap": [
           {
            "colorbar": {
             "outlinewidth": 1,
             "tickcolor": "rgb(36,36,36)",
             "ticks": "outside"
            },
            "colorscale": [
             [
              0.0,
              "#440154"
             ],
             [
              0.1111111111111111,
              "#482878"
             ],
             [
              0.2222222222222222,
              "#3e4989"
             ],
             [
              0.3333333333333333,
              "#31688e"
             ],
             [
              0.4444444444444444,
              "#26828e"
             ],
             [
              0.5555555555555556,
              "#1f9e89"
             ],
             [
              0.6666666666666666,
              "#35b779"
             ],
             [
              0.7777777777777778,
              "#6ece58"
             ],
             [
              0.8888888888888888,
              "#b5de2b"
             ],
             [
              1.0,
              "#fde725"
             ]
            ],
            "type": "heatmap"
           }
          ],
          "histogram2dcontour": [
           {
            "colorbar": {
             "outlinewidth": 1,
             "tickcolor": "rgb(36,36,36)",
             "ticks": "outside"
            },
            "colorscale": [
             [
              0.0,
              "#440154"
             ],
             [
              0.1111111111111111,
              "#482878"
             ],
             [
              0.2222222222222222,
              "#3e4989"
             ],
             [
              0.3333333333333333,
              "#31688e"
             ],
             [
              0.4444444444444444,
              "#26828e"
             ],
             [
              0.5555555555555556,
              "#1f9e89"
             ],
             [
              0.6666666666666666,
              "#35b779"
             ],
             [
              0.7777777777777778,
              "#6ece58"
             ],
             [
              0.8888888888888888,
              "#b5de2b"
             ],
             [
              1.0,
              "#fde725"
             ]
            ],
            "type": "histogram2dcontour"
           }
          ],
          "histogram2d": [
           {
            "colorbar": {
             "outlinewidth": 1,
             "tickcolor": "rgb(36,36,36)",
             "ticks": "outside"
            },
            "colorscale": [
             [
              0.0,
              "#440154"
             ],
             [
              0.1111111111111111,
              "#482878"
             ],
             [
              0.2222222222222222,
              "#3e4989"
             ],
             [
              0.3333333333333333,
              "#31688e"
             ],
             [
              0.4444444444444444,
              "#26828e"
             ],
             [
              0.5555555555555556,
              "#1f9e89"
             ],
             [
              0.6666666666666666,
              "#35b779"
             ],
             [
              0.7777777777777778,
              "#6ece58"
             ],
             [
              0.8888888888888888,
              "#b5de2b"
             ],
             [
              1.0,
              "#fde725"
             ]
            ],
            "type": "histogram2d"
           }
          ],
          "histogram": [
           {
            "marker": {
             "line": {
              "color": "white",
              "width": 0.6
             }
            },
            "type": "histogram"
           }
          ],
          "mesh3d": [
           {
            "colorbar": {
             "outlinewidth": 1,
             "tickcolor": "rgb(36,36,36)",
             "ticks": "outside"
            },
            "type": "mesh3d"
           }
          ],
          "parcoords": [
           {
            "line": {
             "colorbar": {
              "outlinewidth": 1,
              "tickcolor": "rgb(36,36,36)",
              "ticks": "outside"
             }
            },
            "type": "parcoords"
           }
          ],
          "pie": [
           {
            "automargin": true,
            "type": "pie"
           }
          ],
          "scatter3d": [
           {
            "line": {
             "colorbar": {
              "outlinewidth": 1,
              "tickcolor": "rgb(36,36,36)",
              "ticks": "outside"
             }
            },
            "marker": {
             "colorbar": {
              "outlinewidth": 1,
              "tickcolor": "rgb(36,36,36)",
              "ticks": "outside"
             }
            },
            "type": "scatter3d"
           }
          ],
          "scattercarpet": [
           {
            "marker": {
             "colorbar": {
              "outlinewidth": 1,
              "tickcolor": "rgb(36,36,36)",
              "ticks": "outside"
             }
            },
            "type": "scattercarpet"
           }
          ],
          "scattergeo": [
           {
            "marker": {
             "colorbar": {
              "outlinewidth": 1,
              "tickcolor": "rgb(36,36,36)",
              "ticks": "outside"
             }
            },
            "type": "scattergeo"
           }
          ],
          "scattergl": [
           {
            "marker": {
             "colorbar": {
              "outlinewidth": 1,
              "tickcolor": "rgb(36,36,36)",
              "ticks": "outside"
             }
            },
            "type": "scattergl"
           }
          ],
          "scattermapbox": [
           {
            "marker": {
             "colorbar": {
              "outlinewidth": 1,
              "tickcolor": "rgb(36,36,36)",
              "ticks": "outside"
             }
            },
            "type": "scattermapbox"
           }
          ],
          "scatterpolargl": [
           {
            "marker": {
             "colorbar": {
              "outlinewidth": 1,
              "tickcolor": "rgb(36,36,36)",
              "ticks": "outside"
             }
            },
            "type": "scatterpolargl"
           }
          ],
          "scatterpolar": [
           {
            "marker": {
             "colorbar": {
              "outlinewidth": 1,
              "tickcolor": "rgb(36,36,36)",
              "ticks": "outside"
             }
            },
            "type": "scatterpolar"
           }
          ],
          "scatter": [
           {
            "fillpattern": {
             "fillmode": "overlay",
             "size": 10,
             "solidity": 0.2
            },
            "type": "scatter"
           }
          ],
          "scatterternary": [
           {
            "marker": {
             "colorbar": {
              "outlinewidth": 1,
              "tickcolor": "rgb(36,36,36)",
              "ticks": "outside"
             }
            },
            "type": "scatterternary"
           }
          ],
          "surface": [
           {
            "colorbar": {
             "outlinewidth": 1,
             "tickcolor": "rgb(36,36,36)",
             "ticks": "outside"
            },
            "colorscale": [
             [
              0.0,
              "#440154"
             ],
             [
              0.1111111111111111,
              "#482878"
             ],
             [
              0.2222222222222222,
              "#3e4989"
             ],
             [
              0.3333333333333333,
              "#31688e"
             ],
             [
              0.4444444444444444,
              "#26828e"
             ],
             [
              0.5555555555555556,
              "#1f9e89"
             ],
             [
              0.6666666666666666,
              "#35b779"
             ],
             [
              0.7777777777777778,
              "#6ece58"
             ],
             [
              0.8888888888888888,
              "#b5de2b"
             ],
             [
              1.0,
              "#fde725"
             ]
            ],
            "type": "surface"
           }
          ],
          "table": [
           {
            "cells": {
             "fill": {
              "color": "rgb(237,237,237)"
             },
             "line": {
              "color": "white"
             }
            },
            "header": {
             "fill": {
              "color": "rgb(217,217,217)"
             },
             "line": {
              "color": "white"
             }
            },
            "type": "table"
           }
          ]
         },
         "layout": {
          "annotationdefaults": {
           "arrowhead": 0,
           "arrowwidth": 1
          },
          "autotypenumbers": "strict",
          "coloraxis": {
           "colorbar": {
            "outlinewidth": 1,
            "tickcolor": "rgb(36,36,36)",
            "ticks": "outside"
           }
          },
          "colorscale": {
           "diverging": [
            [
             0.0,
             "rgb(103,0,31)"
            ],
            [
             0.1,
             "rgb(178,24,43)"
            ],
            [
             0.2,
             "rgb(214,96,77)"
            ],
            [
             0.3,
             "rgb(244,165,130)"
            ],
            [
             0.4,
             "rgb(253,219,199)"
            ],
            [
             0.5,
             "rgb(247,247,247)"
            ],
            [
             0.6,
             "rgb(209,229,240)"
            ],
            [
             0.7,
             "rgb(146,197,222)"
            ],
            [
             0.8,
             "rgb(67,147,195)"
            ],
            [
             0.9,
             "rgb(33,102,172)"
            ],
            [
             1.0,
             "rgb(5,48,97)"
            ]
           ],
           "sequential": [
            [
             0.0,
             "#440154"
            ],
            [
             0.1111111111111111,
             "#482878"
            ],
            [
             0.2222222222222222,
             "#3e4989"
            ],
            [
             0.3333333333333333,
             "#31688e"
            ],
            [
             0.4444444444444444,
             "#26828e"
            ],
            [
             0.5555555555555556,
             "#1f9e89"
            ],
            [
             0.6666666666666666,
             "#35b779"
            ],
            [
             0.7777777777777778,
             "#6ece58"
            ],
            [
             0.8888888888888888,
             "#b5de2b"
            ],
            [
             1.0,
             "#fde725"
            ]
           ],
           "sequentialminus": [
            [
             0.0,
             "#440154"
            ],
            [
             0.1111111111111111,
             "#482878"
            ],
            [
             0.2222222222222222,
             "#3e4989"
            ],
            [
             0.3333333333333333,
             "#31688e"
            ],
            [
             0.4444444444444444,
             "#26828e"
            ],
            [
             0.5555555555555556,
             "#1f9e89"
            ],
            [
             0.6666666666666666,
             "#35b779"
            ],
            [
             0.7777777777777778,
             "#6ece58"
            ],
            [
             0.8888888888888888,
             "#b5de2b"
            ],
            [
             1.0,
             "#fde725"
            ]
           ]
          },
          "colorway": [
           "#1F77B4",
           "#FF7F0E",
           "#2CA02C",
           "#D62728",
           "#9467BD",
           "#8C564B",
           "#E377C2",
           "#7F7F7F",
           "#BCBD22",
           "#17BECF"
          ],
          "font": {
           "color": "rgb(36,36,36)"
          },
          "geo": {
           "bgcolor": "white",
           "lakecolor": "white",
           "landcolor": "white",
           "showlakes": true,
           "showland": true,
           "subunitcolor": "white"
          },
          "hoverlabel": {
           "align": "left"
          },
          "hovermode": "closest",
          "mapbox": {
           "style": "light"
          },
          "paper_bgcolor": "white",
          "plot_bgcolor": "white",
          "polar": {
           "angularaxis": {
            "gridcolor": "rgb(232,232,232)",
            "linecolor": "rgb(36,36,36)",
            "showgrid": false,
            "showline": true,
            "ticks": "outside"
           },
           "bgcolor": "white",
           "radialaxis": {
            "gridcolor": "rgb(232,232,232)",
            "linecolor": "rgb(36,36,36)",
            "showgrid": false,
            "showline": true,
            "ticks": "outside"
           }
          },
          "scene": {
           "xaxis": {
            "backgroundcolor": "white",
            "gridcolor": "rgb(232,232,232)",
            "gridwidth": 2,
            "linecolor": "rgb(36,36,36)",
            "showbackground": true,
            "showgrid": false,
            "showline": true,
            "ticks": "outside",
            "zeroline": false,
            "zerolinecolor": "rgb(36,36,36)"
           },
           "yaxis": {
            "backgroundcolor": "white",
            "gridcolor": "rgb(232,232,232)",
            "gridwidth": 2,
            "linecolor": "rgb(36,36,36)",
            "showbackground": true,
            "showgrid": false,
            "showline": true,
            "ticks": "outside",
            "zeroline": false,
            "zerolinecolor": "rgb(36,36,36)"
           },
           "zaxis": {
            "backgroundcolor": "white",
            "gridcolor": "rgb(232,232,232)",
            "gridwidth": 2,
            "linecolor": "rgb(36,36,36)",
            "showbackground": true,
            "showgrid": false,
            "showline": true,
            "ticks": "outside",
            "zeroline": false,
            "zerolinecolor": "rgb(36,36,36)"
           }
          },
          "shapedefaults": {
           "fillcolor": "black",
           "line": {
            "width": 0
           },
           "opacity": 0.3
          },
          "ternary": {
           "aaxis": {
            "gridcolor": "rgb(232,232,232)",
            "linecolor": "rgb(36,36,36)",
            "showgrid": false,
            "showline": true,
            "ticks": "outside"
           },
           "baxis": {
            "gridcolor": "rgb(232,232,232)",
            "linecolor": "rgb(36,36,36)",
            "showgrid": false,
            "showline": true,
            "ticks": "outside"
           },
           "bgcolor": "white",
           "caxis": {
            "gridcolor": "rgb(232,232,232)",
            "linecolor": "rgb(36,36,36)",
            "showgrid": false,
            "showline": true,
            "ticks": "outside"
           }
          },
          "title": {
           "x": 0.05
          },
          "xaxis": {
           "automargin": true,
           "gridcolor": "rgb(232,232,232)",
           "linecolor": "rgb(36,36,36)",
           "showgrid": false,
           "showline": true,
           "ticks": "outside",
           "title": {
            "standoff": 15
           },
           "zeroline": false,
           "zerolinecolor": "rgb(36,36,36)"
          },
          "yaxis": {
           "automargin": true,
           "gridcolor": "rgb(232,232,232)",
           "linecolor": "rgb(36,36,36)",
           "showgrid": false,
           "showline": true,
           "ticks": "outside",
           "title": {
            "standoff": 15
           },
           "zeroline": false,
           "zerolinecolor": "rgb(36,36,36)"
          }
         }
        },
        "title": {
         "font": {
          "size": 20
         },
         "text": "Correlation Matrix (impact relationship with numbers)",
         "x": 0.5
        },
        "width": 1200,
        "height": 1200
       },
       "config": {
        "plotlyServerURL": "https://plot.ly"
       }
      },
      "text/html": "<div>                            <div id=\"bfa4dcdc-431d-416c-b327-f99da8a66832\" class=\"plotly-graph-div\" style=\"height:1200px; width:1200px;\"></div>            <script type=\"text/javascript\">                require([\"plotly\"], function(Plotly) {                    window.PLOTLYENV=window.PLOTLYENV || {};                                    if (document.getElementById(\"bfa4dcdc-431d-416c-b327-f99da8a66832\")) {                    Plotly.newPlot(                        \"bfa4dcdc-431d-416c-b327-f99da8a66832\",                        [{\"colorscale\":[[0.0,\"#000000\"],[0.0625,\"#001f4d\"],[0.125,\"#003786\"],[0.1875,\"#0e58a8\"],[0.25,\"#217eb8\"],[0.3125,\"#30a4ca\"],[0.375,\"#54c8df\"],[0.4375,\"#9be4ef\"],[0.5,\"#e1e9d1\"],[0.5625,\"#f3d573\"],[0.625,\"#e7b000\"],[0.6875,\"#da8200\"],[0.75,\"#c65400\"],[0.8125,\"#ac2301\"],[0.875,\"#820000\"],[0.9375,\"#4c0000\"],[1.0,\"#000000\"]],\"reversescale\":false,\"showscale\":false,\"x\":[\"city_fuel_economy\",\"combine_fuel_economy\",\"daysonmarket\",\"engine_displacement\",\"franchise_dealer\",\"highway_fuel_economy\",\"horsepower\",\"is_certified\",\"is_new\",\"latitude\",\"listing_id\",\"longitude\",\"mileage\",\"owner_count\",\"price\",\"savings_amount\",\"seller_rating\",\"sp_id\",\"vehicle_damage_category\",\"year\"],\"xgap\":3,\"y\":[\"city_fuel_economy\",\"combine_fuel_economy\",\"daysonmarket\",\"engine_displacement\",\"franchise_dealer\",\"highway_fuel_economy\",\"horsepower\",\"is_certified\",\"is_new\",\"latitude\",\"listing_id\",\"longitude\",\"mileage\",\"owner_count\",\"price\",\"savings_amount\",\"seller_rating\",\"sp_id\",\"vehicle_damage_category\",\"year\"],\"ygap\":3,\"z\":[[null,null,null,null,null,null,null,null,null,null,null,null,null,null,null,null,null,null,null,null],[null,null,null,null,null,null,null,null,null,null,null,null,null,null,null,null,null,null,null,null],[0.01,null,null,null,null,null,null,null,null,null,null,null,null,null,null,null,null,null,null,null],[-0.67,null,-0.04,null,null,null,null,null,null,null,null,null,null,null,null,null,null,null,null,null],[0.06,null,0.0,-0.06,null,null,null,null,null,null,null,null,null,null,null,null,null,null,null,null],[0.94,null,0.0,-0.69,0.04,null,null,null,null,null,null,null,null,null,null,null,null,null,null,null],[-0.67,null,-0.02,0.83,0.03,-0.7,null,null,null,null,null,null,null,null,null,null,null,null,null,null],[null,null,null,null,null,null,null,null,null,null,null,null,null,null,null,null,null,null,null,null],[0.1,null,0.17,-0.07,0.47,0.06,0.01,null,null,null,null,null,null,null,null,null,null,null,null,null],[-0.04,null,0.02,-0.0,0.01,-0.06,-0.01,null,-0.05,null,null,null,null,null,null,null,null,null,null,null],[-0.01,null,-1.0,0.04,0.0,0.0,0.02,null,-0.16,-0.02,null,null,null,null,null,null,null,null,null,null],[-0.09,null,0.01,-0.01,0.02,-0.08,-0.01,null,-0.01,0.17,-0.02,null,null,null,null,null,null,null,null,null],[-0.15,null,-0.05,0.15,-0.32,-0.14,-0.02,null,-0.39,0.03,0.04,0.01,null,null,null,null,null,null,null,null],[-0.13,null,0.1,0.12,-0.27,-0.13,0.0,null,-0.01,0.0,-0.1,-0.01,0.52,null,null,null,null,null,null,null],[-0.18,null,0.06,0.38,0.28,-0.26,0.61,null,0.38,-0.02,-0.06,-0.03,-0.27,-0.23,null,null,null,null,null,null],[-0.1,null,-0.08,0.14,-0.21,-0.1,0.16,null,-0.5,-0.01,0.07,-0.01,0.15,-0.06,-0.0,null,null,null,null,null],[-0.04,null,-0.0,0.03,-0.04,-0.05,0.06,null,-0.04,0.09,0.0,0.0,0.02,0.01,0.07,0.01,null,null,null,null],[-0.04,null,0.01,0.03,-0.41,-0.03,-0.02,null,-0.2,-0.04,-0.01,0.02,0.14,0.16,-0.12,0.09,-0.03,null,null,null],[null,null,null,null,null,null,null,null,null,null,null,null,null,null,null,null,null,null,null,null],[0.16,null,-0.0,-0.14,0.49,0.15,0.03,null,0.55,-0.07,0.01,-0.01,-0.47,-0.59,0.36,-0.19,-0.05,-0.21,null,null]],\"zmax\":1,\"zmin\":-1,\"type\":\"heatmap\",\"colorbar\":{\"thickness\":30,\"ticklen\":3}}],                        {\"annotations\":[{\"font\":{\"color\":\"#FFFFFF\"},\"showarrow\":false,\"text\":\"\",\"x\":\"city_fuel_economy\",\"xref\":\"x\",\"y\":\"city_fuel_economy\",\"yref\":\"y\"},{\"font\":{\"color\":\"#FFFFFF\"},\"showarrow\":false,\"text\":\"\",\"x\":\"combine_fuel_economy\",\"xref\":\"x\",\"y\":\"city_fuel_economy\",\"yref\":\"y\"},{\"font\":{\"color\":\"#FFFFFF\"},\"showarrow\":false,\"text\":\"\",\"x\":\"daysonmarket\",\"xref\":\"x\",\"y\":\"city_fuel_economy\",\"yref\":\"y\"},{\"font\":{\"color\":\"#FFFFFF\"},\"showarrow\":false,\"text\":\"\",\"x\":\"engine_displacement\",\"xref\":\"x\",\"y\":\"city_fuel_economy\",\"yref\":\"y\"},{\"font\":{\"color\":\"#FFFFFF\"},\"showarrow\":false,\"text\":\"\",\"x\":\"franchise_dealer\",\"xref\":\"x\",\"y\":\"city_fuel_economy\",\"yref\":\"y\"},{\"font\":{\"color\":\"#FFFFFF\"},\"showarrow\":false,\"text\":\"\",\"x\":\"highway_fuel_economy\",\"xref\":\"x\",\"y\":\"city_fuel_economy\",\"yref\":\"y\"},{\"font\":{\"color\":\"#FFFFFF\"},\"showarrow\":false,\"text\":\"\",\"x\":\"horsepower\",\"xref\":\"x\",\"y\":\"city_fuel_economy\",\"yref\":\"y\"},{\"font\":{\"color\":\"#FFFFFF\"},\"showarrow\":false,\"text\":\"\",\"x\":\"is_certified\",\"xref\":\"x\",\"y\":\"city_fuel_economy\",\"yref\":\"y\"},{\"font\":{\"color\":\"#FFFFFF\"},\"showarrow\":false,\"text\":\"\",\"x\":\"is_new\",\"xref\":\"x\",\"y\":\"city_fuel_economy\",\"yref\":\"y\"},{\"font\":{\"color\":\"#FFFFFF\"},\"showarrow\":false,\"text\":\"\",\"x\":\"latitude\",\"xref\":\"x\",\"y\":\"city_fuel_economy\",\"yref\":\"y\"},{\"font\":{\"color\":\"#FFFFFF\"},\"showarrow\":false,\"text\":\"\",\"x\":\"listing_id\",\"xref\":\"x\",\"y\":\"city_fuel_economy\",\"yref\":\"y\"},{\"font\":{\"color\":\"#FFFFFF\"},\"showarrow\":false,\"text\":\"\",\"x\":\"longitude\",\"xref\":\"x\",\"y\":\"city_fuel_economy\",\"yref\":\"y\"},{\"font\":{\"color\":\"#FFFFFF\"},\"showarrow\":false,\"text\":\"\",\"x\":\"mileage\",\"xref\":\"x\",\"y\":\"city_fuel_economy\",\"yref\":\"y\"},{\"font\":{\"color\":\"#FFFFFF\"},\"showarrow\":false,\"text\":\"\",\"x\":\"owner_count\",\"xref\":\"x\",\"y\":\"city_fuel_economy\",\"yref\":\"y\"},{\"font\":{\"color\":\"#FFFFFF\"},\"showarrow\":false,\"text\":\"\",\"x\":\"price\",\"xref\":\"x\",\"y\":\"city_fuel_economy\",\"yref\":\"y\"},{\"font\":{\"color\":\"#FFFFFF\"},\"showarrow\":false,\"text\":\"\",\"x\":\"savings_amount\",\"xref\":\"x\",\"y\":\"city_fuel_economy\",\"yref\":\"y\"},{\"font\":{\"color\":\"#FFFFFF\"},\"showarrow\":false,\"text\":\"\",\"x\":\"seller_rating\",\"xref\":\"x\",\"y\":\"city_fuel_economy\",\"yref\":\"y\"},{\"font\":{\"color\":\"#FFFFFF\"},\"showarrow\":false,\"text\":\"\",\"x\":\"sp_id\",\"xref\":\"x\",\"y\":\"city_fuel_economy\",\"yref\":\"y\"},{\"font\":{\"color\":\"#FFFFFF\"},\"showarrow\":false,\"text\":\"\",\"x\":\"vehicle_damage_category\",\"xref\":\"x\",\"y\":\"city_fuel_economy\",\"yref\":\"y\"},{\"font\":{\"color\":\"#FFFFFF\"},\"showarrow\":false,\"text\":\"\",\"x\":\"year\",\"xref\":\"x\",\"y\":\"city_fuel_economy\",\"yref\":\"y\"},{\"font\":{\"color\":\"#FFFFFF\"},\"showarrow\":false,\"text\":\"\",\"x\":\"city_fuel_economy\",\"xref\":\"x\",\"y\":\"combine_fuel_economy\",\"yref\":\"y\"},{\"font\":{\"color\":\"#FFFFFF\"},\"showarrow\":false,\"text\":\"\",\"x\":\"combine_fuel_economy\",\"xref\":\"x\",\"y\":\"combine_fuel_economy\",\"yref\":\"y\"},{\"font\":{\"color\":\"#FFFFFF\"},\"showarrow\":false,\"text\":\"\",\"x\":\"daysonmarket\",\"xref\":\"x\",\"y\":\"combine_fuel_economy\",\"yref\":\"y\"},{\"font\":{\"color\":\"#FFFFFF\"},\"showarrow\":false,\"text\":\"\",\"x\":\"engine_displacement\",\"xref\":\"x\",\"y\":\"combine_fuel_economy\",\"yref\":\"y\"},{\"font\":{\"color\":\"#FFFFFF\"},\"showarrow\":false,\"text\":\"\",\"x\":\"franchise_dealer\",\"xref\":\"x\",\"y\":\"combine_fuel_economy\",\"yref\":\"y\"},{\"font\":{\"color\":\"#FFFFFF\"},\"showarrow\":false,\"text\":\"\",\"x\":\"highway_fuel_economy\",\"xref\":\"x\",\"y\":\"combine_fuel_economy\",\"yref\":\"y\"},{\"font\":{\"color\":\"#FFFFFF\"},\"showarrow\":false,\"text\":\"\",\"x\":\"horsepower\",\"xref\":\"x\",\"y\":\"combine_fuel_economy\",\"yref\":\"y\"},{\"font\":{\"color\":\"#FFFFFF\"},\"showarrow\":false,\"text\":\"\",\"x\":\"is_certified\",\"xref\":\"x\",\"y\":\"combine_fuel_economy\",\"yref\":\"y\"},{\"font\":{\"color\":\"#FFFFFF\"},\"showarrow\":false,\"text\":\"\",\"x\":\"is_new\",\"xref\":\"x\",\"y\":\"combine_fuel_economy\",\"yref\":\"y\"},{\"font\":{\"color\":\"#FFFFFF\"},\"showarrow\":false,\"text\":\"\",\"x\":\"latitude\",\"xref\":\"x\",\"y\":\"combine_fuel_economy\",\"yref\":\"y\"},{\"font\":{\"color\":\"#FFFFFF\"},\"showarrow\":false,\"text\":\"\",\"x\":\"listing_id\",\"xref\":\"x\",\"y\":\"combine_fuel_economy\",\"yref\":\"y\"},{\"font\":{\"color\":\"#FFFFFF\"},\"showarrow\":false,\"text\":\"\",\"x\":\"longitude\",\"xref\":\"x\",\"y\":\"combine_fuel_economy\",\"yref\":\"y\"},{\"font\":{\"color\":\"#FFFFFF\"},\"showarrow\":false,\"text\":\"\",\"x\":\"mileage\",\"xref\":\"x\",\"y\":\"combine_fuel_economy\",\"yref\":\"y\"},{\"font\":{\"color\":\"#FFFFFF\"},\"showarrow\":false,\"text\":\"\",\"x\":\"owner_count\",\"xref\":\"x\",\"y\":\"combine_fuel_economy\",\"yref\":\"y\"},{\"font\":{\"color\":\"#FFFFFF\"},\"showarrow\":false,\"text\":\"\",\"x\":\"price\",\"xref\":\"x\",\"y\":\"combine_fuel_economy\",\"yref\":\"y\"},{\"font\":{\"color\":\"#FFFFFF\"},\"showarrow\":false,\"text\":\"\",\"x\":\"savings_amount\",\"xref\":\"x\",\"y\":\"combine_fuel_economy\",\"yref\":\"y\"},{\"font\":{\"color\":\"#FFFFFF\"},\"showarrow\":false,\"text\":\"\",\"x\":\"seller_rating\",\"xref\":\"x\",\"y\":\"combine_fuel_economy\",\"yref\":\"y\"},{\"font\":{\"color\":\"#FFFFFF\"},\"showarrow\":false,\"text\":\"\",\"x\":\"sp_id\",\"xref\":\"x\",\"y\":\"combine_fuel_economy\",\"yref\":\"y\"},{\"font\":{\"color\":\"#FFFFFF\"},\"showarrow\":false,\"text\":\"\",\"x\":\"vehicle_damage_category\",\"xref\":\"x\",\"y\":\"combine_fuel_economy\",\"yref\":\"y\"},{\"font\":{\"color\":\"#FFFFFF\"},\"showarrow\":false,\"text\":\"\",\"x\":\"year\",\"xref\":\"x\",\"y\":\"combine_fuel_economy\",\"yref\":\"y\"},{\"font\":{\"color\":\"#FFFFFF\"},\"showarrow\":false,\"text\":\"0.01\",\"x\":\"city_fuel_economy\",\"xref\":\"x\",\"y\":\"daysonmarket\",\"yref\":\"y\"},{\"font\":{\"color\":\"#FFFFFF\"},\"showarrow\":false,\"text\":\"\",\"x\":\"combine_fuel_economy\",\"xref\":\"x\",\"y\":\"daysonmarket\",\"yref\":\"y\"},{\"font\":{\"color\":\"#FFFFFF\"},\"showarrow\":false,\"text\":\"\",\"x\":\"daysonmarket\",\"xref\":\"x\",\"y\":\"daysonmarket\",\"yref\":\"y\"},{\"font\":{\"color\":\"#FFFFFF\"},\"showarrow\":false,\"text\":\"\",\"x\":\"engine_displacement\",\"xref\":\"x\",\"y\":\"daysonmarket\",\"yref\":\"y\"},{\"font\":{\"color\":\"#FFFFFF\"},\"showarrow\":false,\"text\":\"\",\"x\":\"franchise_dealer\",\"xref\":\"x\",\"y\":\"daysonmarket\",\"yref\":\"y\"},{\"font\":{\"color\":\"#FFFFFF\"},\"showarrow\":false,\"text\":\"\",\"x\":\"highway_fuel_economy\",\"xref\":\"x\",\"y\":\"daysonmarket\",\"yref\":\"y\"},{\"font\":{\"color\":\"#FFFFFF\"},\"showarrow\":false,\"text\":\"\",\"x\":\"horsepower\",\"xref\":\"x\",\"y\":\"daysonmarket\",\"yref\":\"y\"},{\"font\":{\"color\":\"#FFFFFF\"},\"showarrow\":false,\"text\":\"\",\"x\":\"is_certified\",\"xref\":\"x\",\"y\":\"daysonmarket\",\"yref\":\"y\"},{\"font\":{\"color\":\"#FFFFFF\"},\"showarrow\":false,\"text\":\"\",\"x\":\"is_new\",\"xref\":\"x\",\"y\":\"daysonmarket\",\"yref\":\"y\"},{\"font\":{\"color\":\"#FFFFFF\"},\"showarrow\":false,\"text\":\"\",\"x\":\"latitude\",\"xref\":\"x\",\"y\":\"daysonmarket\",\"yref\":\"y\"},{\"font\":{\"color\":\"#FFFFFF\"},\"showarrow\":false,\"text\":\"\",\"x\":\"listing_id\",\"xref\":\"x\",\"y\":\"daysonmarket\",\"yref\":\"y\"},{\"font\":{\"color\":\"#FFFFFF\"},\"showarrow\":false,\"text\":\"\",\"x\":\"longitude\",\"xref\":\"x\",\"y\":\"daysonmarket\",\"yref\":\"y\"},{\"font\":{\"color\":\"#FFFFFF\"},\"showarrow\":false,\"text\":\"\",\"x\":\"mileage\",\"xref\":\"x\",\"y\":\"daysonmarket\",\"yref\":\"y\"},{\"font\":{\"color\":\"#FFFFFF\"},\"showarrow\":false,\"text\":\"\",\"x\":\"owner_count\",\"xref\":\"x\",\"y\":\"daysonmarket\",\"yref\":\"y\"},{\"font\":{\"color\":\"#FFFFFF\"},\"showarrow\":false,\"text\":\"\",\"x\":\"price\",\"xref\":\"x\",\"y\":\"daysonmarket\",\"yref\":\"y\"},{\"font\":{\"color\":\"#FFFFFF\"},\"showarrow\":false,\"text\":\"\",\"x\":\"savings_amount\",\"xref\":\"x\",\"y\":\"daysonmarket\",\"yref\":\"y\"},{\"font\":{\"color\":\"#FFFFFF\"},\"showarrow\":false,\"text\":\"\",\"x\":\"seller_rating\",\"xref\":\"x\",\"y\":\"daysonmarket\",\"yref\":\"y\"},{\"font\":{\"color\":\"#FFFFFF\"},\"showarrow\":false,\"text\":\"\",\"x\":\"sp_id\",\"xref\":\"x\",\"y\":\"daysonmarket\",\"yref\":\"y\"},{\"font\":{\"color\":\"#FFFFFF\"},\"showarrow\":false,\"text\":\"\",\"x\":\"vehicle_damage_category\",\"xref\":\"x\",\"y\":\"daysonmarket\",\"yref\":\"y\"},{\"font\":{\"color\":\"#FFFFFF\"},\"showarrow\":false,\"text\":\"\",\"x\":\"year\",\"xref\":\"x\",\"y\":\"daysonmarket\",\"yref\":\"y\"},{\"font\":{\"color\":\"#FFFFFF\"},\"showarrow\":false,\"text\":\"-0.67\",\"x\":\"city_fuel_economy\",\"xref\":\"x\",\"y\":\"engine_displacement\",\"yref\":\"y\"},{\"font\":{\"color\":\"#FFFFFF\"},\"showarrow\":false,\"text\":\"\",\"x\":\"combine_fuel_economy\",\"xref\":\"x\",\"y\":\"engine_displacement\",\"yref\":\"y\"},{\"font\":{\"color\":\"#FFFFFF\"},\"showarrow\":false,\"text\":\"-0.04\",\"x\":\"daysonmarket\",\"xref\":\"x\",\"y\":\"engine_displacement\",\"yref\":\"y\"},{\"font\":{\"color\":\"#FFFFFF\"},\"showarrow\":false,\"text\":\"\",\"x\":\"engine_displacement\",\"xref\":\"x\",\"y\":\"engine_displacement\",\"yref\":\"y\"},{\"font\":{\"color\":\"#FFFFFF\"},\"showarrow\":false,\"text\":\"\",\"x\":\"franchise_dealer\",\"xref\":\"x\",\"y\":\"engine_displacement\",\"yref\":\"y\"},{\"font\":{\"color\":\"#FFFFFF\"},\"showarrow\":false,\"text\":\"\",\"x\":\"highway_fuel_economy\",\"xref\":\"x\",\"y\":\"engine_displacement\",\"yref\":\"y\"},{\"font\":{\"color\":\"#FFFFFF\"},\"showarrow\":false,\"text\":\"\",\"x\":\"horsepower\",\"xref\":\"x\",\"y\":\"engine_displacement\",\"yref\":\"y\"},{\"font\":{\"color\":\"#FFFFFF\"},\"showarrow\":false,\"text\":\"\",\"x\":\"is_certified\",\"xref\":\"x\",\"y\":\"engine_displacement\",\"yref\":\"y\"},{\"font\":{\"color\":\"#FFFFFF\"},\"showarrow\":false,\"text\":\"\",\"x\":\"is_new\",\"xref\":\"x\",\"y\":\"engine_displacement\",\"yref\":\"y\"},{\"font\":{\"color\":\"#FFFFFF\"},\"showarrow\":false,\"text\":\"\",\"x\":\"latitude\",\"xref\":\"x\",\"y\":\"engine_displacement\",\"yref\":\"y\"},{\"font\":{\"color\":\"#FFFFFF\"},\"showarrow\":false,\"text\":\"\",\"x\":\"listing_id\",\"xref\":\"x\",\"y\":\"engine_displacement\",\"yref\":\"y\"},{\"font\":{\"color\":\"#FFFFFF\"},\"showarrow\":false,\"text\":\"\",\"x\":\"longitude\",\"xref\":\"x\",\"y\":\"engine_displacement\",\"yref\":\"y\"},{\"font\":{\"color\":\"#FFFFFF\"},\"showarrow\":false,\"text\":\"\",\"x\":\"mileage\",\"xref\":\"x\",\"y\":\"engine_displacement\",\"yref\":\"y\"},{\"font\":{\"color\":\"#FFFFFF\"},\"showarrow\":false,\"text\":\"\",\"x\":\"owner_count\",\"xref\":\"x\",\"y\":\"engine_displacement\",\"yref\":\"y\"},{\"font\":{\"color\":\"#FFFFFF\"},\"showarrow\":false,\"text\":\"\",\"x\":\"price\",\"xref\":\"x\",\"y\":\"engine_displacement\",\"yref\":\"y\"},{\"font\":{\"color\":\"#FFFFFF\"},\"showarrow\":false,\"text\":\"\",\"x\":\"savings_amount\",\"xref\":\"x\",\"y\":\"engine_displacement\",\"yref\":\"y\"},{\"font\":{\"color\":\"#FFFFFF\"},\"showarrow\":false,\"text\":\"\",\"x\":\"seller_rating\",\"xref\":\"x\",\"y\":\"engine_displacement\",\"yref\":\"y\"},{\"font\":{\"color\":\"#FFFFFF\"},\"showarrow\":false,\"text\":\"\",\"x\":\"sp_id\",\"xref\":\"x\",\"y\":\"engine_displacement\",\"yref\":\"y\"},{\"font\":{\"color\":\"#FFFFFF\"},\"showarrow\":false,\"text\":\"\",\"x\":\"vehicle_damage_category\",\"xref\":\"x\",\"y\":\"engine_displacement\",\"yref\":\"y\"},{\"font\":{\"color\":\"#FFFFFF\"},\"showarrow\":false,\"text\":\"\",\"x\":\"year\",\"xref\":\"x\",\"y\":\"engine_displacement\",\"yref\":\"y\"},{\"font\":{\"color\":\"#FFFFFF\"},\"showarrow\":false,\"text\":\"0.06\",\"x\":\"city_fuel_economy\",\"xref\":\"x\",\"y\":\"franchise_dealer\",\"yref\":\"y\"},{\"font\":{\"color\":\"#FFFFFF\"},\"showarrow\":false,\"text\":\"\",\"x\":\"combine_fuel_economy\",\"xref\":\"x\",\"y\":\"franchise_dealer\",\"yref\":\"y\"},{\"font\":{\"color\":\"#FFFFFF\"},\"showarrow\":false,\"text\":\"0.0\",\"x\":\"daysonmarket\",\"xref\":\"x\",\"y\":\"franchise_dealer\",\"yref\":\"y\"},{\"font\":{\"color\":\"#FFFFFF\"},\"showarrow\":false,\"text\":\"-0.06\",\"x\":\"engine_displacement\",\"xref\":\"x\",\"y\":\"franchise_dealer\",\"yref\":\"y\"},{\"font\":{\"color\":\"#FFFFFF\"},\"showarrow\":false,\"text\":\"\",\"x\":\"franchise_dealer\",\"xref\":\"x\",\"y\":\"franchise_dealer\",\"yref\":\"y\"},{\"font\":{\"color\":\"#FFFFFF\"},\"showarrow\":false,\"text\":\"\",\"x\":\"highway_fuel_economy\",\"xref\":\"x\",\"y\":\"franchise_dealer\",\"yref\":\"y\"},{\"font\":{\"color\":\"#FFFFFF\"},\"showarrow\":false,\"text\":\"\",\"x\":\"horsepower\",\"xref\":\"x\",\"y\":\"franchise_dealer\",\"yref\":\"y\"},{\"font\":{\"color\":\"#FFFFFF\"},\"showarrow\":false,\"text\":\"\",\"x\":\"is_certified\",\"xref\":\"x\",\"y\":\"franchise_dealer\",\"yref\":\"y\"},{\"font\":{\"color\":\"#FFFFFF\"},\"showarrow\":false,\"text\":\"\",\"x\":\"is_new\",\"xref\":\"x\",\"y\":\"franchise_dealer\",\"yref\":\"y\"},{\"font\":{\"color\":\"#FFFFFF\"},\"showarrow\":false,\"text\":\"\",\"x\":\"latitude\",\"xref\":\"x\",\"y\":\"franchise_dealer\",\"yref\":\"y\"},{\"font\":{\"color\":\"#FFFFFF\"},\"showarrow\":false,\"text\":\"\",\"x\":\"listing_id\",\"xref\":\"x\",\"y\":\"franchise_dealer\",\"yref\":\"y\"},{\"font\":{\"color\":\"#FFFFFF\"},\"showarrow\":false,\"text\":\"\",\"x\":\"longitude\",\"xref\":\"x\",\"y\":\"franchise_dealer\",\"yref\":\"y\"},{\"font\":{\"color\":\"#FFFFFF\"},\"showarrow\":false,\"text\":\"\",\"x\":\"mileage\",\"xref\":\"x\",\"y\":\"franchise_dealer\",\"yref\":\"y\"},{\"font\":{\"color\":\"#FFFFFF\"},\"showarrow\":false,\"text\":\"\",\"x\":\"owner_count\",\"xref\":\"x\",\"y\":\"franchise_dealer\",\"yref\":\"y\"},{\"font\":{\"color\":\"#FFFFFF\"},\"showarrow\":false,\"text\":\"\",\"x\":\"price\",\"xref\":\"x\",\"y\":\"franchise_dealer\",\"yref\":\"y\"},{\"font\":{\"color\":\"#FFFFFF\"},\"showarrow\":false,\"text\":\"\",\"x\":\"savings_amount\",\"xref\":\"x\",\"y\":\"franchise_dealer\",\"yref\":\"y\"},{\"font\":{\"color\":\"#FFFFFF\"},\"showarrow\":false,\"text\":\"\",\"x\":\"seller_rating\",\"xref\":\"x\",\"y\":\"franchise_dealer\",\"yref\":\"y\"},{\"font\":{\"color\":\"#FFFFFF\"},\"showarrow\":false,\"text\":\"\",\"x\":\"sp_id\",\"xref\":\"x\",\"y\":\"franchise_dealer\",\"yref\":\"y\"},{\"font\":{\"color\":\"#FFFFFF\"},\"showarrow\":false,\"text\":\"\",\"x\":\"vehicle_damage_category\",\"xref\":\"x\",\"y\":\"franchise_dealer\",\"yref\":\"y\"},{\"font\":{\"color\":\"#FFFFFF\"},\"showarrow\":false,\"text\":\"\",\"x\":\"year\",\"xref\":\"x\",\"y\":\"franchise_dealer\",\"yref\":\"y\"},{\"font\":{\"color\":\"#FFFFFF\"},\"showarrow\":false,\"text\":\"0.94\",\"x\":\"city_fuel_economy\",\"xref\":\"x\",\"y\":\"highway_fuel_economy\",\"yref\":\"y\"},{\"font\":{\"color\":\"#FFFFFF\"},\"showarrow\":false,\"text\":\"\",\"x\":\"combine_fuel_economy\",\"xref\":\"x\",\"y\":\"highway_fuel_economy\",\"yref\":\"y\"},{\"font\":{\"color\":\"#FFFFFF\"},\"showarrow\":false,\"text\":\"0.0\",\"x\":\"daysonmarket\",\"xref\":\"x\",\"y\":\"highway_fuel_economy\",\"yref\":\"y\"},{\"font\":{\"color\":\"#FFFFFF\"},\"showarrow\":false,\"text\":\"-0.69\",\"x\":\"engine_displacement\",\"xref\":\"x\",\"y\":\"highway_fuel_economy\",\"yref\":\"y\"},{\"font\":{\"color\":\"#FFFFFF\"},\"showarrow\":false,\"text\":\"0.04\",\"x\":\"franchise_dealer\",\"xref\":\"x\",\"y\":\"highway_fuel_economy\",\"yref\":\"y\"},{\"font\":{\"color\":\"#FFFFFF\"},\"showarrow\":false,\"text\":\"\",\"x\":\"highway_fuel_economy\",\"xref\":\"x\",\"y\":\"highway_fuel_economy\",\"yref\":\"y\"},{\"font\":{\"color\":\"#FFFFFF\"},\"showarrow\":false,\"text\":\"\",\"x\":\"horsepower\",\"xref\":\"x\",\"y\":\"highway_fuel_economy\",\"yref\":\"y\"},{\"font\":{\"color\":\"#FFFFFF\"},\"showarrow\":false,\"text\":\"\",\"x\":\"is_certified\",\"xref\":\"x\",\"y\":\"highway_fuel_economy\",\"yref\":\"y\"},{\"font\":{\"color\":\"#FFFFFF\"},\"showarrow\":false,\"text\":\"\",\"x\":\"is_new\",\"xref\":\"x\",\"y\":\"highway_fuel_economy\",\"yref\":\"y\"},{\"font\":{\"color\":\"#FFFFFF\"},\"showarrow\":false,\"text\":\"\",\"x\":\"latitude\",\"xref\":\"x\",\"y\":\"highway_fuel_economy\",\"yref\":\"y\"},{\"font\":{\"color\":\"#FFFFFF\"},\"showarrow\":false,\"text\":\"\",\"x\":\"listing_id\",\"xref\":\"x\",\"y\":\"highway_fuel_economy\",\"yref\":\"y\"},{\"font\":{\"color\":\"#FFFFFF\"},\"showarrow\":false,\"text\":\"\",\"x\":\"longitude\",\"xref\":\"x\",\"y\":\"highway_fuel_economy\",\"yref\":\"y\"},{\"font\":{\"color\":\"#FFFFFF\"},\"showarrow\":false,\"text\":\"\",\"x\":\"mileage\",\"xref\":\"x\",\"y\":\"highway_fuel_economy\",\"yref\":\"y\"},{\"font\":{\"color\":\"#FFFFFF\"},\"showarrow\":false,\"text\":\"\",\"x\":\"owner_count\",\"xref\":\"x\",\"y\":\"highway_fuel_economy\",\"yref\":\"y\"},{\"font\":{\"color\":\"#FFFFFF\"},\"showarrow\":false,\"text\":\"\",\"x\":\"price\",\"xref\":\"x\",\"y\":\"highway_fuel_economy\",\"yref\":\"y\"},{\"font\":{\"color\":\"#FFFFFF\"},\"showarrow\":false,\"text\":\"\",\"x\":\"savings_amount\",\"xref\":\"x\",\"y\":\"highway_fuel_economy\",\"yref\":\"y\"},{\"font\":{\"color\":\"#FFFFFF\"},\"showarrow\":false,\"text\":\"\",\"x\":\"seller_rating\",\"xref\":\"x\",\"y\":\"highway_fuel_economy\",\"yref\":\"y\"},{\"font\":{\"color\":\"#FFFFFF\"},\"showarrow\":false,\"text\":\"\",\"x\":\"sp_id\",\"xref\":\"x\",\"y\":\"highway_fuel_economy\",\"yref\":\"y\"},{\"font\":{\"color\":\"#FFFFFF\"},\"showarrow\":false,\"text\":\"\",\"x\":\"vehicle_damage_category\",\"xref\":\"x\",\"y\":\"highway_fuel_economy\",\"yref\":\"y\"},{\"font\":{\"color\":\"#FFFFFF\"},\"showarrow\":false,\"text\":\"\",\"x\":\"year\",\"xref\":\"x\",\"y\":\"highway_fuel_economy\",\"yref\":\"y\"},{\"font\":{\"color\":\"#FFFFFF\"},\"showarrow\":false,\"text\":\"-0.67\",\"x\":\"city_fuel_economy\",\"xref\":\"x\",\"y\":\"horsepower\",\"yref\":\"y\"},{\"font\":{\"color\":\"#FFFFFF\"},\"showarrow\":false,\"text\":\"\",\"x\":\"combine_fuel_economy\",\"xref\":\"x\",\"y\":\"horsepower\",\"yref\":\"y\"},{\"font\":{\"color\":\"#FFFFFF\"},\"showarrow\":false,\"text\":\"-0.02\",\"x\":\"daysonmarket\",\"xref\":\"x\",\"y\":\"horsepower\",\"yref\":\"y\"},{\"font\":{\"color\":\"#FFFFFF\"},\"showarrow\":false,\"text\":\"0.83\",\"x\":\"engine_displacement\",\"xref\":\"x\",\"y\":\"horsepower\",\"yref\":\"y\"},{\"font\":{\"color\":\"#FFFFFF\"},\"showarrow\":false,\"text\":\"0.03\",\"x\":\"franchise_dealer\",\"xref\":\"x\",\"y\":\"horsepower\",\"yref\":\"y\"},{\"font\":{\"color\":\"#FFFFFF\"},\"showarrow\":false,\"text\":\"-0.7\",\"x\":\"highway_fuel_economy\",\"xref\":\"x\",\"y\":\"horsepower\",\"yref\":\"y\"},{\"font\":{\"color\":\"#FFFFFF\"},\"showarrow\":false,\"text\":\"\",\"x\":\"horsepower\",\"xref\":\"x\",\"y\":\"horsepower\",\"yref\":\"y\"},{\"font\":{\"color\":\"#FFFFFF\"},\"showarrow\":false,\"text\":\"\",\"x\":\"is_certified\",\"xref\":\"x\",\"y\":\"horsepower\",\"yref\":\"y\"},{\"font\":{\"color\":\"#FFFFFF\"},\"showarrow\":false,\"text\":\"\",\"x\":\"is_new\",\"xref\":\"x\",\"y\":\"horsepower\",\"yref\":\"y\"},{\"font\":{\"color\":\"#FFFFFF\"},\"showarrow\":false,\"text\":\"\",\"x\":\"latitude\",\"xref\":\"x\",\"y\":\"horsepower\",\"yref\":\"y\"},{\"font\":{\"color\":\"#FFFFFF\"},\"showarrow\":false,\"text\":\"\",\"x\":\"listing_id\",\"xref\":\"x\",\"y\":\"horsepower\",\"yref\":\"y\"},{\"font\":{\"color\":\"#FFFFFF\"},\"showarrow\":false,\"text\":\"\",\"x\":\"longitude\",\"xref\":\"x\",\"y\":\"horsepower\",\"yref\":\"y\"},{\"font\":{\"color\":\"#FFFFFF\"},\"showarrow\":false,\"text\":\"\",\"x\":\"mileage\",\"xref\":\"x\",\"y\":\"horsepower\",\"yref\":\"y\"},{\"font\":{\"color\":\"#FFFFFF\"},\"showarrow\":false,\"text\":\"\",\"x\":\"owner_count\",\"xref\":\"x\",\"y\":\"horsepower\",\"yref\":\"y\"},{\"font\":{\"color\":\"#FFFFFF\"},\"showarrow\":false,\"text\":\"\",\"x\":\"price\",\"xref\":\"x\",\"y\":\"horsepower\",\"yref\":\"y\"},{\"font\":{\"color\":\"#FFFFFF\"},\"showarrow\":false,\"text\":\"\",\"x\":\"savings_amount\",\"xref\":\"x\",\"y\":\"horsepower\",\"yref\":\"y\"},{\"font\":{\"color\":\"#FFFFFF\"},\"showarrow\":false,\"text\":\"\",\"x\":\"seller_rating\",\"xref\":\"x\",\"y\":\"horsepower\",\"yref\":\"y\"},{\"font\":{\"color\":\"#FFFFFF\"},\"showarrow\":false,\"text\":\"\",\"x\":\"sp_id\",\"xref\":\"x\",\"y\":\"horsepower\",\"yref\":\"y\"},{\"font\":{\"color\":\"#FFFFFF\"},\"showarrow\":false,\"text\":\"\",\"x\":\"vehicle_damage_category\",\"xref\":\"x\",\"y\":\"horsepower\",\"yref\":\"y\"},{\"font\":{\"color\":\"#FFFFFF\"},\"showarrow\":false,\"text\":\"\",\"x\":\"year\",\"xref\":\"x\",\"y\":\"horsepower\",\"yref\":\"y\"},{\"font\":{\"color\":\"#FFFFFF\"},\"showarrow\":false,\"text\":\"\",\"x\":\"city_fuel_economy\",\"xref\":\"x\",\"y\":\"is_certified\",\"yref\":\"y\"},{\"font\":{\"color\":\"#FFFFFF\"},\"showarrow\":false,\"text\":\"\",\"x\":\"combine_fuel_economy\",\"xref\":\"x\",\"y\":\"is_certified\",\"yref\":\"y\"},{\"font\":{\"color\":\"#FFFFFF\"},\"showarrow\":false,\"text\":\"\",\"x\":\"daysonmarket\",\"xref\":\"x\",\"y\":\"is_certified\",\"yref\":\"y\"},{\"font\":{\"color\":\"#FFFFFF\"},\"showarrow\":false,\"text\":\"\",\"x\":\"engine_displacement\",\"xref\":\"x\",\"y\":\"is_certified\",\"yref\":\"y\"},{\"font\":{\"color\":\"#FFFFFF\"},\"showarrow\":false,\"text\":\"\",\"x\":\"franchise_dealer\",\"xref\":\"x\",\"y\":\"is_certified\",\"yref\":\"y\"},{\"font\":{\"color\":\"#FFFFFF\"},\"showarrow\":false,\"text\":\"\",\"x\":\"highway_fuel_economy\",\"xref\":\"x\",\"y\":\"is_certified\",\"yref\":\"y\"},{\"font\":{\"color\":\"#FFFFFF\"},\"showarrow\":false,\"text\":\"\",\"x\":\"horsepower\",\"xref\":\"x\",\"y\":\"is_certified\",\"yref\":\"y\"},{\"font\":{\"color\":\"#FFFFFF\"},\"showarrow\":false,\"text\":\"\",\"x\":\"is_certified\",\"xref\":\"x\",\"y\":\"is_certified\",\"yref\":\"y\"},{\"font\":{\"color\":\"#FFFFFF\"},\"showarrow\":false,\"text\":\"\",\"x\":\"is_new\",\"xref\":\"x\",\"y\":\"is_certified\",\"yref\":\"y\"},{\"font\":{\"color\":\"#FFFFFF\"},\"showarrow\":false,\"text\":\"\",\"x\":\"latitude\",\"xref\":\"x\",\"y\":\"is_certified\",\"yref\":\"y\"},{\"font\":{\"color\":\"#FFFFFF\"},\"showarrow\":false,\"text\":\"\",\"x\":\"listing_id\",\"xref\":\"x\",\"y\":\"is_certified\",\"yref\":\"y\"},{\"font\":{\"color\":\"#FFFFFF\"},\"showarrow\":false,\"text\":\"\",\"x\":\"longitude\",\"xref\":\"x\",\"y\":\"is_certified\",\"yref\":\"y\"},{\"font\":{\"color\":\"#FFFFFF\"},\"showarrow\":false,\"text\":\"\",\"x\":\"mileage\",\"xref\":\"x\",\"y\":\"is_certified\",\"yref\":\"y\"},{\"font\":{\"color\":\"#FFFFFF\"},\"showarrow\":false,\"text\":\"\",\"x\":\"owner_count\",\"xref\":\"x\",\"y\":\"is_certified\",\"yref\":\"y\"},{\"font\":{\"color\":\"#FFFFFF\"},\"showarrow\":false,\"text\":\"\",\"x\":\"price\",\"xref\":\"x\",\"y\":\"is_certified\",\"yref\":\"y\"},{\"font\":{\"color\":\"#FFFFFF\"},\"showarrow\":false,\"text\":\"\",\"x\":\"savings_amount\",\"xref\":\"x\",\"y\":\"is_certified\",\"yref\":\"y\"},{\"font\":{\"color\":\"#FFFFFF\"},\"showarrow\":false,\"text\":\"\",\"x\":\"seller_rating\",\"xref\":\"x\",\"y\":\"is_certified\",\"yref\":\"y\"},{\"font\":{\"color\":\"#FFFFFF\"},\"showarrow\":false,\"text\":\"\",\"x\":\"sp_id\",\"xref\":\"x\",\"y\":\"is_certified\",\"yref\":\"y\"},{\"font\":{\"color\":\"#FFFFFF\"},\"showarrow\":false,\"text\":\"\",\"x\":\"vehicle_damage_category\",\"xref\":\"x\",\"y\":\"is_certified\",\"yref\":\"y\"},{\"font\":{\"color\":\"#FFFFFF\"},\"showarrow\":false,\"text\":\"\",\"x\":\"year\",\"xref\":\"x\",\"y\":\"is_certified\",\"yref\":\"y\"},{\"font\":{\"color\":\"#FFFFFF\"},\"showarrow\":false,\"text\":\"0.1\",\"x\":\"city_fuel_economy\",\"xref\":\"x\",\"y\":\"is_new\",\"yref\":\"y\"},{\"font\":{\"color\":\"#FFFFFF\"},\"showarrow\":false,\"text\":\"\",\"x\":\"combine_fuel_economy\",\"xref\":\"x\",\"y\":\"is_new\",\"yref\":\"y\"},{\"font\":{\"color\":\"#FFFFFF\"},\"showarrow\":false,\"text\":\"0.17\",\"x\":\"daysonmarket\",\"xref\":\"x\",\"y\":\"is_new\",\"yref\":\"y\"},{\"font\":{\"color\":\"#FFFFFF\"},\"showarrow\":false,\"text\":\"-0.07\",\"x\":\"engine_displacement\",\"xref\":\"x\",\"y\":\"is_new\",\"yref\":\"y\"},{\"font\":{\"color\":\"#FFFFFF\"},\"showarrow\":false,\"text\":\"0.47\",\"x\":\"franchise_dealer\",\"xref\":\"x\",\"y\":\"is_new\",\"yref\":\"y\"},{\"font\":{\"color\":\"#FFFFFF\"},\"showarrow\":false,\"text\":\"0.06\",\"x\":\"highway_fuel_economy\",\"xref\":\"x\",\"y\":\"is_new\",\"yref\":\"y\"},{\"font\":{\"color\":\"#FFFFFF\"},\"showarrow\":false,\"text\":\"0.01\",\"x\":\"horsepower\",\"xref\":\"x\",\"y\":\"is_new\",\"yref\":\"y\"},{\"font\":{\"color\":\"#FFFFFF\"},\"showarrow\":false,\"text\":\"\",\"x\":\"is_certified\",\"xref\":\"x\",\"y\":\"is_new\",\"yref\":\"y\"},{\"font\":{\"color\":\"#FFFFFF\"},\"showarrow\":false,\"text\":\"\",\"x\":\"is_new\",\"xref\":\"x\",\"y\":\"is_new\",\"yref\":\"y\"},{\"font\":{\"color\":\"#FFFFFF\"},\"showarrow\":false,\"text\":\"\",\"x\":\"latitude\",\"xref\":\"x\",\"y\":\"is_new\",\"yref\":\"y\"},{\"font\":{\"color\":\"#FFFFFF\"},\"showarrow\":false,\"text\":\"\",\"x\":\"listing_id\",\"xref\":\"x\",\"y\":\"is_new\",\"yref\":\"y\"},{\"font\":{\"color\":\"#FFFFFF\"},\"showarrow\":false,\"text\":\"\",\"x\":\"longitude\",\"xref\":\"x\",\"y\":\"is_new\",\"yref\":\"y\"},{\"font\":{\"color\":\"#FFFFFF\"},\"showarrow\":false,\"text\":\"\",\"x\":\"mileage\",\"xref\":\"x\",\"y\":\"is_new\",\"yref\":\"y\"},{\"font\":{\"color\":\"#FFFFFF\"},\"showarrow\":false,\"text\":\"\",\"x\":\"owner_count\",\"xref\":\"x\",\"y\":\"is_new\",\"yref\":\"y\"},{\"font\":{\"color\":\"#FFFFFF\"},\"showarrow\":false,\"text\":\"\",\"x\":\"price\",\"xref\":\"x\",\"y\":\"is_new\",\"yref\":\"y\"},{\"font\":{\"color\":\"#FFFFFF\"},\"showarrow\":false,\"text\":\"\",\"x\":\"savings_amount\",\"xref\":\"x\",\"y\":\"is_new\",\"yref\":\"y\"},{\"font\":{\"color\":\"#FFFFFF\"},\"showarrow\":false,\"text\":\"\",\"x\":\"seller_rating\",\"xref\":\"x\",\"y\":\"is_new\",\"yref\":\"y\"},{\"font\":{\"color\":\"#FFFFFF\"},\"showarrow\":false,\"text\":\"\",\"x\":\"sp_id\",\"xref\":\"x\",\"y\":\"is_new\",\"yref\":\"y\"},{\"font\":{\"color\":\"#FFFFFF\"},\"showarrow\":false,\"text\":\"\",\"x\":\"vehicle_damage_category\",\"xref\":\"x\",\"y\":\"is_new\",\"yref\":\"y\"},{\"font\":{\"color\":\"#FFFFFF\"},\"showarrow\":false,\"text\":\"\",\"x\":\"year\",\"xref\":\"x\",\"y\":\"is_new\",\"yref\":\"y\"},{\"font\":{\"color\":\"#FFFFFF\"},\"showarrow\":false,\"text\":\"-0.04\",\"x\":\"city_fuel_economy\",\"xref\":\"x\",\"y\":\"latitude\",\"yref\":\"y\"},{\"font\":{\"color\":\"#FFFFFF\"},\"showarrow\":false,\"text\":\"\",\"x\":\"combine_fuel_economy\",\"xref\":\"x\",\"y\":\"latitude\",\"yref\":\"y\"},{\"font\":{\"color\":\"#FFFFFF\"},\"showarrow\":false,\"text\":\"0.02\",\"x\":\"daysonmarket\",\"xref\":\"x\",\"y\":\"latitude\",\"yref\":\"y\"},{\"font\":{\"color\":\"#FFFFFF\"},\"showarrow\":false,\"text\":\"-0.0\",\"x\":\"engine_displacement\",\"xref\":\"x\",\"y\":\"latitude\",\"yref\":\"y\"},{\"font\":{\"color\":\"#FFFFFF\"},\"showarrow\":false,\"text\":\"0.01\",\"x\":\"franchise_dealer\",\"xref\":\"x\",\"y\":\"latitude\",\"yref\":\"y\"},{\"font\":{\"color\":\"#FFFFFF\"},\"showarrow\":false,\"text\":\"-0.06\",\"x\":\"highway_fuel_economy\",\"xref\":\"x\",\"y\":\"latitude\",\"yref\":\"y\"},{\"font\":{\"color\":\"#FFFFFF\"},\"showarrow\":false,\"text\":\"-0.01\",\"x\":\"horsepower\",\"xref\":\"x\",\"y\":\"latitude\",\"yref\":\"y\"},{\"font\":{\"color\":\"#FFFFFF\"},\"showarrow\":false,\"text\":\"\",\"x\":\"is_certified\",\"xref\":\"x\",\"y\":\"latitude\",\"yref\":\"y\"},{\"font\":{\"color\":\"#FFFFFF\"},\"showarrow\":false,\"text\":\"-0.05\",\"x\":\"is_new\",\"xref\":\"x\",\"y\":\"latitude\",\"yref\":\"y\"},{\"font\":{\"color\":\"#FFFFFF\"},\"showarrow\":false,\"text\":\"\",\"x\":\"latitude\",\"xref\":\"x\",\"y\":\"latitude\",\"yref\":\"y\"},{\"font\":{\"color\":\"#FFFFFF\"},\"showarrow\":false,\"text\":\"\",\"x\":\"listing_id\",\"xref\":\"x\",\"y\":\"latitude\",\"yref\":\"y\"},{\"font\":{\"color\":\"#FFFFFF\"},\"showarrow\":false,\"text\":\"\",\"x\":\"longitude\",\"xref\":\"x\",\"y\":\"latitude\",\"yref\":\"y\"},{\"font\":{\"color\":\"#FFFFFF\"},\"showarrow\":false,\"text\":\"\",\"x\":\"mileage\",\"xref\":\"x\",\"y\":\"latitude\",\"yref\":\"y\"},{\"font\":{\"color\":\"#FFFFFF\"},\"showarrow\":false,\"text\":\"\",\"x\":\"owner_count\",\"xref\":\"x\",\"y\":\"latitude\",\"yref\":\"y\"},{\"font\":{\"color\":\"#FFFFFF\"},\"showarrow\":false,\"text\":\"\",\"x\":\"price\",\"xref\":\"x\",\"y\":\"latitude\",\"yref\":\"y\"},{\"font\":{\"color\":\"#FFFFFF\"},\"showarrow\":false,\"text\":\"\",\"x\":\"savings_amount\",\"xref\":\"x\",\"y\":\"latitude\",\"yref\":\"y\"},{\"font\":{\"color\":\"#FFFFFF\"},\"showarrow\":false,\"text\":\"\",\"x\":\"seller_rating\",\"xref\":\"x\",\"y\":\"latitude\",\"yref\":\"y\"},{\"font\":{\"color\":\"#FFFFFF\"},\"showarrow\":false,\"text\":\"\",\"x\":\"sp_id\",\"xref\":\"x\",\"y\":\"latitude\",\"yref\":\"y\"},{\"font\":{\"color\":\"#FFFFFF\"},\"showarrow\":false,\"text\":\"\",\"x\":\"vehicle_damage_category\",\"xref\":\"x\",\"y\":\"latitude\",\"yref\":\"y\"},{\"font\":{\"color\":\"#FFFFFF\"},\"showarrow\":false,\"text\":\"\",\"x\":\"year\",\"xref\":\"x\",\"y\":\"latitude\",\"yref\":\"y\"},{\"font\":{\"color\":\"#FFFFFF\"},\"showarrow\":false,\"text\":\"-0.01\",\"x\":\"city_fuel_economy\",\"xref\":\"x\",\"y\":\"listing_id\",\"yref\":\"y\"},{\"font\":{\"color\":\"#FFFFFF\"},\"showarrow\":false,\"text\":\"\",\"x\":\"combine_fuel_economy\",\"xref\":\"x\",\"y\":\"listing_id\",\"yref\":\"y\"},{\"font\":{\"color\":\"#FFFFFF\"},\"showarrow\":false,\"text\":\"-1.0\",\"x\":\"daysonmarket\",\"xref\":\"x\",\"y\":\"listing_id\",\"yref\":\"y\"},{\"font\":{\"color\":\"#FFFFFF\"},\"showarrow\":false,\"text\":\"0.04\",\"x\":\"engine_displacement\",\"xref\":\"x\",\"y\":\"listing_id\",\"yref\":\"y\"},{\"font\":{\"color\":\"#FFFFFF\"},\"showarrow\":false,\"text\":\"0.0\",\"x\":\"franchise_dealer\",\"xref\":\"x\",\"y\":\"listing_id\",\"yref\":\"y\"},{\"font\":{\"color\":\"#FFFFFF\"},\"showarrow\":false,\"text\":\"0.0\",\"x\":\"highway_fuel_economy\",\"xref\":\"x\",\"y\":\"listing_id\",\"yref\":\"y\"},{\"font\":{\"color\":\"#FFFFFF\"},\"showarrow\":false,\"text\":\"0.02\",\"x\":\"horsepower\",\"xref\":\"x\",\"y\":\"listing_id\",\"yref\":\"y\"},{\"font\":{\"color\":\"#FFFFFF\"},\"showarrow\":false,\"text\":\"\",\"x\":\"is_certified\",\"xref\":\"x\",\"y\":\"listing_id\",\"yref\":\"y\"},{\"font\":{\"color\":\"#FFFFFF\"},\"showarrow\":false,\"text\":\"-0.16\",\"x\":\"is_new\",\"xref\":\"x\",\"y\":\"listing_id\",\"yref\":\"y\"},{\"font\":{\"color\":\"#FFFFFF\"},\"showarrow\":false,\"text\":\"-0.02\",\"x\":\"latitude\",\"xref\":\"x\",\"y\":\"listing_id\",\"yref\":\"y\"},{\"font\":{\"color\":\"#FFFFFF\"},\"showarrow\":false,\"text\":\"\",\"x\":\"listing_id\",\"xref\":\"x\",\"y\":\"listing_id\",\"yref\":\"y\"},{\"font\":{\"color\":\"#FFFFFF\"},\"showarrow\":false,\"text\":\"\",\"x\":\"longitude\",\"xref\":\"x\",\"y\":\"listing_id\",\"yref\":\"y\"},{\"font\":{\"color\":\"#FFFFFF\"},\"showarrow\":false,\"text\":\"\",\"x\":\"mileage\",\"xref\":\"x\",\"y\":\"listing_id\",\"yref\":\"y\"},{\"font\":{\"color\":\"#FFFFFF\"},\"showarrow\":false,\"text\":\"\",\"x\":\"owner_count\",\"xref\":\"x\",\"y\":\"listing_id\",\"yref\":\"y\"},{\"font\":{\"color\":\"#FFFFFF\"},\"showarrow\":false,\"text\":\"\",\"x\":\"price\",\"xref\":\"x\",\"y\":\"listing_id\",\"yref\":\"y\"},{\"font\":{\"color\":\"#FFFFFF\"},\"showarrow\":false,\"text\":\"\",\"x\":\"savings_amount\",\"xref\":\"x\",\"y\":\"listing_id\",\"yref\":\"y\"},{\"font\":{\"color\":\"#FFFFFF\"},\"showarrow\":false,\"text\":\"\",\"x\":\"seller_rating\",\"xref\":\"x\",\"y\":\"listing_id\",\"yref\":\"y\"},{\"font\":{\"color\":\"#FFFFFF\"},\"showarrow\":false,\"text\":\"\",\"x\":\"sp_id\",\"xref\":\"x\",\"y\":\"listing_id\",\"yref\":\"y\"},{\"font\":{\"color\":\"#FFFFFF\"},\"showarrow\":false,\"text\":\"\",\"x\":\"vehicle_damage_category\",\"xref\":\"x\",\"y\":\"listing_id\",\"yref\":\"y\"},{\"font\":{\"color\":\"#FFFFFF\"},\"showarrow\":false,\"text\":\"\",\"x\":\"year\",\"xref\":\"x\",\"y\":\"listing_id\",\"yref\":\"y\"},{\"font\":{\"color\":\"#FFFFFF\"},\"showarrow\":false,\"text\":\"-0.09\",\"x\":\"city_fuel_economy\",\"xref\":\"x\",\"y\":\"longitude\",\"yref\":\"y\"},{\"font\":{\"color\":\"#FFFFFF\"},\"showarrow\":false,\"text\":\"\",\"x\":\"combine_fuel_economy\",\"xref\":\"x\",\"y\":\"longitude\",\"yref\":\"y\"},{\"font\":{\"color\":\"#FFFFFF\"},\"showarrow\":false,\"text\":\"0.01\",\"x\":\"daysonmarket\",\"xref\":\"x\",\"y\":\"longitude\",\"yref\":\"y\"},{\"font\":{\"color\":\"#FFFFFF\"},\"showarrow\":false,\"text\":\"-0.01\",\"x\":\"engine_displacement\",\"xref\":\"x\",\"y\":\"longitude\",\"yref\":\"y\"},{\"font\":{\"color\":\"#FFFFFF\"},\"showarrow\":false,\"text\":\"0.02\",\"x\":\"franchise_dealer\",\"xref\":\"x\",\"y\":\"longitude\",\"yref\":\"y\"},{\"font\":{\"color\":\"#FFFFFF\"},\"showarrow\":false,\"text\":\"-0.08\",\"x\":\"highway_fuel_economy\",\"xref\":\"x\",\"y\":\"longitude\",\"yref\":\"y\"},{\"font\":{\"color\":\"#FFFFFF\"},\"showarrow\":false,\"text\":\"-0.01\",\"x\":\"horsepower\",\"xref\":\"x\",\"y\":\"longitude\",\"yref\":\"y\"},{\"font\":{\"color\":\"#FFFFFF\"},\"showarrow\":false,\"text\":\"\",\"x\":\"is_certified\",\"xref\":\"x\",\"y\":\"longitude\",\"yref\":\"y\"},{\"font\":{\"color\":\"#FFFFFF\"},\"showarrow\":false,\"text\":\"-0.01\",\"x\":\"is_new\",\"xref\":\"x\",\"y\":\"longitude\",\"yref\":\"y\"},{\"font\":{\"color\":\"#FFFFFF\"},\"showarrow\":false,\"text\":\"0.17\",\"x\":\"latitude\",\"xref\":\"x\",\"y\":\"longitude\",\"yref\":\"y\"},{\"font\":{\"color\":\"#FFFFFF\"},\"showarrow\":false,\"text\":\"-0.02\",\"x\":\"listing_id\",\"xref\":\"x\",\"y\":\"longitude\",\"yref\":\"y\"},{\"font\":{\"color\":\"#FFFFFF\"},\"showarrow\":false,\"text\":\"\",\"x\":\"longitude\",\"xref\":\"x\",\"y\":\"longitude\",\"yref\":\"y\"},{\"font\":{\"color\":\"#FFFFFF\"},\"showarrow\":false,\"text\":\"\",\"x\":\"mileage\",\"xref\":\"x\",\"y\":\"longitude\",\"yref\":\"y\"},{\"font\":{\"color\":\"#FFFFFF\"},\"showarrow\":false,\"text\":\"\",\"x\":\"owner_count\",\"xref\":\"x\",\"y\":\"longitude\",\"yref\":\"y\"},{\"font\":{\"color\":\"#FFFFFF\"},\"showarrow\":false,\"text\":\"\",\"x\":\"price\",\"xref\":\"x\",\"y\":\"longitude\",\"yref\":\"y\"},{\"font\":{\"color\":\"#FFFFFF\"},\"showarrow\":false,\"text\":\"\",\"x\":\"savings_amount\",\"xref\":\"x\",\"y\":\"longitude\",\"yref\":\"y\"},{\"font\":{\"color\":\"#FFFFFF\"},\"showarrow\":false,\"text\":\"\",\"x\":\"seller_rating\",\"xref\":\"x\",\"y\":\"longitude\",\"yref\":\"y\"},{\"font\":{\"color\":\"#FFFFFF\"},\"showarrow\":false,\"text\":\"\",\"x\":\"sp_id\",\"xref\":\"x\",\"y\":\"longitude\",\"yref\":\"y\"},{\"font\":{\"color\":\"#FFFFFF\"},\"showarrow\":false,\"text\":\"\",\"x\":\"vehicle_damage_category\",\"xref\":\"x\",\"y\":\"longitude\",\"yref\":\"y\"},{\"font\":{\"color\":\"#FFFFFF\"},\"showarrow\":false,\"text\":\"\",\"x\":\"year\",\"xref\":\"x\",\"y\":\"longitude\",\"yref\":\"y\"},{\"font\":{\"color\":\"#FFFFFF\"},\"showarrow\":false,\"text\":\"-0.15\",\"x\":\"city_fuel_economy\",\"xref\":\"x\",\"y\":\"mileage\",\"yref\":\"y\"},{\"font\":{\"color\":\"#FFFFFF\"},\"showarrow\":false,\"text\":\"\",\"x\":\"combine_fuel_economy\",\"xref\":\"x\",\"y\":\"mileage\",\"yref\":\"y\"},{\"font\":{\"color\":\"#FFFFFF\"},\"showarrow\":false,\"text\":\"-0.05\",\"x\":\"daysonmarket\",\"xref\":\"x\",\"y\":\"mileage\",\"yref\":\"y\"},{\"font\":{\"color\":\"#FFFFFF\"},\"showarrow\":false,\"text\":\"0.15\",\"x\":\"engine_displacement\",\"xref\":\"x\",\"y\":\"mileage\",\"yref\":\"y\"},{\"font\":{\"color\":\"#FFFFFF\"},\"showarrow\":false,\"text\":\"-0.32\",\"x\":\"franchise_dealer\",\"xref\":\"x\",\"y\":\"mileage\",\"yref\":\"y\"},{\"font\":{\"color\":\"#FFFFFF\"},\"showarrow\":false,\"text\":\"-0.14\",\"x\":\"highway_fuel_economy\",\"xref\":\"x\",\"y\":\"mileage\",\"yref\":\"y\"},{\"font\":{\"color\":\"#FFFFFF\"},\"showarrow\":false,\"text\":\"-0.02\",\"x\":\"horsepower\",\"xref\":\"x\",\"y\":\"mileage\",\"yref\":\"y\"},{\"font\":{\"color\":\"#FFFFFF\"},\"showarrow\":false,\"text\":\"\",\"x\":\"is_certified\",\"xref\":\"x\",\"y\":\"mileage\",\"yref\":\"y\"},{\"font\":{\"color\":\"#FFFFFF\"},\"showarrow\":false,\"text\":\"-0.39\",\"x\":\"is_new\",\"xref\":\"x\",\"y\":\"mileage\",\"yref\":\"y\"},{\"font\":{\"color\":\"#FFFFFF\"},\"showarrow\":false,\"text\":\"0.03\",\"x\":\"latitude\",\"xref\":\"x\",\"y\":\"mileage\",\"yref\":\"y\"},{\"font\":{\"color\":\"#FFFFFF\"},\"showarrow\":false,\"text\":\"0.04\",\"x\":\"listing_id\",\"xref\":\"x\",\"y\":\"mileage\",\"yref\":\"y\"},{\"font\":{\"color\":\"#FFFFFF\"},\"showarrow\":false,\"text\":\"0.01\",\"x\":\"longitude\",\"xref\":\"x\",\"y\":\"mileage\",\"yref\":\"y\"},{\"font\":{\"color\":\"#FFFFFF\"},\"showarrow\":false,\"text\":\"\",\"x\":\"mileage\",\"xref\":\"x\",\"y\":\"mileage\",\"yref\":\"y\"},{\"font\":{\"color\":\"#FFFFFF\"},\"showarrow\":false,\"text\":\"\",\"x\":\"owner_count\",\"xref\":\"x\",\"y\":\"mileage\",\"yref\":\"y\"},{\"font\":{\"color\":\"#FFFFFF\"},\"showarrow\":false,\"text\":\"\",\"x\":\"price\",\"xref\":\"x\",\"y\":\"mileage\",\"yref\":\"y\"},{\"font\":{\"color\":\"#FFFFFF\"},\"showarrow\":false,\"text\":\"\",\"x\":\"savings_amount\",\"xref\":\"x\",\"y\":\"mileage\",\"yref\":\"y\"},{\"font\":{\"color\":\"#FFFFFF\"},\"showarrow\":false,\"text\":\"\",\"x\":\"seller_rating\",\"xref\":\"x\",\"y\":\"mileage\",\"yref\":\"y\"},{\"font\":{\"color\":\"#FFFFFF\"},\"showarrow\":false,\"text\":\"\",\"x\":\"sp_id\",\"xref\":\"x\",\"y\":\"mileage\",\"yref\":\"y\"},{\"font\":{\"color\":\"#FFFFFF\"},\"showarrow\":false,\"text\":\"\",\"x\":\"vehicle_damage_category\",\"xref\":\"x\",\"y\":\"mileage\",\"yref\":\"y\"},{\"font\":{\"color\":\"#FFFFFF\"},\"showarrow\":false,\"text\":\"\",\"x\":\"year\",\"xref\":\"x\",\"y\":\"mileage\",\"yref\":\"y\"},{\"font\":{\"color\":\"#FFFFFF\"},\"showarrow\":false,\"text\":\"-0.13\",\"x\":\"city_fuel_economy\",\"xref\":\"x\",\"y\":\"owner_count\",\"yref\":\"y\"},{\"font\":{\"color\":\"#FFFFFF\"},\"showarrow\":false,\"text\":\"\",\"x\":\"combine_fuel_economy\",\"xref\":\"x\",\"y\":\"owner_count\",\"yref\":\"y\"},{\"font\":{\"color\":\"#FFFFFF\"},\"showarrow\":false,\"text\":\"0.1\",\"x\":\"daysonmarket\",\"xref\":\"x\",\"y\":\"owner_count\",\"yref\":\"y\"},{\"font\":{\"color\":\"#FFFFFF\"},\"showarrow\":false,\"text\":\"0.12\",\"x\":\"engine_displacement\",\"xref\":\"x\",\"y\":\"owner_count\",\"yref\":\"y\"},{\"font\":{\"color\":\"#FFFFFF\"},\"showarrow\":false,\"text\":\"-0.27\",\"x\":\"franchise_dealer\",\"xref\":\"x\",\"y\":\"owner_count\",\"yref\":\"y\"},{\"font\":{\"color\":\"#FFFFFF\"},\"showarrow\":false,\"text\":\"-0.13\",\"x\":\"highway_fuel_economy\",\"xref\":\"x\",\"y\":\"owner_count\",\"yref\":\"y\"},{\"font\":{\"color\":\"#FFFFFF\"},\"showarrow\":false,\"text\":\"0.0\",\"x\":\"horsepower\",\"xref\":\"x\",\"y\":\"owner_count\",\"yref\":\"y\"},{\"font\":{\"color\":\"#FFFFFF\"},\"showarrow\":false,\"text\":\"\",\"x\":\"is_certified\",\"xref\":\"x\",\"y\":\"owner_count\",\"yref\":\"y\"},{\"font\":{\"color\":\"#FFFFFF\"},\"showarrow\":false,\"text\":\"-0.01\",\"x\":\"is_new\",\"xref\":\"x\",\"y\":\"owner_count\",\"yref\":\"y\"},{\"font\":{\"color\":\"#FFFFFF\"},\"showarrow\":false,\"text\":\"0.0\",\"x\":\"latitude\",\"xref\":\"x\",\"y\":\"owner_count\",\"yref\":\"y\"},{\"font\":{\"color\":\"#FFFFFF\"},\"showarrow\":false,\"text\":\"-0.1\",\"x\":\"listing_id\",\"xref\":\"x\",\"y\":\"owner_count\",\"yref\":\"y\"},{\"font\":{\"color\":\"#FFFFFF\"},\"showarrow\":false,\"text\":\"-0.01\",\"x\":\"longitude\",\"xref\":\"x\",\"y\":\"owner_count\",\"yref\":\"y\"},{\"font\":{\"color\":\"#FFFFFF\"},\"showarrow\":false,\"text\":\"0.52\",\"x\":\"mileage\",\"xref\":\"x\",\"y\":\"owner_count\",\"yref\":\"y\"},{\"font\":{\"color\":\"#FFFFFF\"},\"showarrow\":false,\"text\":\"\",\"x\":\"owner_count\",\"xref\":\"x\",\"y\":\"owner_count\",\"yref\":\"y\"},{\"font\":{\"color\":\"#FFFFFF\"},\"showarrow\":false,\"text\":\"\",\"x\":\"price\",\"xref\":\"x\",\"y\":\"owner_count\",\"yref\":\"y\"},{\"font\":{\"color\":\"#FFFFFF\"},\"showarrow\":false,\"text\":\"\",\"x\":\"savings_amount\",\"xref\":\"x\",\"y\":\"owner_count\",\"yref\":\"y\"},{\"font\":{\"color\":\"#FFFFFF\"},\"showarrow\":false,\"text\":\"\",\"x\":\"seller_rating\",\"xref\":\"x\",\"y\":\"owner_count\",\"yref\":\"y\"},{\"font\":{\"color\":\"#FFFFFF\"},\"showarrow\":false,\"text\":\"\",\"x\":\"sp_id\",\"xref\":\"x\",\"y\":\"owner_count\",\"yref\":\"y\"},{\"font\":{\"color\":\"#FFFFFF\"},\"showarrow\":false,\"text\":\"\",\"x\":\"vehicle_damage_category\",\"xref\":\"x\",\"y\":\"owner_count\",\"yref\":\"y\"},{\"font\":{\"color\":\"#FFFFFF\"},\"showarrow\":false,\"text\":\"\",\"x\":\"year\",\"xref\":\"x\",\"y\":\"owner_count\",\"yref\":\"y\"},{\"font\":{\"color\":\"#FFFFFF\"},\"showarrow\":false,\"text\":\"-0.18\",\"x\":\"city_fuel_economy\",\"xref\":\"x\",\"y\":\"price\",\"yref\":\"y\"},{\"font\":{\"color\":\"#FFFFFF\"},\"showarrow\":false,\"text\":\"\",\"x\":\"combine_fuel_economy\",\"xref\":\"x\",\"y\":\"price\",\"yref\":\"y\"},{\"font\":{\"color\":\"#FFFFFF\"},\"showarrow\":false,\"text\":\"0.06\",\"x\":\"daysonmarket\",\"xref\":\"x\",\"y\":\"price\",\"yref\":\"y\"},{\"font\":{\"color\":\"#FFFFFF\"},\"showarrow\":false,\"text\":\"0.38\",\"x\":\"engine_displacement\",\"xref\":\"x\",\"y\":\"price\",\"yref\":\"y\"},{\"font\":{\"color\":\"#FFFFFF\"},\"showarrow\":false,\"text\":\"0.28\",\"x\":\"franchise_dealer\",\"xref\":\"x\",\"y\":\"price\",\"yref\":\"y\"},{\"font\":{\"color\":\"#FFFFFF\"},\"showarrow\":false,\"text\":\"-0.26\",\"x\":\"highway_fuel_economy\",\"xref\":\"x\",\"y\":\"price\",\"yref\":\"y\"},{\"font\":{\"color\":\"#FFFFFF\"},\"showarrow\":false,\"text\":\"0.61\",\"x\":\"horsepower\",\"xref\":\"x\",\"y\":\"price\",\"yref\":\"y\"},{\"font\":{\"color\":\"#FFFFFF\"},\"showarrow\":false,\"text\":\"\",\"x\":\"is_certified\",\"xref\":\"x\",\"y\":\"price\",\"yref\":\"y\"},{\"font\":{\"color\":\"#FFFFFF\"},\"showarrow\":false,\"text\":\"0.38\",\"x\":\"is_new\",\"xref\":\"x\",\"y\":\"price\",\"yref\":\"y\"},{\"font\":{\"color\":\"#FFFFFF\"},\"showarrow\":false,\"text\":\"-0.02\",\"x\":\"latitude\",\"xref\":\"x\",\"y\":\"price\",\"yref\":\"y\"},{\"font\":{\"color\":\"#FFFFFF\"},\"showarrow\":false,\"text\":\"-0.06\",\"x\":\"listing_id\",\"xref\":\"x\",\"y\":\"price\",\"yref\":\"y\"},{\"font\":{\"color\":\"#FFFFFF\"},\"showarrow\":false,\"text\":\"-0.03\",\"x\":\"longitude\",\"xref\":\"x\",\"y\":\"price\",\"yref\":\"y\"},{\"font\":{\"color\":\"#FFFFFF\"},\"showarrow\":false,\"text\":\"-0.27\",\"x\":\"mileage\",\"xref\":\"x\",\"y\":\"price\",\"yref\":\"y\"},{\"font\":{\"color\":\"#FFFFFF\"},\"showarrow\":false,\"text\":\"-0.23\",\"x\":\"owner_count\",\"xref\":\"x\",\"y\":\"price\",\"yref\":\"y\"},{\"font\":{\"color\":\"#FFFFFF\"},\"showarrow\":false,\"text\":\"\",\"x\":\"price\",\"xref\":\"x\",\"y\":\"price\",\"yref\":\"y\"},{\"font\":{\"color\":\"#FFFFFF\"},\"showarrow\":false,\"text\":\"\",\"x\":\"savings_amount\",\"xref\":\"x\",\"y\":\"price\",\"yref\":\"y\"},{\"font\":{\"color\":\"#FFFFFF\"},\"showarrow\":false,\"text\":\"\",\"x\":\"seller_rating\",\"xref\":\"x\",\"y\":\"price\",\"yref\":\"y\"},{\"font\":{\"color\":\"#FFFFFF\"},\"showarrow\":false,\"text\":\"\",\"x\":\"sp_id\",\"xref\":\"x\",\"y\":\"price\",\"yref\":\"y\"},{\"font\":{\"color\":\"#FFFFFF\"},\"showarrow\":false,\"text\":\"\",\"x\":\"vehicle_damage_category\",\"xref\":\"x\",\"y\":\"price\",\"yref\":\"y\"},{\"font\":{\"color\":\"#FFFFFF\"},\"showarrow\":false,\"text\":\"\",\"x\":\"year\",\"xref\":\"x\",\"y\":\"price\",\"yref\":\"y\"},{\"font\":{\"color\":\"#FFFFFF\"},\"showarrow\":false,\"text\":\"-0.1\",\"x\":\"city_fuel_economy\",\"xref\":\"x\",\"y\":\"savings_amount\",\"yref\":\"y\"},{\"font\":{\"color\":\"#FFFFFF\"},\"showarrow\":false,\"text\":\"\",\"x\":\"combine_fuel_economy\",\"xref\":\"x\",\"y\":\"savings_amount\",\"yref\":\"y\"},{\"font\":{\"color\":\"#FFFFFF\"},\"showarrow\":false,\"text\":\"-0.08\",\"x\":\"daysonmarket\",\"xref\":\"x\",\"y\":\"savings_amount\",\"yref\":\"y\"},{\"font\":{\"color\":\"#FFFFFF\"},\"showarrow\":false,\"text\":\"0.14\",\"x\":\"engine_displacement\",\"xref\":\"x\",\"y\":\"savings_amount\",\"yref\":\"y\"},{\"font\":{\"color\":\"#FFFFFF\"},\"showarrow\":false,\"text\":\"-0.21\",\"x\":\"franchise_dealer\",\"xref\":\"x\",\"y\":\"savings_amount\",\"yref\":\"y\"},{\"font\":{\"color\":\"#FFFFFF\"},\"showarrow\":false,\"text\":\"-0.1\",\"x\":\"highway_fuel_economy\",\"xref\":\"x\",\"y\":\"savings_amount\",\"yref\":\"y\"},{\"font\":{\"color\":\"#FFFFFF\"},\"showarrow\":false,\"text\":\"0.16\",\"x\":\"horsepower\",\"xref\":\"x\",\"y\":\"savings_amount\",\"yref\":\"y\"},{\"font\":{\"color\":\"#FFFFFF\"},\"showarrow\":false,\"text\":\"\",\"x\":\"is_certified\",\"xref\":\"x\",\"y\":\"savings_amount\",\"yref\":\"y\"},{\"font\":{\"color\":\"#FFFFFF\"},\"showarrow\":false,\"text\":\"-0.5\",\"x\":\"is_new\",\"xref\":\"x\",\"y\":\"savings_amount\",\"yref\":\"y\"},{\"font\":{\"color\":\"#FFFFFF\"},\"showarrow\":false,\"text\":\"-0.01\",\"x\":\"latitude\",\"xref\":\"x\",\"y\":\"savings_amount\",\"yref\":\"y\"},{\"font\":{\"color\":\"#FFFFFF\"},\"showarrow\":false,\"text\":\"0.07\",\"x\":\"listing_id\",\"xref\":\"x\",\"y\":\"savings_amount\",\"yref\":\"y\"},{\"font\":{\"color\":\"#FFFFFF\"},\"showarrow\":false,\"text\":\"-0.01\",\"x\":\"longitude\",\"xref\":\"x\",\"y\":\"savings_amount\",\"yref\":\"y\"},{\"font\":{\"color\":\"#FFFFFF\"},\"showarrow\":false,\"text\":\"0.15\",\"x\":\"mileage\",\"xref\":\"x\",\"y\":\"savings_amount\",\"yref\":\"y\"},{\"font\":{\"color\":\"#FFFFFF\"},\"showarrow\":false,\"text\":\"-0.06\",\"x\":\"owner_count\",\"xref\":\"x\",\"y\":\"savings_amount\",\"yref\":\"y\"},{\"font\":{\"color\":\"#FFFFFF\"},\"showarrow\":false,\"text\":\"-0.0\",\"x\":\"price\",\"xref\":\"x\",\"y\":\"savings_amount\",\"yref\":\"y\"},{\"font\":{\"color\":\"#FFFFFF\"},\"showarrow\":false,\"text\":\"\",\"x\":\"savings_amount\",\"xref\":\"x\",\"y\":\"savings_amount\",\"yref\":\"y\"},{\"font\":{\"color\":\"#FFFFFF\"},\"showarrow\":false,\"text\":\"\",\"x\":\"seller_rating\",\"xref\":\"x\",\"y\":\"savings_amount\",\"yref\":\"y\"},{\"font\":{\"color\":\"#FFFFFF\"},\"showarrow\":false,\"text\":\"\",\"x\":\"sp_id\",\"xref\":\"x\",\"y\":\"savings_amount\",\"yref\":\"y\"},{\"font\":{\"color\":\"#FFFFFF\"},\"showarrow\":false,\"text\":\"\",\"x\":\"vehicle_damage_category\",\"xref\":\"x\",\"y\":\"savings_amount\",\"yref\":\"y\"},{\"font\":{\"color\":\"#FFFFFF\"},\"showarrow\":false,\"text\":\"\",\"x\":\"year\",\"xref\":\"x\",\"y\":\"savings_amount\",\"yref\":\"y\"},{\"font\":{\"color\":\"#FFFFFF\"},\"showarrow\":false,\"text\":\"-0.04\",\"x\":\"city_fuel_economy\",\"xref\":\"x\",\"y\":\"seller_rating\",\"yref\":\"y\"},{\"font\":{\"color\":\"#FFFFFF\"},\"showarrow\":false,\"text\":\"\",\"x\":\"combine_fuel_economy\",\"xref\":\"x\",\"y\":\"seller_rating\",\"yref\":\"y\"},{\"font\":{\"color\":\"#FFFFFF\"},\"showarrow\":false,\"text\":\"-0.0\",\"x\":\"daysonmarket\",\"xref\":\"x\",\"y\":\"seller_rating\",\"yref\":\"y\"},{\"font\":{\"color\":\"#FFFFFF\"},\"showarrow\":false,\"text\":\"0.03\",\"x\":\"engine_displacement\",\"xref\":\"x\",\"y\":\"seller_rating\",\"yref\":\"y\"},{\"font\":{\"color\":\"#FFFFFF\"},\"showarrow\":false,\"text\":\"-0.04\",\"x\":\"franchise_dealer\",\"xref\":\"x\",\"y\":\"seller_rating\",\"yref\":\"y\"},{\"font\":{\"color\":\"#FFFFFF\"},\"showarrow\":false,\"text\":\"-0.05\",\"x\":\"highway_fuel_economy\",\"xref\":\"x\",\"y\":\"seller_rating\",\"yref\":\"y\"},{\"font\":{\"color\":\"#FFFFFF\"},\"showarrow\":false,\"text\":\"0.06\",\"x\":\"horsepower\",\"xref\":\"x\",\"y\":\"seller_rating\",\"yref\":\"y\"},{\"font\":{\"color\":\"#FFFFFF\"},\"showarrow\":false,\"text\":\"\",\"x\":\"is_certified\",\"xref\":\"x\",\"y\":\"seller_rating\",\"yref\":\"y\"},{\"font\":{\"color\":\"#FFFFFF\"},\"showarrow\":false,\"text\":\"-0.04\",\"x\":\"is_new\",\"xref\":\"x\",\"y\":\"seller_rating\",\"yref\":\"y\"},{\"font\":{\"color\":\"#FFFFFF\"},\"showarrow\":false,\"text\":\"0.09\",\"x\":\"latitude\",\"xref\":\"x\",\"y\":\"seller_rating\",\"yref\":\"y\"},{\"font\":{\"color\":\"#FFFFFF\"},\"showarrow\":false,\"text\":\"0.0\",\"x\":\"listing_id\",\"xref\":\"x\",\"y\":\"seller_rating\",\"yref\":\"y\"},{\"font\":{\"color\":\"#FFFFFF\"},\"showarrow\":false,\"text\":\"0.0\",\"x\":\"longitude\",\"xref\":\"x\",\"y\":\"seller_rating\",\"yref\":\"y\"},{\"font\":{\"color\":\"#FFFFFF\"},\"showarrow\":false,\"text\":\"0.02\",\"x\":\"mileage\",\"xref\":\"x\",\"y\":\"seller_rating\",\"yref\":\"y\"},{\"font\":{\"color\":\"#FFFFFF\"},\"showarrow\":false,\"text\":\"0.01\",\"x\":\"owner_count\",\"xref\":\"x\",\"y\":\"seller_rating\",\"yref\":\"y\"},{\"font\":{\"color\":\"#FFFFFF\"},\"showarrow\":false,\"text\":\"0.07\",\"x\":\"price\",\"xref\":\"x\",\"y\":\"seller_rating\",\"yref\":\"y\"},{\"font\":{\"color\":\"#FFFFFF\"},\"showarrow\":false,\"text\":\"0.01\",\"x\":\"savings_amount\",\"xref\":\"x\",\"y\":\"seller_rating\",\"yref\":\"y\"},{\"font\":{\"color\":\"#FFFFFF\"},\"showarrow\":false,\"text\":\"\",\"x\":\"seller_rating\",\"xref\":\"x\",\"y\":\"seller_rating\",\"yref\":\"y\"},{\"font\":{\"color\":\"#FFFFFF\"},\"showarrow\":false,\"text\":\"\",\"x\":\"sp_id\",\"xref\":\"x\",\"y\":\"seller_rating\",\"yref\":\"y\"},{\"font\":{\"color\":\"#FFFFFF\"},\"showarrow\":false,\"text\":\"\",\"x\":\"vehicle_damage_category\",\"xref\":\"x\",\"y\":\"seller_rating\",\"yref\":\"y\"},{\"font\":{\"color\":\"#FFFFFF\"},\"showarrow\":false,\"text\":\"\",\"x\":\"year\",\"xref\":\"x\",\"y\":\"seller_rating\",\"yref\":\"y\"},{\"font\":{\"color\":\"#FFFFFF\"},\"showarrow\":false,\"text\":\"-0.04\",\"x\":\"city_fuel_economy\",\"xref\":\"x\",\"y\":\"sp_id\",\"yref\":\"y\"},{\"font\":{\"color\":\"#FFFFFF\"},\"showarrow\":false,\"text\":\"\",\"x\":\"combine_fuel_economy\",\"xref\":\"x\",\"y\":\"sp_id\",\"yref\":\"y\"},{\"font\":{\"color\":\"#FFFFFF\"},\"showarrow\":false,\"text\":\"0.01\",\"x\":\"daysonmarket\",\"xref\":\"x\",\"y\":\"sp_id\",\"yref\":\"y\"},{\"font\":{\"color\":\"#FFFFFF\"},\"showarrow\":false,\"text\":\"0.03\",\"x\":\"engine_displacement\",\"xref\":\"x\",\"y\":\"sp_id\",\"yref\":\"y\"},{\"font\":{\"color\":\"#FFFFFF\"},\"showarrow\":false,\"text\":\"-0.41\",\"x\":\"franchise_dealer\",\"xref\":\"x\",\"y\":\"sp_id\",\"yref\":\"y\"},{\"font\":{\"color\":\"#FFFFFF\"},\"showarrow\":false,\"text\":\"-0.03\",\"x\":\"highway_fuel_economy\",\"xref\":\"x\",\"y\":\"sp_id\",\"yref\":\"y\"},{\"font\":{\"color\":\"#FFFFFF\"},\"showarrow\":false,\"text\":\"-0.02\",\"x\":\"horsepower\",\"xref\":\"x\",\"y\":\"sp_id\",\"yref\":\"y\"},{\"font\":{\"color\":\"#FFFFFF\"},\"showarrow\":false,\"text\":\"\",\"x\":\"is_certified\",\"xref\":\"x\",\"y\":\"sp_id\",\"yref\":\"y\"},{\"font\":{\"color\":\"#FFFFFF\"},\"showarrow\":false,\"text\":\"-0.2\",\"x\":\"is_new\",\"xref\":\"x\",\"y\":\"sp_id\",\"yref\":\"y\"},{\"font\":{\"color\":\"#FFFFFF\"},\"showarrow\":false,\"text\":\"-0.04\",\"x\":\"latitude\",\"xref\":\"x\",\"y\":\"sp_id\",\"yref\":\"y\"},{\"font\":{\"color\":\"#FFFFFF\"},\"showarrow\":false,\"text\":\"-0.01\",\"x\":\"listing_id\",\"xref\":\"x\",\"y\":\"sp_id\",\"yref\":\"y\"},{\"font\":{\"color\":\"#FFFFFF\"},\"showarrow\":false,\"text\":\"0.02\",\"x\":\"longitude\",\"xref\":\"x\",\"y\":\"sp_id\",\"yref\":\"y\"},{\"font\":{\"color\":\"#FFFFFF\"},\"showarrow\":false,\"text\":\"0.14\",\"x\":\"mileage\",\"xref\":\"x\",\"y\":\"sp_id\",\"yref\":\"y\"},{\"font\":{\"color\":\"#FFFFFF\"},\"showarrow\":false,\"text\":\"0.16\",\"x\":\"owner_count\",\"xref\":\"x\",\"y\":\"sp_id\",\"yref\":\"y\"},{\"font\":{\"color\":\"#FFFFFF\"},\"showarrow\":false,\"text\":\"-0.12\",\"x\":\"price\",\"xref\":\"x\",\"y\":\"sp_id\",\"yref\":\"y\"},{\"font\":{\"color\":\"#FFFFFF\"},\"showarrow\":false,\"text\":\"0.09\",\"x\":\"savings_amount\",\"xref\":\"x\",\"y\":\"sp_id\",\"yref\":\"y\"},{\"font\":{\"color\":\"#FFFFFF\"},\"showarrow\":false,\"text\":\"-0.03\",\"x\":\"seller_rating\",\"xref\":\"x\",\"y\":\"sp_id\",\"yref\":\"y\"},{\"font\":{\"color\":\"#FFFFFF\"},\"showarrow\":false,\"text\":\"\",\"x\":\"sp_id\",\"xref\":\"x\",\"y\":\"sp_id\",\"yref\":\"y\"},{\"font\":{\"color\":\"#FFFFFF\"},\"showarrow\":false,\"text\":\"\",\"x\":\"vehicle_damage_category\",\"xref\":\"x\",\"y\":\"sp_id\",\"yref\":\"y\"},{\"font\":{\"color\":\"#FFFFFF\"},\"showarrow\":false,\"text\":\"\",\"x\":\"year\",\"xref\":\"x\",\"y\":\"sp_id\",\"yref\":\"y\"},{\"font\":{\"color\":\"#FFFFFF\"},\"showarrow\":false,\"text\":\"\",\"x\":\"city_fuel_economy\",\"xref\":\"x\",\"y\":\"vehicle_damage_category\",\"yref\":\"y\"},{\"font\":{\"color\":\"#FFFFFF\"},\"showarrow\":false,\"text\":\"\",\"x\":\"combine_fuel_economy\",\"xref\":\"x\",\"y\":\"vehicle_damage_category\",\"yref\":\"y\"},{\"font\":{\"color\":\"#FFFFFF\"},\"showarrow\":false,\"text\":\"\",\"x\":\"daysonmarket\",\"xref\":\"x\",\"y\":\"vehicle_damage_category\",\"yref\":\"y\"},{\"font\":{\"color\":\"#FFFFFF\"},\"showarrow\":false,\"text\":\"\",\"x\":\"engine_displacement\",\"xref\":\"x\",\"y\":\"vehicle_damage_category\",\"yref\":\"y\"},{\"font\":{\"color\":\"#FFFFFF\"},\"showarrow\":false,\"text\":\"\",\"x\":\"franchise_dealer\",\"xref\":\"x\",\"y\":\"vehicle_damage_category\",\"yref\":\"y\"},{\"font\":{\"color\":\"#FFFFFF\"},\"showarrow\":false,\"text\":\"\",\"x\":\"highway_fuel_economy\",\"xref\":\"x\",\"y\":\"vehicle_damage_category\",\"yref\":\"y\"},{\"font\":{\"color\":\"#FFFFFF\"},\"showarrow\":false,\"text\":\"\",\"x\":\"horsepower\",\"xref\":\"x\",\"y\":\"vehicle_damage_category\",\"yref\":\"y\"},{\"font\":{\"color\":\"#FFFFFF\"},\"showarrow\":false,\"text\":\"\",\"x\":\"is_certified\",\"xref\":\"x\",\"y\":\"vehicle_damage_category\",\"yref\":\"y\"},{\"font\":{\"color\":\"#FFFFFF\"},\"showarrow\":false,\"text\":\"\",\"x\":\"is_new\",\"xref\":\"x\",\"y\":\"vehicle_damage_category\",\"yref\":\"y\"},{\"font\":{\"color\":\"#FFFFFF\"},\"showarrow\":false,\"text\":\"\",\"x\":\"latitude\",\"xref\":\"x\",\"y\":\"vehicle_damage_category\",\"yref\":\"y\"},{\"font\":{\"color\":\"#FFFFFF\"},\"showarrow\":false,\"text\":\"\",\"x\":\"listing_id\",\"xref\":\"x\",\"y\":\"vehicle_damage_category\",\"yref\":\"y\"},{\"font\":{\"color\":\"#FFFFFF\"},\"showarrow\":false,\"text\":\"\",\"x\":\"longitude\",\"xref\":\"x\",\"y\":\"vehicle_damage_category\",\"yref\":\"y\"},{\"font\":{\"color\":\"#FFFFFF\"},\"showarrow\":false,\"text\":\"\",\"x\":\"mileage\",\"xref\":\"x\",\"y\":\"vehicle_damage_category\",\"yref\":\"y\"},{\"font\":{\"color\":\"#FFFFFF\"},\"showarrow\":false,\"text\":\"\",\"x\":\"owner_count\",\"xref\":\"x\",\"y\":\"vehicle_damage_category\",\"yref\":\"y\"},{\"font\":{\"color\":\"#FFFFFF\"},\"showarrow\":false,\"text\":\"\",\"x\":\"price\",\"xref\":\"x\",\"y\":\"vehicle_damage_category\",\"yref\":\"y\"},{\"font\":{\"color\":\"#FFFFFF\"},\"showarrow\":false,\"text\":\"\",\"x\":\"savings_amount\",\"xref\":\"x\",\"y\":\"vehicle_damage_category\",\"yref\":\"y\"},{\"font\":{\"color\":\"#FFFFFF\"},\"showarrow\":false,\"text\":\"\",\"x\":\"seller_rating\",\"xref\":\"x\",\"y\":\"vehicle_damage_category\",\"yref\":\"y\"},{\"font\":{\"color\":\"#FFFFFF\"},\"showarrow\":false,\"text\":\"\",\"x\":\"sp_id\",\"xref\":\"x\",\"y\":\"vehicle_damage_category\",\"yref\":\"y\"},{\"font\":{\"color\":\"#FFFFFF\"},\"showarrow\":false,\"text\":\"\",\"x\":\"vehicle_damage_category\",\"xref\":\"x\",\"y\":\"vehicle_damage_category\",\"yref\":\"y\"},{\"font\":{\"color\":\"#FFFFFF\"},\"showarrow\":false,\"text\":\"\",\"x\":\"year\",\"xref\":\"x\",\"y\":\"vehicle_damage_category\",\"yref\":\"y\"},{\"font\":{\"color\":\"#FFFFFF\"},\"showarrow\":false,\"text\":\"0.16\",\"x\":\"city_fuel_economy\",\"xref\":\"x\",\"y\":\"year\",\"yref\":\"y\"},{\"font\":{\"color\":\"#FFFFFF\"},\"showarrow\":false,\"text\":\"\",\"x\":\"combine_fuel_economy\",\"xref\":\"x\",\"y\":\"year\",\"yref\":\"y\"},{\"font\":{\"color\":\"#FFFFFF\"},\"showarrow\":false,\"text\":\"-0.0\",\"x\":\"daysonmarket\",\"xref\":\"x\",\"y\":\"year\",\"yref\":\"y\"},{\"font\":{\"color\":\"#FFFFFF\"},\"showarrow\":false,\"text\":\"-0.14\",\"x\":\"engine_displacement\",\"xref\":\"x\",\"y\":\"year\",\"yref\":\"y\"},{\"font\":{\"color\":\"#FFFFFF\"},\"showarrow\":false,\"text\":\"0.49\",\"x\":\"franchise_dealer\",\"xref\":\"x\",\"y\":\"year\",\"yref\":\"y\"},{\"font\":{\"color\":\"#FFFFFF\"},\"showarrow\":false,\"text\":\"0.15\",\"x\":\"highway_fuel_economy\",\"xref\":\"x\",\"y\":\"year\",\"yref\":\"y\"},{\"font\":{\"color\":\"#FFFFFF\"},\"showarrow\":false,\"text\":\"0.03\",\"x\":\"horsepower\",\"xref\":\"x\",\"y\":\"year\",\"yref\":\"y\"},{\"font\":{\"color\":\"#FFFFFF\"},\"showarrow\":false,\"text\":\"\",\"x\":\"is_certified\",\"xref\":\"x\",\"y\":\"year\",\"yref\":\"y\"},{\"font\":{\"color\":\"#FFFFFF\"},\"showarrow\":false,\"text\":\"0.55\",\"x\":\"is_new\",\"xref\":\"x\",\"y\":\"year\",\"yref\":\"y\"},{\"font\":{\"color\":\"#FFFFFF\"},\"showarrow\":false,\"text\":\"-0.07\",\"x\":\"latitude\",\"xref\":\"x\",\"y\":\"year\",\"yref\":\"y\"},{\"font\":{\"color\":\"#FFFFFF\"},\"showarrow\":false,\"text\":\"0.01\",\"x\":\"listing_id\",\"xref\":\"x\",\"y\":\"year\",\"yref\":\"y\"},{\"font\":{\"color\":\"#FFFFFF\"},\"showarrow\":false,\"text\":\"-0.01\",\"x\":\"longitude\",\"xref\":\"x\",\"y\":\"year\",\"yref\":\"y\"},{\"font\":{\"color\":\"#FFFFFF\"},\"showarrow\":false,\"text\":\"-0.47\",\"x\":\"mileage\",\"xref\":\"x\",\"y\":\"year\",\"yref\":\"y\"},{\"font\":{\"color\":\"#FFFFFF\"},\"showarrow\":false,\"text\":\"-0.59\",\"x\":\"owner_count\",\"xref\":\"x\",\"y\":\"year\",\"yref\":\"y\"},{\"font\":{\"color\":\"#FFFFFF\"},\"showarrow\":false,\"text\":\"0.36\",\"x\":\"price\",\"xref\":\"x\",\"y\":\"year\",\"yref\":\"y\"},{\"font\":{\"color\":\"#FFFFFF\"},\"showarrow\":false,\"text\":\"-0.19\",\"x\":\"savings_amount\",\"xref\":\"x\",\"y\":\"year\",\"yref\":\"y\"},{\"font\":{\"color\":\"#FFFFFF\"},\"showarrow\":false,\"text\":\"-0.05\",\"x\":\"seller_rating\",\"xref\":\"x\",\"y\":\"year\",\"yref\":\"y\"},{\"font\":{\"color\":\"#FFFFFF\"},\"showarrow\":false,\"text\":\"-0.21\",\"x\":\"sp_id\",\"xref\":\"x\",\"y\":\"year\",\"yref\":\"y\"},{\"font\":{\"color\":\"#FFFFFF\"},\"showarrow\":false,\"text\":\"\",\"x\":\"vehicle_damage_category\",\"xref\":\"x\",\"y\":\"year\",\"yref\":\"y\"},{\"font\":{\"color\":\"#FFFFFF\"},\"showarrow\":false,\"text\":\"\",\"x\":\"year\",\"xref\":\"x\",\"y\":\"year\",\"yref\":\"y\"}],\"xaxis\":{\"dtick\":1,\"gridcolor\":\"rgb(0, 0, 0)\",\"side\":\"bottom\",\"ticks\":\"\",\"showgrid\":false},\"yaxis\":{\"dtick\":1,\"ticks\":\"\",\"ticksuffix\":\"  \",\"showgrid\":false,\"autorange\":\"reversed\"},\"template\":{\"data\":{\"barpolar\":[{\"marker\":{\"line\":{\"color\":\"white\",\"width\":0.5},\"pattern\":{\"fillmode\":\"overlay\",\"size\":10,\"solidity\":0.2}},\"type\":\"barpolar\"}],\"bar\":[{\"error_x\":{\"color\":\"rgb(36,36,36)\"},\"error_y\":{\"color\":\"rgb(36,36,36)\"},\"marker\":{\"line\":{\"color\":\"white\",\"width\":0.5},\"pattern\":{\"fillmode\":\"overlay\",\"size\":10,\"solidity\":0.2}},\"type\":\"bar\"}],\"carpet\":[{\"aaxis\":{\"endlinecolor\":\"rgb(36,36,36)\",\"gridcolor\":\"white\",\"linecolor\":\"white\",\"minorgridcolor\":\"white\",\"startlinecolor\":\"rgb(36,36,36)\"},\"baxis\":{\"endlinecolor\":\"rgb(36,36,36)\",\"gridcolor\":\"white\",\"linecolor\":\"white\",\"minorgridcolor\":\"white\",\"startlinecolor\":\"rgb(36,36,36)\"},\"type\":\"carpet\"}],\"choropleth\":[{\"colorbar\":{\"outlinewidth\":1,\"tickcolor\":\"rgb(36,36,36)\",\"ticks\":\"outside\"},\"type\":\"choropleth\"}],\"contourcarpet\":[{\"colorbar\":{\"outlinewidth\":1,\"tickcolor\":\"rgb(36,36,36)\",\"ticks\":\"outside\"},\"type\":\"contourcarpet\"}],\"contour\":[{\"colorbar\":{\"outlinewidth\":1,\"tickcolor\":\"rgb(36,36,36)\",\"ticks\":\"outside\"},\"colorscale\":[[0.0,\"#440154\"],[0.1111111111111111,\"#482878\"],[0.2222222222222222,\"#3e4989\"],[0.3333333333333333,\"#31688e\"],[0.4444444444444444,\"#26828e\"],[0.5555555555555556,\"#1f9e89\"],[0.6666666666666666,\"#35b779\"],[0.7777777777777778,\"#6ece58\"],[0.8888888888888888,\"#b5de2b\"],[1.0,\"#fde725\"]],\"type\":\"contour\"}],\"heatmapgl\":[{\"colorbar\":{\"outlinewidth\":1,\"tickcolor\":\"rgb(36,36,36)\",\"ticks\":\"outside\"},\"colorscale\":[[0.0,\"#440154\"],[0.1111111111111111,\"#482878\"],[0.2222222222222222,\"#3e4989\"],[0.3333333333333333,\"#31688e\"],[0.4444444444444444,\"#26828e\"],[0.5555555555555556,\"#1f9e89\"],[0.6666666666666666,\"#35b779\"],[0.7777777777777778,\"#6ece58\"],[0.8888888888888888,\"#b5de2b\"],[1.0,\"#fde725\"]],\"type\":\"heatmapgl\"}],\"heatmap\":[{\"colorbar\":{\"outlinewidth\":1,\"tickcolor\":\"rgb(36,36,36)\",\"ticks\":\"outside\"},\"colorscale\":[[0.0,\"#440154\"],[0.1111111111111111,\"#482878\"],[0.2222222222222222,\"#3e4989\"],[0.3333333333333333,\"#31688e\"],[0.4444444444444444,\"#26828e\"],[0.5555555555555556,\"#1f9e89\"],[0.6666666666666666,\"#35b779\"],[0.7777777777777778,\"#6ece58\"],[0.8888888888888888,\"#b5de2b\"],[1.0,\"#fde725\"]],\"type\":\"heatmap\"}],\"histogram2dcontour\":[{\"colorbar\":{\"outlinewidth\":1,\"tickcolor\":\"rgb(36,36,36)\",\"ticks\":\"outside\"},\"colorscale\":[[0.0,\"#440154\"],[0.1111111111111111,\"#482878\"],[0.2222222222222222,\"#3e4989\"],[0.3333333333333333,\"#31688e\"],[0.4444444444444444,\"#26828e\"],[0.5555555555555556,\"#1f9e89\"],[0.6666666666666666,\"#35b779\"],[0.7777777777777778,\"#6ece58\"],[0.8888888888888888,\"#b5de2b\"],[1.0,\"#fde725\"]],\"type\":\"histogram2dcontour\"}],\"histogram2d\":[{\"colorbar\":{\"outlinewidth\":1,\"tickcolor\":\"rgb(36,36,36)\",\"ticks\":\"outside\"},\"colorscale\":[[0.0,\"#440154\"],[0.1111111111111111,\"#482878\"],[0.2222222222222222,\"#3e4989\"],[0.3333333333333333,\"#31688e\"],[0.4444444444444444,\"#26828e\"],[0.5555555555555556,\"#1f9e89\"],[0.6666666666666666,\"#35b779\"],[0.7777777777777778,\"#6ece58\"],[0.8888888888888888,\"#b5de2b\"],[1.0,\"#fde725\"]],\"type\":\"histogram2d\"}],\"histogram\":[{\"marker\":{\"line\":{\"color\":\"white\",\"width\":0.6}},\"type\":\"histogram\"}],\"mesh3d\":[{\"colorbar\":{\"outlinewidth\":1,\"tickcolor\":\"rgb(36,36,36)\",\"ticks\":\"outside\"},\"type\":\"mesh3d\"}],\"parcoords\":[{\"line\":{\"colorbar\":{\"outlinewidth\":1,\"tickcolor\":\"rgb(36,36,36)\",\"ticks\":\"outside\"}},\"type\":\"parcoords\"}],\"pie\":[{\"automargin\":true,\"type\":\"pie\"}],\"scatter3d\":[{\"line\":{\"colorbar\":{\"outlinewidth\":1,\"tickcolor\":\"rgb(36,36,36)\",\"ticks\":\"outside\"}},\"marker\":{\"colorbar\":{\"outlinewidth\":1,\"tickcolor\":\"rgb(36,36,36)\",\"ticks\":\"outside\"}},\"type\":\"scatter3d\"}],\"scattercarpet\":[{\"marker\":{\"colorbar\":{\"outlinewidth\":1,\"tickcolor\":\"rgb(36,36,36)\",\"ticks\":\"outside\"}},\"type\":\"scattercarpet\"}],\"scattergeo\":[{\"marker\":{\"colorbar\":{\"outlinewidth\":1,\"tickcolor\":\"rgb(36,36,36)\",\"ticks\":\"outside\"}},\"type\":\"scattergeo\"}],\"scattergl\":[{\"marker\":{\"colorbar\":{\"outlinewidth\":1,\"tickcolor\":\"rgb(36,36,36)\",\"ticks\":\"outside\"}},\"type\":\"scattergl\"}],\"scattermapbox\":[{\"marker\":{\"colorbar\":{\"outlinewidth\":1,\"tickcolor\":\"rgb(36,36,36)\",\"ticks\":\"outside\"}},\"type\":\"scattermapbox\"}],\"scatterpolargl\":[{\"marker\":{\"colorbar\":{\"outlinewidth\":1,\"tickcolor\":\"rgb(36,36,36)\",\"ticks\":\"outside\"}},\"type\":\"scatterpolargl\"}],\"scatterpolar\":[{\"marker\":{\"colorbar\":{\"outlinewidth\":1,\"tickcolor\":\"rgb(36,36,36)\",\"ticks\":\"outside\"}},\"type\":\"scatterpolar\"}],\"scatter\":[{\"fillpattern\":{\"fillmode\":\"overlay\",\"size\":10,\"solidity\":0.2},\"type\":\"scatter\"}],\"scatterternary\":[{\"marker\":{\"colorbar\":{\"outlinewidth\":1,\"tickcolor\":\"rgb(36,36,36)\",\"ticks\":\"outside\"}},\"type\":\"scatterternary\"}],\"surface\":[{\"colorbar\":{\"outlinewidth\":1,\"tickcolor\":\"rgb(36,36,36)\",\"ticks\":\"outside\"},\"colorscale\":[[0.0,\"#440154\"],[0.1111111111111111,\"#482878\"],[0.2222222222222222,\"#3e4989\"],[0.3333333333333333,\"#31688e\"],[0.4444444444444444,\"#26828e\"],[0.5555555555555556,\"#1f9e89\"],[0.6666666666666666,\"#35b779\"],[0.7777777777777778,\"#6ece58\"],[0.8888888888888888,\"#b5de2b\"],[1.0,\"#fde725\"]],\"type\":\"surface\"}],\"table\":[{\"cells\":{\"fill\":{\"color\":\"rgb(237,237,237)\"},\"line\":{\"color\":\"white\"}},\"header\":{\"fill\":{\"color\":\"rgb(217,217,217)\"},\"line\":{\"color\":\"white\"}},\"type\":\"table\"}]},\"layout\":{\"annotationdefaults\":{\"arrowhead\":0,\"arrowwidth\":1},\"autotypenumbers\":\"strict\",\"coloraxis\":{\"colorbar\":{\"outlinewidth\":1,\"tickcolor\":\"rgb(36,36,36)\",\"ticks\":\"outside\"}},\"colorscale\":{\"diverging\":[[0.0,\"rgb(103,0,31)\"],[0.1,\"rgb(178,24,43)\"],[0.2,\"rgb(214,96,77)\"],[0.3,\"rgb(244,165,130)\"],[0.4,\"rgb(253,219,199)\"],[0.5,\"rgb(247,247,247)\"],[0.6,\"rgb(209,229,240)\"],[0.7,\"rgb(146,197,222)\"],[0.8,\"rgb(67,147,195)\"],[0.9,\"rgb(33,102,172)\"],[1.0,\"rgb(5,48,97)\"]],\"sequential\":[[0.0,\"#440154\"],[0.1111111111111111,\"#482878\"],[0.2222222222222222,\"#3e4989\"],[0.3333333333333333,\"#31688e\"],[0.4444444444444444,\"#26828e\"],[0.5555555555555556,\"#1f9e89\"],[0.6666666666666666,\"#35b779\"],[0.7777777777777778,\"#6ece58\"],[0.8888888888888888,\"#b5de2b\"],[1.0,\"#fde725\"]],\"sequentialminus\":[[0.0,\"#440154\"],[0.1111111111111111,\"#482878\"],[0.2222222222222222,\"#3e4989\"],[0.3333333333333333,\"#31688e\"],[0.4444444444444444,\"#26828e\"],[0.5555555555555556,\"#1f9e89\"],[0.6666666666666666,\"#35b779\"],[0.7777777777777778,\"#6ece58\"],[0.8888888888888888,\"#b5de2b\"],[1.0,\"#fde725\"]]},\"colorway\":[\"#1F77B4\",\"#FF7F0E\",\"#2CA02C\",\"#D62728\",\"#9467BD\",\"#8C564B\",\"#E377C2\",\"#7F7F7F\",\"#BCBD22\",\"#17BECF\"],\"font\":{\"color\":\"rgb(36,36,36)\"},\"geo\":{\"bgcolor\":\"white\",\"lakecolor\":\"white\",\"landcolor\":\"white\",\"showlakes\":true,\"showland\":true,\"subunitcolor\":\"white\"},\"hoverlabel\":{\"align\":\"left\"},\"hovermode\":\"closest\",\"mapbox\":{\"style\":\"light\"},\"paper_bgcolor\":\"white\",\"plot_bgcolor\":\"white\",\"polar\":{\"angularaxis\":{\"gridcolor\":\"rgb(232,232,232)\",\"linecolor\":\"rgb(36,36,36)\",\"showgrid\":false,\"showline\":true,\"ticks\":\"outside\"},\"bgcolor\":\"white\",\"radialaxis\":{\"gridcolor\":\"rgb(232,232,232)\",\"linecolor\":\"rgb(36,36,36)\",\"showgrid\":false,\"showline\":true,\"ticks\":\"outside\"}},\"scene\":{\"xaxis\":{\"backgroundcolor\":\"white\",\"gridcolor\":\"rgb(232,232,232)\",\"gridwidth\":2,\"linecolor\":\"rgb(36,36,36)\",\"showbackground\":true,\"showgrid\":false,\"showline\":true,\"ticks\":\"outside\",\"zeroline\":false,\"zerolinecolor\":\"rgb(36,36,36)\"},\"yaxis\":{\"backgroundcolor\":\"white\",\"gridcolor\":\"rgb(232,232,232)\",\"gridwidth\":2,\"linecolor\":\"rgb(36,36,36)\",\"showbackground\":true,\"showgrid\":false,\"showline\":true,\"ticks\":\"outside\",\"zeroline\":false,\"zerolinecolor\":\"rgb(36,36,36)\"},\"zaxis\":{\"backgroundcolor\":\"white\",\"gridcolor\":\"rgb(232,232,232)\",\"gridwidth\":2,\"linecolor\":\"rgb(36,36,36)\",\"showbackground\":true,\"showgrid\":false,\"showline\":true,\"ticks\":\"outside\",\"zeroline\":false,\"zerolinecolor\":\"rgb(36,36,36)\"}},\"shapedefaults\":{\"fillcolor\":\"black\",\"line\":{\"width\":0},\"opacity\":0.3},\"ternary\":{\"aaxis\":{\"gridcolor\":\"rgb(232,232,232)\",\"linecolor\":\"rgb(36,36,36)\",\"showgrid\":false,\"showline\":true,\"ticks\":\"outside\"},\"baxis\":{\"gridcolor\":\"rgb(232,232,232)\",\"linecolor\":\"rgb(36,36,36)\",\"showgrid\":false,\"showline\":true,\"ticks\":\"outside\"},\"bgcolor\":\"white\",\"caxis\":{\"gridcolor\":\"rgb(232,232,232)\",\"linecolor\":\"rgb(36,36,36)\",\"showgrid\":false,\"showline\":true,\"ticks\":\"outside\"}},\"title\":{\"x\":0.05},\"xaxis\":{\"automargin\":true,\"gridcolor\":\"rgb(232,232,232)\",\"linecolor\":\"rgb(36,36,36)\",\"showgrid\":false,\"showline\":true,\"ticks\":\"outside\",\"title\":{\"standoff\":15},\"zeroline\":false,\"zerolinecolor\":\"rgb(36,36,36)\"},\"yaxis\":{\"automargin\":true,\"gridcolor\":\"rgb(232,232,232)\",\"linecolor\":\"rgb(36,36,36)\",\"showgrid\":false,\"showline\":true,\"ticks\":\"outside\",\"title\":{\"standoff\":15},\"zeroline\":false,\"zerolinecolor\":\"rgb(36,36,36)\"}}},\"title\":{\"font\":{\"size\":20},\"text\":\"Correlation Matrix (impact relationship with numbers)\",\"x\":0.5},\"width\":1200,\"height\":1200},                        {\"responsive\": true}                    ).then(function(){\n                            \nvar gd = document.getElementById('bfa4dcdc-431d-416c-b327-f99da8a66832');\nvar x = new MutationObserver(function (mutations, observer) {{\n        var display = window.getComputedStyle(gd).display;\n        if (!display || display === 'none') {{\n            console.log([gd, 'removed!']);\n            Plotly.purge(gd);\n            observer.disconnect();\n        }}\n}});\n\n// Listen for the removal of the full notebook cells\nvar notebookContainer = gd.closest('#notebook-container');\nif (notebookContainer) {{\n    x.observe(notebookContainer, {childList: true});\n}}\n\n// Listen for the clearing of the current output cell\nvar outputEl = gd.closest('.output');\nif (outputEl) {{\n    x.observe(outputEl, {childList: true});\n}}\n\n                        })                };                });            </script>        </div>"
     },
     "metadata": {},
     "output_type": "display_data"
    }
   ],
   "source": [
    "import plotly.figure_factory as ff\n",
    "\n",
    "corr = df.corr()\n",
    "\n",
    "mask = np.triu(np.ones_like(corr, dtype=bool))\n",
    "corr = corr.mask(mask)\n",
    "fig = ff.create_annotated_heatmap(\n",
    "    z=corr.to_numpy().round(2),\n",
    "    x=list(corr.index.values),\n",
    "    y=list(corr.columns.values),\n",
    "    xgap=3, ygap=3,\n",
    "    zmin=-1, zmax=1,\n",
    "    colorscale='icefire',\n",
    "    colorbar_thickness=30,\n",
    "    colorbar_ticklen=3,\n",
    ")\n",
    "fig.update_layout(title_text='Correlation Matrix (impact relationship with numbers)',\n",
    "                  title_x=0.5,\n",
    "                  titlefont={'size': 20},\n",
    "                  width=1200, height=1200,\n",
    "                  xaxis_showgrid=False,\n",
    "                  xaxis={'side': 'bottom'},\n",
    "                  yaxis_showgrid=False,\n",
    "                  yaxis_autorange='reversed',\n",
    "                  paper_bgcolor=None,\n",
    "                  template=\"simple_white\"\n",
    "                  )\n",
    "\n",
    "for i in range(len(fig.layout.annotations)):\n",
    "    if fig.layout.annotations[i].text == 'nan':\n",
    "        fig.layout.annotations[i].text = \"\"\n",
    "\n",
    "fig.show()"
   ]
  },
  {
   "cell_type": "code",
   "execution_count": 33,
   "outputs": [
    {
     "data": {
      "text/plain": "        back_legroom  bed bed_height bed_length        body_type cabin  \\\n0            35.1 in  NaN        NaN        NaN  SUV / Crossover   NaN   \n1            38.1 in  NaN        NaN        NaN  SUV / Crossover   NaN   \n2            35.4 in  NaN        NaN        NaN            Sedan   NaN   \n3            37.6 in  NaN        NaN        NaN  SUV / Crossover   NaN   \n4            38.1 in  NaN        NaN        NaN  SUV / Crossover   NaN   \n...              ...  ...        ...        ...              ...   ...   \n3000035      39.7 in  NaN        NaN        NaN  SUV / Crossover   NaN   \n3000036      38.4 in  NaN        NaN        NaN  SUV / Crossover   NaN   \n3000037      38.3 in  NaN        NaN        NaN            Sedan   NaN   \n3000038        35 in  NaN        NaN        NaN            Sedan   NaN   \n3000039      37.9 in  NaN        NaN        NaN  SUV / Crossover   NaN   \n\n         city_fuel_economy  combine_fuel_economy  \\\n0                      NaN                   NaN   \n1                      NaN                   NaN   \n2                     17.0                   NaN   \n3                      NaN                   NaN   \n4                      NaN                   NaN   \n...                    ...                   ...   \n3000035               26.0                   NaN   \n3000036               18.0                   NaN   \n3000037                NaN                   NaN   \n3000038               30.0                   NaN   \n3000039               26.0                   NaN   \n\n                                               description engine_cylinders  \\\n0        [!@@Additional Info@@!]Engine: 2.4L I4 ZERO EV...               I4   \n1        [!@@Additional Info@@!]Keyless Entry,Ebony Mor...               I4   \n2                                                      NaN               H4   \n3        [!@@Additional Info@@!]Fog Lights,7 Seat Packa...               V6   \n4        [!@@Additional Info@@!]Keyless Entry,Ebony Mor...               I4   \n...                                                    ...              ...   \n3000035  CarMax Curbside is now available at select sto...               I4   \n3000036  Prices do not include government fees and taxe...               V6   \n3000037  Introducing the 2016 Ford Fusion! Offering an ...              NaN   \n3000038  CarMax Curbside is now available at select sto...        I4 Diesel   \n3000039  Here it is!! In these economic times, a super ...               I4   \n\n         ...                 torque transmission         transmission_display  \\\n0        ...  200 lb-ft @ 1,750 RPM            A  9-Speed Automatic Overdrive   \n1        ...  269 lb-ft @ 1,400 RPM            A  9-Speed Automatic Overdrive   \n2        ...  290 lb-ft @ 4,000 RPM            M               6-Speed Manual   \n3        ...  332 lb-ft @ 3,500 RPM            A  8-Speed Automatic Overdrive   \n4        ...  269 lb-ft @ 1,400 RPM            A  9-Speed Automatic Overdrive   \n...      ...                    ...          ...                          ...   \n3000035  ...                    NaN            A                    Automatic   \n3000036  ...  266 lb-ft @ 2,800 RPM            A                    Automatic   \n3000037  ...  270 lb-ft @ 1,750 RPM            A  6-Speed Automatic Overdrive   \n3000038  ...  318 lb-ft @ 1,750 RPM            A                    Automatic   \n3000039  ...  175 lb-ft @ 4,400 RPM            A                    Automatic   \n\n         trimId        trim_name vehicle_damage_category wheel_system  \\\n0        t83804     Latitude FWD                     NaN          FWD   \n1        t86759            S AWD                     NaN          AWD   \n2        t58994             Base                     NaN          AWD   \n3        t86074       V6 HSE AWD                     NaN          AWD   \n4        t86759            S AWD                     NaN          AWD   \n...         ...              ...                     ...          ...   \n3000035  t72936      1.5T LT FWD                     NaN          FWD   \n3000036  t85763           LS FWD                     NaN          FWD   \n3000037  t57569               SE                     NaN          FWD   \n3000038  t65977  20d Premium AWD                     NaN          AWD   \n3000039  t76529    2017.5 SV FWD                     NaN          FWD   \n\n        wheel_system_display wheelbase    width  \n0          Front-Wheel Drive  101.2 in  79.6 in  \n1            All-Wheel Drive  107.9 in  85.6 in  \n2            All-Wheel Drive  104.3 in  78.9 in  \n3            All-Wheel Drive    115 in  87.4 in  \n4            All-Wheel Drive  107.9 in  85.6 in  \n...                      ...       ...      ...  \n3000035    Front-Wheel Drive  107.3 in  72.6 in  \n3000036    Front-Wheel Drive  120.9 in  78.6 in  \n3000037    Front-Wheel Drive  112.2 in  83.5 in  \n3000038      All-Wheel Drive  111.6 in  81.7 in  \n3000039    Front-Wheel Drive  106.5 in  72.4 in  \n\n[3000040 rows x 49 columns]",
      "text/html": "<div>\n<style scoped>\n    .dataframe tbody tr th:only-of-type {\n        vertical-align: middle;\n    }\n\n    .dataframe tbody tr th {\n        vertical-align: top;\n    }\n\n    .dataframe thead th {\n        text-align: right;\n    }\n</style>\n<table border=\"1\" class=\"dataframe\">\n  <thead>\n    <tr style=\"text-align: right;\">\n      <th></th>\n      <th>back_legroom</th>\n      <th>bed</th>\n      <th>bed_height</th>\n      <th>bed_length</th>\n      <th>body_type</th>\n      <th>cabin</th>\n      <th>city_fuel_economy</th>\n      <th>combine_fuel_economy</th>\n      <th>description</th>\n      <th>engine_cylinders</th>\n      <th>...</th>\n      <th>torque</th>\n      <th>transmission</th>\n      <th>transmission_display</th>\n      <th>trimId</th>\n      <th>trim_name</th>\n      <th>vehicle_damage_category</th>\n      <th>wheel_system</th>\n      <th>wheel_system_display</th>\n      <th>wheelbase</th>\n      <th>width</th>\n    </tr>\n  </thead>\n  <tbody>\n    <tr>\n      <th>0</th>\n      <td>35.1 in</td>\n      <td>NaN</td>\n      <td>NaN</td>\n      <td>NaN</td>\n      <td>SUV / Crossover</td>\n      <td>NaN</td>\n      <td>NaN</td>\n      <td>NaN</td>\n      <td>[!@@Additional Info@@!]Engine: 2.4L I4 ZERO EV...</td>\n      <td>I4</td>\n      <td>...</td>\n      <td>200 lb-ft @ 1,750 RPM</td>\n      <td>A</td>\n      <td>9-Speed Automatic Overdrive</td>\n      <td>t83804</td>\n      <td>Latitude FWD</td>\n      <td>NaN</td>\n      <td>FWD</td>\n      <td>Front-Wheel Drive</td>\n      <td>101.2 in</td>\n      <td>79.6 in</td>\n    </tr>\n    <tr>\n      <th>1</th>\n      <td>38.1 in</td>\n      <td>NaN</td>\n      <td>NaN</td>\n      <td>NaN</td>\n      <td>SUV / Crossover</td>\n      <td>NaN</td>\n      <td>NaN</td>\n      <td>NaN</td>\n      <td>[!@@Additional Info@@!]Keyless Entry,Ebony Mor...</td>\n      <td>I4</td>\n      <td>...</td>\n      <td>269 lb-ft @ 1,400 RPM</td>\n      <td>A</td>\n      <td>9-Speed Automatic Overdrive</td>\n      <td>t86759</td>\n      <td>S AWD</td>\n      <td>NaN</td>\n      <td>AWD</td>\n      <td>All-Wheel Drive</td>\n      <td>107.9 in</td>\n      <td>85.6 in</td>\n    </tr>\n    <tr>\n      <th>2</th>\n      <td>35.4 in</td>\n      <td>NaN</td>\n      <td>NaN</td>\n      <td>NaN</td>\n      <td>Sedan</td>\n      <td>NaN</td>\n      <td>17.0</td>\n      <td>NaN</td>\n      <td>NaN</td>\n      <td>H4</td>\n      <td>...</td>\n      <td>290 lb-ft @ 4,000 RPM</td>\n      <td>M</td>\n      <td>6-Speed Manual</td>\n      <td>t58994</td>\n      <td>Base</td>\n      <td>NaN</td>\n      <td>AWD</td>\n      <td>All-Wheel Drive</td>\n      <td>104.3 in</td>\n      <td>78.9 in</td>\n    </tr>\n    <tr>\n      <th>3</th>\n      <td>37.6 in</td>\n      <td>NaN</td>\n      <td>NaN</td>\n      <td>NaN</td>\n      <td>SUV / Crossover</td>\n      <td>NaN</td>\n      <td>NaN</td>\n      <td>NaN</td>\n      <td>[!@@Additional Info@@!]Fog Lights,7 Seat Packa...</td>\n      <td>V6</td>\n      <td>...</td>\n      <td>332 lb-ft @ 3,500 RPM</td>\n      <td>A</td>\n      <td>8-Speed Automatic Overdrive</td>\n      <td>t86074</td>\n      <td>V6 HSE AWD</td>\n      <td>NaN</td>\n      <td>AWD</td>\n      <td>All-Wheel Drive</td>\n      <td>115 in</td>\n      <td>87.4 in</td>\n    </tr>\n    <tr>\n      <th>4</th>\n      <td>38.1 in</td>\n      <td>NaN</td>\n      <td>NaN</td>\n      <td>NaN</td>\n      <td>SUV / Crossover</td>\n      <td>NaN</td>\n      <td>NaN</td>\n      <td>NaN</td>\n      <td>[!@@Additional Info@@!]Keyless Entry,Ebony Mor...</td>\n      <td>I4</td>\n      <td>...</td>\n      <td>269 lb-ft @ 1,400 RPM</td>\n      <td>A</td>\n      <td>9-Speed Automatic Overdrive</td>\n      <td>t86759</td>\n      <td>S AWD</td>\n      <td>NaN</td>\n      <td>AWD</td>\n      <td>All-Wheel Drive</td>\n      <td>107.9 in</td>\n      <td>85.6 in</td>\n    </tr>\n    <tr>\n      <th>...</th>\n      <td>...</td>\n      <td>...</td>\n      <td>...</td>\n      <td>...</td>\n      <td>...</td>\n      <td>...</td>\n      <td>...</td>\n      <td>...</td>\n      <td>...</td>\n      <td>...</td>\n      <td>...</td>\n      <td>...</td>\n      <td>...</td>\n      <td>...</td>\n      <td>...</td>\n      <td>...</td>\n      <td>...</td>\n      <td>...</td>\n      <td>...</td>\n      <td>...</td>\n      <td>...</td>\n    </tr>\n    <tr>\n      <th>3000035</th>\n      <td>39.7 in</td>\n      <td>NaN</td>\n      <td>NaN</td>\n      <td>NaN</td>\n      <td>SUV / Crossover</td>\n      <td>NaN</td>\n      <td>26.0</td>\n      <td>NaN</td>\n      <td>CarMax Curbside is now available at select sto...</td>\n      <td>I4</td>\n      <td>...</td>\n      <td>NaN</td>\n      <td>A</td>\n      <td>Automatic</td>\n      <td>t72936</td>\n      <td>1.5T LT FWD</td>\n      <td>NaN</td>\n      <td>FWD</td>\n      <td>Front-Wheel Drive</td>\n      <td>107.3 in</td>\n      <td>72.6 in</td>\n    </tr>\n    <tr>\n      <th>3000036</th>\n      <td>38.4 in</td>\n      <td>NaN</td>\n      <td>NaN</td>\n      <td>NaN</td>\n      <td>SUV / Crossover</td>\n      <td>NaN</td>\n      <td>18.0</td>\n      <td>NaN</td>\n      <td>Prices do not include government fees and taxe...</td>\n      <td>V6</td>\n      <td>...</td>\n      <td>266 lb-ft @ 2,800 RPM</td>\n      <td>A</td>\n      <td>Automatic</td>\n      <td>t85763</td>\n      <td>LS FWD</td>\n      <td>NaN</td>\n      <td>FWD</td>\n      <td>Front-Wheel Drive</td>\n      <td>120.9 in</td>\n      <td>78.6 in</td>\n    </tr>\n    <tr>\n      <th>3000037</th>\n      <td>38.3 in</td>\n      <td>NaN</td>\n      <td>NaN</td>\n      <td>NaN</td>\n      <td>Sedan</td>\n      <td>NaN</td>\n      <td>NaN</td>\n      <td>NaN</td>\n      <td>Introducing the 2016 Ford Fusion! Offering an ...</td>\n      <td>NaN</td>\n      <td>...</td>\n      <td>270 lb-ft @ 1,750 RPM</td>\n      <td>A</td>\n      <td>6-Speed Automatic Overdrive</td>\n      <td>t57569</td>\n      <td>SE</td>\n      <td>NaN</td>\n      <td>FWD</td>\n      <td>Front-Wheel Drive</td>\n      <td>112.2 in</td>\n      <td>83.5 in</td>\n    </tr>\n    <tr>\n      <th>3000038</th>\n      <td>35 in</td>\n      <td>NaN</td>\n      <td>NaN</td>\n      <td>NaN</td>\n      <td>Sedan</td>\n      <td>NaN</td>\n      <td>30.0</td>\n      <td>NaN</td>\n      <td>CarMax Curbside is now available at select sto...</td>\n      <td>I4 Diesel</td>\n      <td>...</td>\n      <td>318 lb-ft @ 1,750 RPM</td>\n      <td>A</td>\n      <td>Automatic</td>\n      <td>t65977</td>\n      <td>20d Premium AWD</td>\n      <td>NaN</td>\n      <td>AWD</td>\n      <td>All-Wheel Drive</td>\n      <td>111.6 in</td>\n      <td>81.7 in</td>\n    </tr>\n    <tr>\n      <th>3000039</th>\n      <td>37.9 in</td>\n      <td>NaN</td>\n      <td>NaN</td>\n      <td>NaN</td>\n      <td>SUV / Crossover</td>\n      <td>NaN</td>\n      <td>26.0</td>\n      <td>NaN</td>\n      <td>Here it is!! In these economic times, a super ...</td>\n      <td>I4</td>\n      <td>...</td>\n      <td>175 lb-ft @ 4,400 RPM</td>\n      <td>A</td>\n      <td>Automatic</td>\n      <td>t76529</td>\n      <td>2017.5 SV FWD</td>\n      <td>NaN</td>\n      <td>FWD</td>\n      <td>Front-Wheel Drive</td>\n      <td>106.5 in</td>\n      <td>72.4 in</td>\n    </tr>\n  </tbody>\n</table>\n<p>3000040 rows × 49 columns</p>\n</div>"
     },
     "execution_count": 33,
     "metadata": {},
     "output_type": "execute_result"
    }
   ],
   "source": [
    "df[df.columns[df.isna().any()]]"
   ],
   "metadata": {
    "collapsed": false,
    "pycharm": {
     "name": "#%%\n"
    }
   }
  },
  {
   "cell_type": "code",
   "execution_count": 34,
   "outputs": [
    {
     "data": {
      "text/plain": "vehicle_damage_category    1.000000\ncombine_fuel_economy       1.000000\nis_certified               1.000000\nbed                        0.993477\ncabin                      0.978823\n                             ...   \nfranchise_dealer           0.000000\ndealer_zip                 0.000000\ndaysonmarket               0.000000\ncity                       0.000000\nyear                       0.000000\nLength: 66, dtype: float64"
     },
     "execution_count": 34,
     "metadata": {},
     "output_type": "execute_result"
    }
   ],
   "source": [
    "missing_df = df.isna().mean()\n",
    "missing_df.reset_index()\n",
    "missing_df.sort_values(ascending=False, inplace=True)\n",
    "missing_df"
   ],
   "metadata": {
    "collapsed": false,
    "pycharm": {
     "name": "#%%\n"
    }
   }
  },
  {
   "cell_type": "code",
   "execution_count": 35,
   "outputs": [],
   "source": [
    "df.drop(columns=['vehicle_damage_category', 'combine_fuel_economy', 'is_certified', 'bed', 'cabin', 'is_oemcpo', 'is_cpo' ], axis=1, inplace=True)"
   ],
   "metadata": {
    "collapsed": false,
    "pycharm": {
     "name": "#%%\n"
    }
   }
  },
  {
   "cell_type": "code",
   "execution_count": 36,
   "outputs": [
    {
     "data": {
      "text/plain": "bed_height              0.856969\nbed_length              0.856969\nowner_count             0.505664\nsalvage                 0.475525\nhas_accidents           0.475525\nisCab                   0.475525\nframe_damaged           0.475525\nfleet                   0.475525\ntheft_title             0.475525\nfranchise_make          0.190876\ntorque                  0.172595\ncity_fuel_economy       0.163759\nhighway_fuel_economy    0.163759\npower                   0.160473\nmain_picture_url        0.123029\nmajor_options           0.066682\nengine_displacement     0.057461\nhorsepower              0.057461\nback_legroom            0.053089\nmaximum_seating         0.053089\nlength                  0.053089\nheight                  0.053089\nfuel_tank_volume        0.053089\nfront_legroom           0.053089\nwidth                   0.053089\nwheelbase               0.053089\nwheel_system            0.048910\nwheel_system_display    0.048910\nmileage                 0.048128\ntrim_name               0.038764\ntrimId                  0.038608\nengine_cylinders        0.033527\nengine_type             0.033527\nfuel_type               0.027574\ndescription             0.025967\ntransmission            0.021395\ntransmission_display    0.021395\nseller_rating           0.013624\nbody_type               0.004514\ninterior_color          0.000055\nsp_id                   0.000032\nexterior_color          0.000009\nsavings_amount          0.000000\nsp_name                 0.000000\nvin                     0.000000\nprice                   0.000000\nmodel_name              0.000000\nmake_name               0.000000\nlongitude               0.000000\nlisting_id              0.000000\nlisting_color           0.000000\nlisted_date             0.000000\nlatitude                0.000000\nis_new                  0.000000\nfranchise_dealer        0.000000\ndealer_zip              0.000000\ndaysonmarket            0.000000\ncity                    0.000000\nyear                    0.000000\ndtype: float64"
     },
     "execution_count": 36,
     "metadata": {},
     "output_type": "execute_result"
    }
   ],
   "source": [
    "missing_df = df.isna().mean()\n",
    "missing_df.reset_index()\n",
    "missing_df.sort_values(ascending=False, inplace=True)\n",
    "missing_df"
   ],
   "metadata": {
    "collapsed": false,
    "pycharm": {
     "name": "#%%\n"
    }
   }
  },
  {
   "cell_type": "code",
   "execution_count": null,
   "outputs": [],
   "source": [],
   "metadata": {
    "collapsed": false,
    "pycharm": {
     "name": "#%%\n"
    }
   }
  }
 ],
 "metadata": {
  "kernelspec": {
   "display_name": "Python 3 (ipykernel)",
   "language": "python",
   "name": "python3"
  },
  "language_info": {
   "codemirror_mode": {
    "name": "ipython",
    "version": 3
   },
   "file_extension": ".py",
   "mimetype": "text/x-python",
   "name": "python",
   "nbconvert_exporter": "python",
   "pygments_lexer": "ipython3",
   "version": "3.9.12"
  }
 },
 "nbformat": 4,
 "nbformat_minor": 1
}