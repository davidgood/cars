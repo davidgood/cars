{
 "cells": [
  {
   "cell_type": "code",
   "execution_count": 2,
   "metadata": {
    "collapsed": true
   },
   "outputs": [
    {
     "name": "stderr",
     "output_type": "stream",
     "text": [
      "/var/folders/bd/590xbzl52c5_spq132c1qdjh0000gn/T/ipykernel_39371/519918917.py:3: DtypeWarning: Columns (11) have mixed types. Specify dtype option on import or set low_memory=False.\n",
      "  df = pd.read_csv(\"../data/raw/used_cars_data.csv.zip\")\n"
     ]
    },
    {
     "data": {
      "text/plain": "                 vin back_legroom  bed bed_height bed_length        body_type  \\\n0  ZACNJABB5KPJ92081      35.1 in  NaN        NaN        NaN  SUV / Crossover   \n1  SALCJ2FX1LH858117      38.1 in  NaN        NaN        NaN  SUV / Crossover   \n2  JF1VA2M67G9829723      35.4 in  NaN        NaN        NaN            Sedan   \n3  SALRR2RV0L2433391      37.6 in  NaN        NaN        NaN  SUV / Crossover   \n4  SALCJ2FXXLH862327      38.1 in  NaN        NaN        NaN  SUV / Crossover   \n\n  cabin      city  city_fuel_economy  combine_fuel_economy  ...  transmission  \\\n0   NaN   Bayamon                NaN                   NaN  ...             A   \n1   NaN  San Juan                NaN                   NaN  ...             A   \n2   NaN  Guaynabo               17.0                   NaN  ...             M   \n3   NaN  San Juan                NaN                   NaN  ...             A   \n4   NaN  San Juan                NaN                   NaN  ...             A   \n\n          transmission_display  trimId     trim_name  vehicle_damage_category  \\\n0  9-Speed Automatic Overdrive  t83804  Latitude FWD                      NaN   \n1  9-Speed Automatic Overdrive  t86759         S AWD                      NaN   \n2               6-Speed Manual  t58994          Base                      NaN   \n3  8-Speed Automatic Overdrive  t86074    V6 HSE AWD                      NaN   \n4  9-Speed Automatic Overdrive  t86759         S AWD                      NaN   \n\n  wheel_system wheel_system_display wheelbase    width  year  \n0          FWD    Front-Wheel Drive  101.2 in  79.6 in  2019  \n1          AWD      All-Wheel Drive  107.9 in  85.6 in  2020  \n2          AWD      All-Wheel Drive  104.3 in  78.9 in  2016  \n3          AWD      All-Wheel Drive    115 in  87.4 in  2020  \n4          AWD      All-Wheel Drive  107.9 in  85.6 in  2020  \n\n[5 rows x 66 columns]",
      "text/html": "<div>\n<style scoped>\n    .dataframe tbody tr th:only-of-type {\n        vertical-align: middle;\n    }\n\n    .dataframe tbody tr th {\n        vertical-align: top;\n    }\n\n    .dataframe thead th {\n        text-align: right;\n    }\n</style>\n<table border=\"1\" class=\"dataframe\">\n  <thead>\n    <tr style=\"text-align: right;\">\n      <th></th>\n      <th>vin</th>\n      <th>back_legroom</th>\n      <th>bed</th>\n      <th>bed_height</th>\n      <th>bed_length</th>\n      <th>body_type</th>\n      <th>cabin</th>\n      <th>city</th>\n      <th>city_fuel_economy</th>\n      <th>combine_fuel_economy</th>\n      <th>...</th>\n      <th>transmission</th>\n      <th>transmission_display</th>\n      <th>trimId</th>\n      <th>trim_name</th>\n      <th>vehicle_damage_category</th>\n      <th>wheel_system</th>\n      <th>wheel_system_display</th>\n      <th>wheelbase</th>\n      <th>width</th>\n      <th>year</th>\n    </tr>\n  </thead>\n  <tbody>\n    <tr>\n      <th>0</th>\n      <td>ZACNJABB5KPJ92081</td>\n      <td>35.1 in</td>\n      <td>NaN</td>\n      <td>NaN</td>\n      <td>NaN</td>\n      <td>SUV / Crossover</td>\n      <td>NaN</td>\n      <td>Bayamon</td>\n      <td>NaN</td>\n      <td>NaN</td>\n      <td>...</td>\n      <td>A</td>\n      <td>9-Speed Automatic Overdrive</td>\n      <td>t83804</td>\n      <td>Latitude FWD</td>\n      <td>NaN</td>\n      <td>FWD</td>\n      <td>Front-Wheel Drive</td>\n      <td>101.2 in</td>\n      <td>79.6 in</td>\n      <td>2019</td>\n    </tr>\n    <tr>\n      <th>1</th>\n      <td>SALCJ2FX1LH858117</td>\n      <td>38.1 in</td>\n      <td>NaN</td>\n      <td>NaN</td>\n      <td>NaN</td>\n      <td>SUV / Crossover</td>\n      <td>NaN</td>\n      <td>San Juan</td>\n      <td>NaN</td>\n      <td>NaN</td>\n      <td>...</td>\n      <td>A</td>\n      <td>9-Speed Automatic Overdrive</td>\n      <td>t86759</td>\n      <td>S AWD</td>\n      <td>NaN</td>\n      <td>AWD</td>\n      <td>All-Wheel Drive</td>\n      <td>107.9 in</td>\n      <td>85.6 in</td>\n      <td>2020</td>\n    </tr>\n    <tr>\n      <th>2</th>\n      <td>JF1VA2M67G9829723</td>\n      <td>35.4 in</td>\n      <td>NaN</td>\n      <td>NaN</td>\n      <td>NaN</td>\n      <td>Sedan</td>\n      <td>NaN</td>\n      <td>Guaynabo</td>\n      <td>17.0</td>\n      <td>NaN</td>\n      <td>...</td>\n      <td>M</td>\n      <td>6-Speed Manual</td>\n      <td>t58994</td>\n      <td>Base</td>\n      <td>NaN</td>\n      <td>AWD</td>\n      <td>All-Wheel Drive</td>\n      <td>104.3 in</td>\n      <td>78.9 in</td>\n      <td>2016</td>\n    </tr>\n    <tr>\n      <th>3</th>\n      <td>SALRR2RV0L2433391</td>\n      <td>37.6 in</td>\n      <td>NaN</td>\n      <td>NaN</td>\n      <td>NaN</td>\n      <td>SUV / Crossover</td>\n      <td>NaN</td>\n      <td>San Juan</td>\n      <td>NaN</td>\n      <td>NaN</td>\n      <td>...</td>\n      <td>A</td>\n      <td>8-Speed Automatic Overdrive</td>\n      <td>t86074</td>\n      <td>V6 HSE AWD</td>\n      <td>NaN</td>\n      <td>AWD</td>\n      <td>All-Wheel Drive</td>\n      <td>115 in</td>\n      <td>87.4 in</td>\n      <td>2020</td>\n    </tr>\n    <tr>\n      <th>4</th>\n      <td>SALCJ2FXXLH862327</td>\n      <td>38.1 in</td>\n      <td>NaN</td>\n      <td>NaN</td>\n      <td>NaN</td>\n      <td>SUV / Crossover</td>\n      <td>NaN</td>\n      <td>San Juan</td>\n      <td>NaN</td>\n      <td>NaN</td>\n      <td>...</td>\n      <td>A</td>\n      <td>9-Speed Automatic Overdrive</td>\n      <td>t86759</td>\n      <td>S AWD</td>\n      <td>NaN</td>\n      <td>AWD</td>\n      <td>All-Wheel Drive</td>\n      <td>107.9 in</td>\n      <td>85.6 in</td>\n      <td>2020</td>\n    </tr>\n  </tbody>\n</table>\n<p>5 rows × 66 columns</p>\n</div>"
     },
     "execution_count": 2,
     "metadata": {},
     "output_type": "execute_result"
    }
   ],
   "source": [
    "import pandas as pd\n",
    "\n",
    "df = pd.read_csv(\"../data/raw/used_cars_data.csv.zip\")\n",
    "\n",
    "df.head()"
   ]
  }
 ],
 "metadata": {
  "kernelspec": {
   "name": "base",
   "language": "python",
   "display_name": "base"
  },
  "language_info": {
   "codemirror_mode": {
    "name": "ipython",
    "version": 2
   },
   "file_extension": ".py",
   "mimetype": "text/x-python",
   "name": "python",
   "nbconvert_exporter": "python",
   "pygments_lexer": "ipython2",
   "version": "2.7.6"
  }
 },
 "nbformat": 4,
 "nbformat_minor": 0
}